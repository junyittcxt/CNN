{
 "cells": [
  {
   "cell_type": "code",
   "execution_count": 93,
   "metadata": {},
   "outputs": [
    {
     "data": {
      "text/plain": [
       "{'DATA_PARAMS': {'raw_data_folder': 'DATA',\n",
       "  'raw_data_file_name': 'PRICE_LIQUIDASSET_60_MIN.csv',\n",
       "  'raw_data_file': '1__need_parse/filepath',\n",
       "  'raw_date_split': ['20110101', '20130101', '20170101'],\n",
       "  'end_split': '2__need_parse/datetime',\n",
       "  'possible_assets': '3a__need_parse',\n",
       "  'TARGET_TO_PREDICT': '3__need_parse/SPY',\n",
       "  'TimeFrame': '4__need_parse/D0H0M30',\n",
       "  'BREAKOUT_WINDOW': 60,\n",
       "  'SEQ_LEN': 60,\n",
       "  'FUTURE_PERIOD_PREDICT': 10,\n",
       "  'TARGET_FUNCTION': 'mod_prob',\n",
       "  'TARGET_THRESHOLD': -0.2,\n",
       "  'trade_direction': 'Auto/Long/Short',\n",
       "  'FLIP': '4__need_parse/True/False',\n",
       "  'CLEAN_METHOD_X': 'prob_only_x'},\n",
       " 'MODEL_PARAMS': {'device': '1',\n",
       "  'keras_model_function': 'rnn_model_conf_1_best',\n",
       "  'BATCH_SIZE': 256,\n",
       "  'EPOCHS': 900,\n",
       "  'LEARNING_RATE': 2.5e-05,\n",
       "  'training_number': 'W012S',\n",
       "  'training_code': '5__need_parse/C001_D0H0M30_B/C001_D0H0M30_S',\n",
       "  'root_output_folder': '/media/workstation/Storage/DL_Output'},\n",
       " 'num_instances': 4}"
      ]
     },
     "execution_count": 93,
     "metadata": {},
     "output_type": "execute_result"
    }
   ],
   "source": [
    "import json\n",
    "import json_generator_function\n",
    "\n",
    "template = json_generator_function.gen_template()\n",
    "\n",
    "template[\"MODEL_PARAMS\"][\"training_number\"] = \"W012S\"\n",
    "\n",
    "template[\"DATA_PARAMS\"][\"raw_data_file_name\"] = \"PRICE_LIQUIDASSET_60_MIN.csv\"\n",
    "\n",
    "template[\"DATA_PARAMS\"][\"CLEAN_METHOD_X\"] = \"prob_only_x\" #\"breakout_only_x, prob_only_x\"\n",
    "template[\"DATA_PARAMS\"][\"BREAKOUT_WINDOW\"] = 60\n",
    "template[\"DATA_PARAMS\"][\"SEQ_LEN\"] = 60\n",
    "template[\"DATA_PARAMS\"][\"FUTURE_PERIOD_PREDICT\"] = 10\n",
    "\n",
    "template[\"DATA_PARAMS\"][\"TARGET_FUNCTION\"] = \"mod_prob\" #\"mod_sharpe, mod_prob\", \"cumulative_returns\"\n",
    "template[\"DATA_PARAMS\"][\"TARGET_THRESHOLD\"] = -0.2\n",
    "\n",
    "template[\"MODEL_PARAMS\"][\"device\"] = '1'\n",
    "template[\"num_instances\"] = 4\n",
    "\n",
    "\n",
    "\n",
    "template[\"MODEL_PARAMS\"][\"keras_model_function\"] = 'rnn_model_conf_1_best'\n",
    "template[\"MODEL_PARAMS\"][\"BATCH_SIZE\"] = 256\n",
    "template[\"MODEL_PARAMS\"][\"EPOCHS\"] = 900\n",
    "template[\"MODEL_PARAMS\"][\"LEARNING_RATE\"] = 0.000025\n",
    "\n",
    "template[\"MODEL_PARAMS\"][\"root_output_folder\"] = '/media/workstation/Storage/DL_Output'\n",
    "# template[\"MODEL_PARAMS\"][\"root_output_folder\"] = '//OFC-THR-LWS/DLOutput'\n",
    "\n",
    "template"
   ]
  },
  {
   "cell_type": "code",
   "execution_count": 94,
   "metadata": {},
   "outputs": [
    {
     "name": "stdout",
     "output_type": "stream",
     "text": [
      "Output: Done! json_setup/W012S.json\n"
     ]
    }
   ],
   "source": [
    "import os\n",
    "out_path = os.path.join(\"json_setup\", template[\"MODEL_PARAMS\"][\"training_number\"] + '.json')\n",
    "if os.path.isfile(out_path):\n",
    "    print(\"FILE EXIST!\")\n",
    "else:\n",
    "    with open(out_path, 'w') as outfile:\n",
    "        json.dump(template, outfile)\n",
    "    print(\"Output: Done!\", out_path)"
   ]
  },
  {
   "cell_type": "code",
   "execution_count": null,
   "metadata": {},
   "outputs": [],
   "source": []
  }
 ],
 "metadata": {
  "kernelspec": {
   "display_name": "Python 3",
   "language": "python",
   "name": "python3"
  },
  "language_info": {
   "codemirror_mode": {
    "name": "ipython",
    "version": 3
   },
   "file_extension": ".py",
   "mimetype": "text/x-python",
   "name": "python",
   "nbconvert_exporter": "python",
   "pygments_lexer": "ipython3",
   "version": "3.6.6"
  }
 },
 "nbformat": 4,
 "nbformat_minor": 2
}
