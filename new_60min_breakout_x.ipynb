{
 "cells": [
  {
   "cell_type": "code",
   "execution_count": 21,
   "metadata": {},
   "outputs": [],
   "source": [
    "from cnn_method import *\n",
    "from cnn_preproc_function import *\n",
    "\n",
    "import optparse\n",
    "import numpy as np\n",
    "import pandas as pd\n",
    "\n",
    "import sklearn\n",
    "from sklearn import preprocessing\n",
    "\n",
    "import keras\n",
    "import tensorflow as tf\n",
    "\n",
    "from keras_model_configuration import *\n",
    "from keras_metric import *\n",
    "\n",
    "import datetime\n",
    "import time\n",
    "import os\n",
    "\n",
    "raw_data_file =  \"./DATA/PRICE_LIQUIDASSET_60_MIN.csv\"\n",
    "TARGET_TO_PREDICT = \"EURUSD\"\n",
    "FUTURE_PERIOD_PREDICT = 1\n",
    "\n",
    "TARGET_FUNCTION = \"cumulative_returns\"\n",
    "TARGET_THRESHOLD = 0.001\n",
    "BREAKOUT_WINDOW = 60"
   ]
  },
  {
   "cell_type": "code",
   "execution_count": 22,
   "metadata": {},
   "outputs": [],
   "source": [
    "def create_target_2(df, target_col, FUTURE_PERIOD_PREDICT, TARGET_FUNCTION = \"cumulative_returns\", keras_preproc = True):\n",
    "    if TARGET_FUNCTION == \"cumulative_returns\":\n",
    "        TARGET_FUNCTION_R = cumulative_returns\n",
    "    elif TARGET_FUNCTION == \"mod_sharpe\":\n",
    "        TARGET_FUNCTION_R = mod_sharpe\n",
    "\n",
    "    df.loc[:,'target'] = df[target_col].rolling(window = FUTURE_PERIOD_PREDICT).apply(lambda x: TARGET_FUNCTION_R(x))\n",
    "    df.loc[:,'target'] = df['target'].shift(-FUTURE_PERIOD_PREDICT+1)\n",
    "    df = df.dropna()\n",
    "    return df\n",
    "\n",
    "\n",
    "def clean_data_breakout_x(df, target_col, breakout_window = 60):\n",
    "    price_df = df.fillna(method = \"ffill\").dropna()\n",
    "    return_df = df.pct_change()\n",
    "\n",
    "    return_df = filter_off_trading_day(return_df, target_col)\n",
    "    filtered_index = return_df.index\n",
    "    price_df = price_df.reindex(filtered_index)\n",
    "    x_df = price_df.rolling(window = breakout_window).apply(lambda x: breakout(x)*1,raw = False)\n",
    "    return_df[\"target\"] = return_df[target_col]\n",
    "    fdf = pd.merge(x_df, return_df[[\"target\"]], left_index = True, right_index = True)\n",
    "    fdf.dropna()\n",
    "\n",
    "    return fdf"
   ]
  },
  {
   "cell_type": "code",
   "execution_count": 23,
   "metadata": {},
   "outputs": [
    {
     "name": "stdout",
     "output_type": "stream",
     "text": [
      "Load Data: Done!\n"
     ]
    }
   ],
   "source": [
    "df = load_data(raw_data_file)\n"
   ]
  },
  {
   "cell_type": "code",
   "execution_count": 24,
   "metadata": {},
   "outputs": [],
   "source": [
    "df = clean_data_breakout_x(df, target_col = TARGET_TO_PREDICT, breakout_window = BREAKOUT_WINDOW)\n"
   ]
  },
  {
   "cell_type": "code",
   "execution_count": 25,
   "metadata": {},
   "outputs": [
    {
     "name": "stderr",
     "output_type": "stream",
     "text": [
      "/usr/local/lib/python3.6/dist-packages/ipykernel_launcher.py:7: FutureWarning: Currently, 'apply' passes the values as ndarrays to the applied function. In the future, this will change to passing it as Series objects. You need to specify 'raw=True' to keep the current behaviour, and you can pass 'raw=False' to silence this warning\n",
      "  import sys\n"
     ]
    }
   ],
   "source": [
    "df = create_target_2(df, \"target\", FUTURE_PERIOD_PREDICT, TARGET_FUNCTION)\n"
   ]
  },
  {
   "cell_type": "code",
   "execution_count": 26,
   "metadata": {},
   "outputs": [],
   "source": [
    "FLIP = False\n",
    "df = classify_target(df, \"target\", TARGET_THRESHOLD, FLIP)\n"
   ]
  },
  {
   "cell_type": "code",
   "execution_count": 27,
   "metadata": {},
   "outputs": [],
   "source": [
    "\n",
    "def split_df(df, end_split):\n",
    "    #Split df and get index\n",
    "    start_index, end_index = get_index_from_date(df, end_split)\n",
    "    target_col= \"target\"\n",
    "    x_columns = [j for j in df.columns if j != target_col]\n",
    "\n",
    "    #Scaling\n",
    "    # scaler = sklearn.preprocessing.MinMaxScaler(feature_range = (0,1))\n",
    "    scaler = sklearn.preprocessing.StandardScaler()\n",
    "    #Fit train_x\n",
    "    train_x_data = df[x_columns].iloc[start_index[0]:(end_index[0]+1)].values\n",
    "    scaler.fit(train_x_data)\n",
    "    #Scale all\n",
    "    df.loc[:,x_columns] = scaler.transform(df[x_columns])\n",
    "    X = df[x_columns].values\n",
    "    Y = df[target_col].values\n",
    "\n",
    "    return df, X, Y, start_index, end_index, scaler\n",
    "\n",
    "import datetime\n",
    "end_split = [datetime.datetime(2011,1,1), datetime.datetime(2013,1,1)]\n",
    "\n",
    "\n"
   ]
  },
  {
   "cell_type": "code",
   "execution_count": 28,
   "metadata": {},
   "outputs": [],
   "source": [
    "df, X, Y, start_index, end_index, scaler = split_df(df, end_split)\n"
   ]
  },
  {
   "cell_type": "code",
   "execution_count": 29,
   "metadata": {},
   "outputs": [
    {
     "ename": "NameError",
     "evalue": "name 'SEQ_LEN' is not defined",
     "output_type": "error",
     "traceback": [
      "\u001b[0;31m---------------------------------------------------------------------------\u001b[0m",
      "\u001b[0;31mNameError\u001b[0m                                 Traceback (most recent call last)",
      "\u001b[0;32m<ipython-input-29-1158d6a3ee2d>\u001b[0m in \u001b[0;36m<module>\u001b[0;34m\u001b[0m\n\u001b[0;32m----> 1\u001b[0;31m \u001b[0mtrain_data_gen\u001b[0m\u001b[0;34m,\u001b[0m \u001b[0mval_data_gen\u001b[0m\u001b[0;34m,\u001b[0m \u001b[0mtest_1_data_gen\u001b[0m\u001b[0;34m,\u001b[0m \u001b[0mtest_2_data_gen\u001b[0m\u001b[0;34m,\u001b[0m \u001b[0mshape_x\u001b[0m \u001b[0;34m=\u001b[0m \u001b[0mTSGenerator\u001b[0m\u001b[0;34m(\u001b[0m\u001b[0mX\u001b[0m\u001b[0;34m,\u001b[0m \u001b[0mY\u001b[0m\u001b[0;34m,\u001b[0m \u001b[0mSEQ_LEN\u001b[0m\u001b[0;34m,\u001b[0m \u001b[0mBATCH_SIZE\u001b[0m\u001b[0;34m,\u001b[0m \u001b[0mstart_index\u001b[0m\u001b[0;34m,\u001b[0m \u001b[0mend_index\u001b[0m\u001b[0;34m)\u001b[0m\u001b[0;34m\u001b[0m\u001b[0m\n\u001b[0m",
      "\u001b[0;31mNameError\u001b[0m: name 'SEQ_LEN' is not defined"
     ]
    }
   ],
   "source": [
    "train_data_gen, val_data_gen, test_1_data_gen, test_2_data_gen, shape_x = TSGenerator(X, Y, SEQ_LEN, BATCH_SIZE, start_index, end_index)\n"
   ]
  },
  {
   "cell_type": "code",
   "execution_count": 30,
   "metadata": {},
   "outputs": [
    {
     "name": "stdout",
     "output_type": "stream",
     "text": [
      "[0.62885337 2.44018987]\n"
     ]
    }
   ],
   "source": [
    "class_weights = get_class_weights(df, start_index, end_index)\n",
    "\n"
   ]
  },
  {
   "cell_type": "code",
   "execution_count": 31,
   "metadata": {},
   "outputs": [
    {
     "data": {
      "text/plain": [
       "Index(['EURUSD', 'EEM', 'EFA', 'EWZ', 'FXI', 'GDX', 'HYG', 'IAU', 'IWM', 'SPY',\n",
       "       'USO', 'VWO', 'XLE', 'XLF', 'XLI', 'XLK', 'XLP', 'XLU', 'XOP', 'JNK',\n",
       "       'IYR', 'VEA', 'SLV', 'XLV', 'RSX', 'TLT', 'EWJ', 'OIH', 'GLD', 'EZU',\n",
       "       'KRE', 'SMH', 'XLB', 'XRT', 'LQD', 'EWT', 'XLY', 'VNQ', 'EWH', 'EWW',\n",
       "       'XBI', 'DIA', 'EWG', 'VGK', 'IEF', 'EMB', 'FEZ', 'AGG', 'ITB', 'EWC',\n",
       "       'UNG', 'USDJPY', 'GBPUSD', 'AUDUSD', 'USDCAD', 'EURJPY', 'NZDUSD',\n",
       "       'XAGUSD', 'target'],\n",
       "      dtype='object')"
      ]
     },
     "execution_count": 31,
     "metadata": {},
     "output_type": "execute_result"
    }
   ],
   "source": [
    "df.columns\n"
   ]
  },
  {
   "cell_type": "code",
   "execution_count": 33,
   "metadata": {},
   "outputs": [
    {
     "data": {
      "text/plain": [
       "0.14956786171574904"
      ]
     },
     "execution_count": 33,
     "metadata": {},
     "output_type": "execute_result"
    }
   ],
   "source": [
    "np.mean(df.iloc[start_index[1]:end_index[1]][\"target\"])"
   ]
  },
  {
   "cell_type": "code",
   "execution_count": null,
   "metadata": {},
   "outputs": [],
   "source": []
  }
 ],
 "metadata": {
  "kernelspec": {
   "display_name": "Python 3",
   "language": "python",
   "name": "python3"
  },
  "language_info": {
   "codemirror_mode": {
    "name": "ipython",
    "version": 3
   },
   "file_extension": ".py",
   "mimetype": "text/x-python",
   "name": "python",
   "nbconvert_exporter": "python",
   "pygments_lexer": "ipython3",
   "version": "3.6.6"
  }
 },
 "nbformat": 4,
 "nbformat_minor": 2
}
