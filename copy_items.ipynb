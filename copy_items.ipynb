{
 "cells": [
  {
   "cell_type": "code",
   "execution_count": 1,
   "metadata": {},
   "outputs": [
    {
     "name": "stderr",
     "output_type": "stream",
     "text": [
      "Using TensorFlow backend.\n"
     ]
    }
   ],
   "source": [
    "###### import numpy as np\n",
    "import pandas as pd\n",
    "import os\n",
    "import time\n",
    "import schedule\n",
    "import joblib\n",
    "import datetime\n",
    "import multiprocessing as mp\n",
    "from get_strategy_meta import get_all_strategy_meta\n",
    "from query_api import get_path_dict, gen_connection, load_item_by_key, query_mysql\n",
    "from get_signal_mongo import write_signal_mongo, get_signal_mongo\n",
    "from get_signal_mysql import write_signal, get_signal\n",
    "from mongo_functions import get_portfolio_db\n",
    "import shutil"
   ]
  },
  {
   "cell_type": "code",
   "execution_count": 2,
   "metadata": {},
   "outputs": [],
   "source": [
    "strategy_meta_df = get_all_strategy_meta()"
   ]
  },
  {
   "cell_type": "code",
   "execution_count": 3,
   "metadata": {},
   "outputs": [],
   "source": [
    "sdf = strategy_meta_df.loc[~strategy_meta_df[\"Backtest Status\"].isin([\"Abandon\"])]\n",
    "sdf[\"TF\"] = sdf[\"TimeFrame\"].apply(lambda x: int(x.split(\"_\")[1]))\n",
    "sdf = sdf.sort_values(\"TF\")\n",
    "\n"
   ]
  },
  {
   "cell_type": "code",
   "execution_count": 72,
   "metadata": {},
   "outputs": [],
   "source": [
    "strat = \"1301\"\n",
    "strategy_meta = sdf.loc[sdf[\"Strategy\"] == strat].to_dict(orient = \"records\")[0]\n",
    "PD = get_path_dict(strategy_meta)\n",
    "\n",
    "file_list = []\n",
    "for k,v in PD.items():\n",
    "    for k2, v2 in v.items():\n",
    "        file_list.extend(v2)\n",
    "new_file_list = [x.replace(\"DL_Output\", \"DLBatchOne/Accepted_Windows\") for x in file_list]"
   ]
  },
  {
   "cell_type": "code",
   "execution_count": 73,
   "metadata": {},
   "outputs": [
    {
     "data": {
      "text/plain": [
       "['/media/workstation/Storage/DLBatchOne/Accepted_Windows/Z/Z007B_D0H0M5_B/ASSETS_MODELS/EURJPY_1547237855/scaler.pkl',\n",
       " '/media/workstation/Storage/DLBatchOne/Accepted_Windows/Z/Z007B_D0H0M5_B/ASSETS_MODELS/EURJPY_1547237855/DATA_PARAMS.pkl',\n",
       " '/media/workstation/Storage/DLBatchOne/Accepted_Windows/Z/Z007B_D0H0M5_B/ASSETS_MODELS/EURJPY_1547237855/MODEL_PARAMS.pkl',\n",
       " '/media/workstation/Storage/DLBatchOne/Accepted_Windows/Z/Z007B_D0H0M5_B/ASSETS_MODELS/EURJPY_1547237855/DL-0036-0.5318-0.7817-0.1671-0.0836.model',\n",
       " '/media/workstation/Storage/DLBatchOne/Accepted_Windows/Z/Z007B_D0H0M5_B/ASSETS_MODELS/NZDUSD_1547328136/scaler.pkl',\n",
       " '/media/workstation/Storage/DLBatchOne/Accepted_Windows/Z/Z007B_D0H0M5_B/ASSETS_MODELS/NZDUSD_1547328136/DATA_PARAMS.pkl',\n",
       " '/media/workstation/Storage/DLBatchOne/Accepted_Windows/Z/Z007B_D0H0M5_B/ASSETS_MODELS/NZDUSD_1547328136/MODEL_PARAMS.pkl',\n",
       " '/media/workstation/Storage/DLBatchOne/Accepted_Windows/Z/Z007B_D0H0M5_B/ASSETS_MODELS/NZDUSD_1547328136/DL-0066-0.6503-0.7281-0.2012-0.1517.model',\n",
       " '/media/workstation/Storage/DLBatchOne/Accepted_Windows/Z/Z007B_D0H0M5_B/ASSETS_MODELS/XAGUSD_1547357323/scaler.pkl',\n",
       " '/media/workstation/Storage/DLBatchOne/Accepted_Windows/Z/Z007B_D0H0M5_B/ASSETS_MODELS/XAGUSD_1547357323/DATA_PARAMS.pkl',\n",
       " '/media/workstation/Storage/DLBatchOne/Accepted_Windows/Z/Z007B_D0H0M5_B/ASSETS_MODELS/XAGUSD_1547357323/MODEL_PARAMS.pkl',\n",
       " '/media/workstation/Storage/DLBatchOne/Accepted_Windows/Z/Z007B_D0H0M5_B/ASSETS_MODELS/XAGUSD_1547357323/DL-0114-1.2237-0.5761-0.3554-0.3124.model',\n",
       " '/media/workstation/Storage/DLBatchOne/Accepted_Windows/Z/Z007S_D0H0M5_S/ASSETS_MODELS/EURJPY_1547621067/scaler.pkl',\n",
       " '/media/workstation/Storage/DLBatchOne/Accepted_Windows/Z/Z007S_D0H0M5_S/ASSETS_MODELS/EURJPY_1547621067/DATA_PARAMS.pkl',\n",
       " '/media/workstation/Storage/DLBatchOne/Accepted_Windows/Z/Z007S_D0H0M5_S/ASSETS_MODELS/EURJPY_1547621067/MODEL_PARAMS.pkl',\n",
       " '/media/workstation/Storage/DLBatchOne/Accepted_Windows/Z/Z007S_D0H0M5_S/ASSETS_MODELS/EURJPY_1547621067/DL-0072-0.5597-0.7696-0.1806-0.1097.model',\n",
       " '/media/workstation/Storage/DLBatchOne/Accepted_Windows/Z/Z007S_D0H0M5_S/ASSETS_MODELS/NZDUSD_1547713816/scaler.pkl',\n",
       " '/media/workstation/Storage/DLBatchOne/Accepted_Windows/Z/Z007S_D0H0M5_S/ASSETS_MODELS/NZDUSD_1547713816/DATA_PARAMS.pkl',\n",
       " '/media/workstation/Storage/DLBatchOne/Accepted_Windows/Z/Z007S_D0H0M5_S/ASSETS_MODELS/NZDUSD_1547713816/MODEL_PARAMS.pkl',\n",
       " '/media/workstation/Storage/DLBatchOne/Accepted_Windows/Z/Z007S_D0H0M5_S/ASSETS_MODELS/NZDUSD_1547713816/DL-0045-0.5930-0.7643-0.1877-0.1008.model',\n",
       " '/media/workstation/Storage/DLBatchOne/Accepted_Windows/Z/Z007S_D0H0M5_S/ASSETS_MODELS/XAGUSD_1547743847/scaler.pkl',\n",
       " '/media/workstation/Storage/DLBatchOne/Accepted_Windows/Z/Z007S_D0H0M5_S/ASSETS_MODELS/XAGUSD_1547743847/DATA_PARAMS.pkl',\n",
       " '/media/workstation/Storage/DLBatchOne/Accepted_Windows/Z/Z007S_D0H0M5_S/ASSETS_MODELS/XAGUSD_1547743847/MODEL_PARAMS.pkl',\n",
       " '/media/workstation/Storage/DLBatchOne/Accepted_Windows/Z/Z007S_D0H0M5_S/ASSETS_MODELS/XAGUSD_1547743847/DL-0273-1.9112-0.5716-0.3513-0.3364.model']"
      ]
     },
     "execution_count": 73,
     "metadata": {},
     "output_type": "execute_result"
    }
   ],
   "source": [
    "new_file_list"
   ]
  },
  {
   "cell_type": "code",
   "execution_count": 74,
   "metadata": {},
   "outputs": [
    {
     "data": {
      "text/plain": [
       "['/media/workstation/Storage/DL_Output/Z/Z007B_D0H0M5_B/ASSETS_MODELS/EURJPY_1547237855/scaler.pkl',\n",
       " '/media/workstation/Storage/DL_Output/Z/Z007B_D0H0M5_B/ASSETS_MODELS/EURJPY_1547237855/DATA_PARAMS.pkl',\n",
       " '/media/workstation/Storage/DL_Output/Z/Z007B_D0H0M5_B/ASSETS_MODELS/EURJPY_1547237855/MODEL_PARAMS.pkl',\n",
       " '/media/workstation/Storage/DL_Output/Z/Z007B_D0H0M5_B/ASSETS_MODELS/EURJPY_1547237855/DL-0036-0.5318-0.7817-0.1671-0.0836.model',\n",
       " '/media/workstation/Storage/DL_Output/Z/Z007B_D0H0M5_B/ASSETS_MODELS/NZDUSD_1547328136/scaler.pkl',\n",
       " '/media/workstation/Storage/DL_Output/Z/Z007B_D0H0M5_B/ASSETS_MODELS/NZDUSD_1547328136/DATA_PARAMS.pkl',\n",
       " '/media/workstation/Storage/DL_Output/Z/Z007B_D0H0M5_B/ASSETS_MODELS/NZDUSD_1547328136/MODEL_PARAMS.pkl',\n",
       " '/media/workstation/Storage/DL_Output/Z/Z007B_D0H0M5_B/ASSETS_MODELS/NZDUSD_1547328136/DL-0066-0.6503-0.7281-0.2012-0.1517.model',\n",
       " '/media/workstation/Storage/DL_Output/Z/Z007B_D0H0M5_B/ASSETS_MODELS/XAGUSD_1547357323/scaler.pkl',\n",
       " '/media/workstation/Storage/DL_Output/Z/Z007B_D0H0M5_B/ASSETS_MODELS/XAGUSD_1547357323/DATA_PARAMS.pkl',\n",
       " '/media/workstation/Storage/DL_Output/Z/Z007B_D0H0M5_B/ASSETS_MODELS/XAGUSD_1547357323/MODEL_PARAMS.pkl',\n",
       " '/media/workstation/Storage/DL_Output/Z/Z007B_D0H0M5_B/ASSETS_MODELS/XAGUSD_1547357323/DL-0114-1.2237-0.5761-0.3554-0.3124.model',\n",
       " '/media/workstation/Storage/DL_Output/Z/Z007S_D0H0M5_S/ASSETS_MODELS/EURJPY_1547621067/scaler.pkl',\n",
       " '/media/workstation/Storage/DL_Output/Z/Z007S_D0H0M5_S/ASSETS_MODELS/EURJPY_1547621067/DATA_PARAMS.pkl',\n",
       " '/media/workstation/Storage/DL_Output/Z/Z007S_D0H0M5_S/ASSETS_MODELS/EURJPY_1547621067/MODEL_PARAMS.pkl',\n",
       " '/media/workstation/Storage/DL_Output/Z/Z007S_D0H0M5_S/ASSETS_MODELS/EURJPY_1547621067/DL-0072-0.5597-0.7696-0.1806-0.1097.model',\n",
       " '/media/workstation/Storage/DL_Output/Z/Z007S_D0H0M5_S/ASSETS_MODELS/NZDUSD_1547713816/scaler.pkl',\n",
       " '/media/workstation/Storage/DL_Output/Z/Z007S_D0H0M5_S/ASSETS_MODELS/NZDUSD_1547713816/DATA_PARAMS.pkl',\n",
       " '/media/workstation/Storage/DL_Output/Z/Z007S_D0H0M5_S/ASSETS_MODELS/NZDUSD_1547713816/MODEL_PARAMS.pkl',\n",
       " '/media/workstation/Storage/DL_Output/Z/Z007S_D0H0M5_S/ASSETS_MODELS/NZDUSD_1547713816/DL-0045-0.5930-0.7643-0.1877-0.1008.model',\n",
       " '/media/workstation/Storage/DL_Output/Z/Z007S_D0H0M5_S/ASSETS_MODELS/XAGUSD_1547743847/scaler.pkl',\n",
       " '/media/workstation/Storage/DL_Output/Z/Z007S_D0H0M5_S/ASSETS_MODELS/XAGUSD_1547743847/DATA_PARAMS.pkl',\n",
       " '/media/workstation/Storage/DL_Output/Z/Z007S_D0H0M5_S/ASSETS_MODELS/XAGUSD_1547743847/MODEL_PARAMS.pkl',\n",
       " '/media/workstation/Storage/DL_Output/Z/Z007S_D0H0M5_S/ASSETS_MODELS/XAGUSD_1547743847/DL-0273-1.9112-0.5716-0.3513-0.3364.model']"
      ]
     },
     "execution_count": 74,
     "metadata": {},
     "output_type": "execute_result"
    }
   ],
   "source": [
    "file_list"
   ]
  },
  {
   "cell_type": "code",
   "execution_count": 75,
   "metadata": {},
   "outputs": [],
   "source": [
    "for x, y in zip(file_list, new_file_list):\n",
    "    if not os.path.exists(os.path.dirname(y)):\n",
    "        try:\n",
    "            os.makedirs(os.path.dirname(y))\n",
    "        except OSError as exc: # Guard against race condition\n",
    "            raise\n",
    "\n",
    "\n",
    "    shutil.copy(x, y)"
   ]
  },
  {
   "cell_type": "code",
   "execution_count": null,
   "metadata": {},
   "outputs": [],
   "source": []
  }
 ],
 "metadata": {
  "kernelspec": {
   "display_name": "Python 3",
   "language": "python",
   "name": "python3"
  },
  "language_info": {
   "codemirror_mode": {
    "name": "ipython",
    "version": 3
   },
   "file_extension": ".py",
   "mimetype": "text/x-python",
   "name": "python",
   "nbconvert_exporter": "python",
   "pygments_lexer": "ipython3",
   "version": "3.6.7"
  }
 },
 "nbformat": 4,
 "nbformat_minor": 2
}
