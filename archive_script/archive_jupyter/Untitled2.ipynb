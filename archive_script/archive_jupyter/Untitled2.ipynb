{
 "cells": [
  {
   "cell_type": "code",
   "execution_count": 12,
   "metadata": {},
   "outputs": [
    {
     "data": {
      "text/plain": [
       "['XLV_1540132613',\n",
       " 'VWO_1540124794',\n",
       " 'EURJPY_1540090805',\n",
       " 'XOP_1540119549',\n",
       " 'EURGBP_1540081332',\n",
       " 'TLT_1540096938',\n",
       " 'USDCAD_1540071829',\n",
       " 'EEM_1540128128',\n",
       " 'IYR_1540143733',\n",
       " 'USO_1540109072',\n",
       " 'GLD_1540146336',\n",
       " 'EWT_1540148621',\n",
       " 'EURUSD_1540071836',\n",
       " 'EWH_1540100271',\n",
       " 'XLK_1540114315',\n",
       " 'EWZ_1540102904',\n",
       " 'XLY_1540137805',\n",
       " 'SLV_1540081303',\n",
       " 'EWW_1540143008',\n",
       " 'USDJPY_1540154373',\n",
       " 'XRT_1540135209',\n",
       " 'EFA_1540130727',\n",
       " 'XLE_1540127415',\n",
       " 'XLU_1540141127',\n",
       " 'XBI_1540145600',\n",
       " 'SMH_1540091698',\n",
       " 'SPY_1540138520',\n",
       " 'USDCHF_1540099565',\n",
       " 'OIH_1540089114',\n",
       " 'IEF_1540150057',\n",
       " 'LQD_1540116041',\n",
       " 'XLI_1540130012',\n",
       " 'RSX_1540083885',\n",
       " 'FXI_1540105534',\n",
       " 'GBPUSD_1540062289',\n",
       " 'EWJ_1540086498',\n",
       " 'AGG_1540151486',\n",
       " 'XLF_1540111692',\n",
       " 'IAU_1540108165',\n",
       " 'NZDUSD_1540118665',\n",
       " 'VNQ_1540140403',\n",
       " 'HYG_1540135925',\n",
       " 'GDX_1540133327',\n",
       " 'EZU_1540110791',\n",
       " 'VEA_1540122171',\n",
       " 'UNG_1540152912',\n",
       " 'XLP_1540116940',\n",
       " 'XLB_1540094315',\n",
       " 'KRE_1540113417',\n",
       " 'AUDUSD_1540062289']"
      ]
     },
     "execution_count": 12,
     "metadata": {},
     "output_type": "execute_result"
    }
   ],
   "source": [
    "import os\n",
    "\n",
    "main_folder = \"output/no_scale_models\"\n",
    "[j for j in os.listdir(main_folder) if os.path.isdir(os.path.join(main_folder,j))]"
   ]
  },
  {
   "cell_type": "code",
   "execution_count": 11,
   "metadata": {},
   "outputs": [
    {
     "ename": "SyntaxError",
     "evalue": "invalid syntax (<ipython-input-11-fde0ebf956b3>, line 1)",
     "output_type": "error",
     "traceback": [
      "\u001b[0;36m  File \u001b[0;32m\"<ipython-input-11-fde0ebf956b3>\"\u001b[0;36m, line \u001b[0;32m1\u001b[0m\n\u001b[0;31m    os.path.is\u001b[0m\n\u001b[0m             ^\u001b[0m\n\u001b[0;31mSyntaxError\u001b[0m\u001b[0;31m:\u001b[0m invalid syntax\n"
     ]
    }
   ],
   "source": [
    "os.path.is"
   ]
  },
  {
   "cell_type": "code",
   "execution_count": null,
   "metadata": {},
   "outputs": [],
   "source": []
  }
 ],
 "metadata": {
  "kernelspec": {
   "display_name": "Python 3",
   "language": "python",
   "name": "python3"
  },
  "language_info": {
   "codemirror_mode": {
    "name": "ipython",
    "version": 3
   },
   "file_extension": ".py",
   "mimetype": "text/x-python",
   "name": "python",
   "nbconvert_exporter": "python",
   "pygments_lexer": "ipython3",
   "version": "3.6.6"
  }
 },
 "nbformat": 4,
 "nbformat_minor": 2
}
