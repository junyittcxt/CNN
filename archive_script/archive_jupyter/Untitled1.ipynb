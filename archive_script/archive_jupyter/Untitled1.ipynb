{
 "cells": [
  {
   "cell_type": "code",
   "execution_count": null,
   "metadata": {},
   "outputs": [],
   "source": [
    "from cnn_method import *\n",
    "from cnn_preproc_function import *\n",
    "\n",
    "import optparse\n",
    "import numpy as np\n",
    "import pandas as pd\n",
    "\n",
    "import sklearn\n",
    "from sklearn import preprocessing\n",
    "\n",
    "import keras\n",
    "import tensorflow as tf\n",
    "\n",
    "from keras_model_configuration import *\n",
    "from keras_metric import *\n",
    "\n",
    "import datetime\n",
    "import time\n",
    "import os\n",
    "\n",
    "from sklearn.externals import joblib\n",
    "\n",
    "#OPTS PARSER\n",
    "# optparser = optparse.OptionParser()\n",
    "# optparser.add_option(\"-a\", \"--assetindex\", default=0, help=\"assetindex\")\n",
    "# optparser.add_option(\"-d\", \"--gpudevice\", default=\"0\", help=\"gpudevice\")\n",
    "# opts = optparser.parse_args()[0]\n",
    "\n",
    "# assetindex = int(opts.assetindex)\n",
    "# gpudevice = opts.gpudevice\n",
    "asset_index=0\n",
    "gpudevice=\"0\"\n",
    "\n",
    "#PARAMS:\n",
    "loss_criteria = \"precision\"\n",
    "loss_mode = \"max\"\n",
    "\n",
    "#GPU CONFIG\n",
    "os.environ[\"TF_MIN_GPU_MULTIPROCESSOR_COUNT\"] = \"4\"\n",
    "os.environ[\"CUDA_VISIBLE_DEVICES\"]=gpudevice\n",
    "config = tf.ConfigProto()\n",
    "config.gpu_options.allow_growth = True\n",
    "session = tf.Session(config=config)\n",
    "\n",
    "\n",
    "#SETUP INIT\n",
    "setup_folder_name = \"AUDUSD_1540177760\"\n",
    "setup_path = os.path.join(\"output\", setup_folder_name)\n",
    "\n",
    "DATA_PARAMS = joblib.load(os.path.join(setup_path, \"DATA_PARAMS.pkl\"))\n",
    "MODEL_PARAMS = joblib.load(os.path.join(setup_path, \"MODEL_PARAMS.pkl\"))\n",
    "scaler = joblib.load(os.path.join(setup_path, \"scaler.pkl\"))\n",
    "\n",
    "locals().update(DATA_PARAMS)\n",
    "locals().update(MODEL_PARAMS)\n",
    "\n",
    "print(DATA_PARAMS)\n",
    "print(MODEL_PARAMS)\n",
    "\n",
    "df = load_data(raw_data_file)\n",
    "df = clean_and_create_target(df, TARGET_TO_PREDICT, FUTURE_PERIOD_PREDICT, TARGET_FUNCTION, TARGET_THRESHOLD, FLIP)\n",
    "df, timestamp, all_data_gen = FullTSGenerator(df, scaler, 512, SEQ_LEN, old = True)\n",
    "\n",
    "\n",
    "#pick best model\n",
    "models_folder = os.path.join(setup_path, \"models\")\n",
    "files = [f for f in os.listdir(models_folder) if os.path.isfile(os.path.join(models_folder,f))]\n",
    "metric_dict = dict()\n",
    "metrics_1 = [\"index\", \"loss\", \"accuracy\", \"precision\", \"f1\"]\n",
    "for j,v in enumerate(metrics_1):\n",
    "    try:\n",
    "        metric_dict[v] = [int(f.split(\"-\")[j+1]) for f in files]\n",
    "    except:\n",
    "        metric_dict[v] = [np.nan for f in files]\n",
    "\n",
    "if loss_mode == \"max\":\n",
    "    best_index = np.argmax(metric_dict[loss_criteria])\n",
    "else:\n",
    "    best_index = np.argmin(metric_dict[loss_criteria])\n",
    "\n",
    "best_model_file = files[best_index]\n",
    "best_model_path = os.path.join(models_folder,best_model_file)\n",
    "\n",
    "\n",
    "print(\"Best Model: Done!\")"
   ]
  },
  {
   "cell_type": "code",
   "execution_count": null,
   "metadata": {},
   "outputs": [],
   "source": [
    "model = keras.models.load_model(best_model_path,\n",
    "            custom_objects=None,\n",
    "            compile=False\n",
    "        )\n",
    "# adm = keras.optimizers.Adam(lr=LEARNING_RATE, beta_1=0.9, beta_2=0.999, epsilon=None, amsgrad=False, decay = 1e-6)\n",
    "# model.compile(optimizer=adm, loss='binary_crossentropy', metrics=['accuracy', precision, f1])\n",
    "\n",
    "# print(y)\n",
    "# print(np.array(y).shape)\n"
   ]
  },
  {
   "cell_type": "code",
   "execution_count": null,
   "metadata": {},
   "outputs": [],
   "source": [
    "y2 = model.predict_generator(all_data_gen, steps = 100)\n",
    "\n"
   ]
  },
  {
   "cell_type": "code",
   "execution_count": null,
   "metadata": {},
   "outputs": [],
   "source": [
    "g = True\n",
    "\"asd_\" + g"
   ]
  },
  {
   "cell_type": "code",
   "execution_count": null,
   "metadata": {},
   "outputs": [],
   "source": [
    "df = pd.DataFrame(dict(Date = timestamp, raw_signal = y.flatten()))"
   ]
  },
  {
   "cell_type": "code",
   "execution_count": null,
   "metadata": {},
   "outputs": [],
   "source": [
    "df.set_index(\"Date\").plot()"
   ]
  },
  {
   "cell_type": "code",
   "execution_count": null,
   "metadata": {},
   "outputs": [],
   "source": []
  }
 ],
 "metadata": {
  "kernelspec": {
   "display_name": "Python 3",
   "language": "python",
   "name": "python3"
  },
  "language_info": {
   "codemirror_mode": {
    "name": "ipython",
    "version": 3
   },
   "file_extension": ".py",
   "mimetype": "text/x-python",
   "name": "python",
   "nbconvert_exporter": "python",
   "pygments_lexer": "ipython3",
   "version": "3.6.6"
  }
 },
 "nbformat": 4,
 "nbformat_minor": 2
}
