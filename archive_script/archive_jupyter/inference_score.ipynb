{
 "cells": [
  {
   "cell_type": "code",
   "execution_count": 1,
   "metadata": {},
   "outputs": [
    {
     "name": "stderr",
     "output_type": "stream",
     "text": [
      "Using TensorFlow backend.\n"
     ]
    }
   ],
   "source": [
    "from cnn_method import *\n",
    "from cnn_preproc_function import *\n",
    "from cnn_inference_method import *\n",
    "from inference_function import *\n",
    "\n",
    "import optparse\n",
    "import numpy as np\n",
    "import pandas as pd\n",
    "\n",
    "import sklearn\n",
    "from sklearn import preprocessing\n",
    "\n",
    "import keras\n",
    "import tensorflow as tf\n",
    "\n",
    "from keras_model_configuration import *\n",
    "from keras_metric import *\n",
    "\n",
    "import datetime\n",
    "import time\n",
    "import os\n",
    "import shutil\n",
    "from sklearn.externals import joblib\n",
    "\n",
    "assetindex = int(0)\n",
    "gpudevice = \"0\"\n",
    "\n",
    "#GPU CONFIG\n",
    "os.environ[\"TF_MIN_GPU_MULTIPROCESSOR_COUNT\"] = \"4\"\n",
    "os.environ[\"CUDA_VISIBLE_DEVICES\"]=gpudevice\n",
    "config = tf.ConfigProto()\n",
    "config.gpu_options.allow_growth = True\n",
    "session = tf.Session(config=config)"
   ]
  },
  {
   "cell_type": "code",
   "execution_count": 5,
   "metadata": {},
   "outputs": [
    {
     "name": "stdout",
     "output_type": "stream",
     "text": [
      "['XLV_1540132613', 'VWO_1540124794', 'EURJPY_1540090805', 'XOP_1540119549', 'EURGBP_1540081332', 'TLT_1540096938', 'USDCAD_1540071829', 'EEM_1540128128', 'IYR_1540143733', 'USO_1540109072', 'GLD_1540146336', 'EWT_1540148621', 'EURUSD_1540071836', 'EWH_1540100271', 'XLK_1540114315', 'EWZ_1540102904', 'XLY_1540137805', 'SLV_1540081303', 'EWW_1540143008', 'USDJPY_1540154373', 'XRT_1540135209', 'EFA_1540130727', 'XLE_1540127415', 'XLU_1540141127', 'XBI_1540145600', 'SMH_1540091698', 'SPY_1540138520', 'USDCHF_1540099565', 'OIH_1540089114', 'IEF_1540150057', 'LQD_1540116041', 'XLI_1540130012', 'RSX_1540083885', 'FXI_1540105534', 'GBPUSD_1540062289', 'EWJ_1540086498', 'AGG_1540151486', 'XLF_1540111692', 'IAU_1540108165', 'NZDUSD_1540118665', 'VNQ_1540140403', 'HYG_1540135925', 'GDX_1540133327', 'EZU_1540110791', 'VEA_1540122171', 'UNG_1540152912', 'XLP_1540116940', 'XLB_1540094315', 'KRE_1540113417', 'AUDUSD_1540062289']\n",
      "Running: XLV_1540132613\n"
     ]
    }
   ],
   "source": [
    "#SETUP INIT\n",
    "main_folder = \"/home/workstation/Desktop/CNN/output/no_scale_models\"\n",
    "# main_folder = \"afp://cxtanalytics@Alpha.local/CXT%20Analytics/ML%20Training%20Data/_CNN_Output\"\n",
    "loss_criteria = \"precision\"\n",
    "loss_mode = \"max\"\n",
    "batch_size = 64\n",
    "daily = False\n",
    "\n",
    "try:\n",
    "    setups_folder = [j for j in os.listdir(main_folder) if os.path.isdir(os.path.join(main_folder,j))]\n",
    "    print(setups_folder)\n",
    "    setup_folder_name = setups_folder[assetindex]\n",
    "    print(\"Running:\", setup_folder_name)\n",
    "\n",
    "except Exception as err:\n",
    "    print(\"Index:\", assetindex, \"--SETUP ERROR!\")\n",
    "    raise Exception(err)\n"
   ]
  },
  {
   "cell_type": "code",
   "execution_count": 6,
   "metadata": {},
   "outputs": [],
   "source": [
    "#Remove existing signal\n",
    "# import glob\n",
    "# for setup_folder_name in setups_folder:\n",
    "#     try:\n",
    "#         os.remove(glob.glob(os.path.join(main_folder, setup_folder_name, \"*.csv\"))[0])\n",
    "#     except:\n",
    "#         print(\"nope\", setup_folder_name)"
   ]
  },
  {
   "cell_type": "code",
   "execution_count": 7,
   "metadata": {},
   "outputs": [
    {
     "name": "stdout",
     "output_type": "stream",
     "text": [
      "Load Data: Done!\n"
     ]
    },
    {
     "name": "stderr",
     "output_type": "stream",
     "text": [
      "/home/workstation/Desktop/CNN/cnn_preproc_function.py:27: FutureWarning: Currently, 'apply' passes the values as ndarrays to the applied function. In the future, this will change to passing it as Series objects. You need to specify 'raw=True' to keep the current behaviour, and you can pass 'raw=False' to silence this warning\n",
      "  df.loc[:,'target'] = df[target_col].rolling(window = FUTURE_PERIOD_PREDICT).apply(lambda x: FUNC(x))\n",
      "/usr/local/lib/python3.6/dist-packages/pandas/core/indexing.py:362: SettingWithCopyWarning: \n",
      "A value is trying to be set on a copy of a slice from a DataFrame.\n",
      "Try using .loc[row_indexer,col_indexer] = value instead\n",
      "\n",
      "See the caveats in the documentation: http://pandas.pydata.org/pandas-docs/stable/indexing.html#indexing-view-versus-copy\n",
      "  self.obj[key] = _infer_fill_value(value)\n",
      "/usr/local/lib/python3.6/dist-packages/pandas/core/indexing.py:543: SettingWithCopyWarning: \n",
      "A value is trying to be set on a copy of a slice from a DataFrame.\n",
      "Try using .loc[row_indexer,col_indexer] = value instead\n",
      "\n",
      "See the caveats in the documentation: http://pandas.pydata.org/pandas-docs/stable/indexing.html#indexing-view-versus-copy\n",
      "  self.obj[item] = s\n"
     ]
    },
    {
     "name": "stdout",
     "output_type": "stream",
     "text": [
      "Clean Data: Done!\n"
     ]
    }
   ],
   "source": [
    "setup_path = os.path.join(main_folder, setup_folder_name)\n",
    "DATA_PARAMS = joblib.load(os.path.join(setup_path, \"DATA_PARAMS.pkl\"))\n",
    "MODEL_PARAMS = joblib.load(os.path.join(setup_path, \"MODEL_PARAMS.pkl\"))\n",
    "scaler = joblib.load(os.path.join(setup_path, \"scaler.pkl\"))\n",
    "locals().update(DATA_PARAMS)\n",
    "locals().update(MODEL_PARAMS)\n",
    "\n",
    "if daily:\n",
    "    df = load_data_daily_close_missing(raw_data_file)\n",
    "    df = clean_and_create_target(df, TARGET_TO_PREDICT, FUTURE_PERIOD_PREDICT, TARGET_FUNCTION, TARGET_THRESHOLD, FLIP, False)\n",
    "else:\n",
    "    df = load_data(raw_data_file)\n",
    "    df = clean_and_create_target(df, TARGET_TO_PREDICT, FUTURE_PERIOD_PREDICT, TARGET_FUNCTION, TARGET_THRESHOLD, FLIP, True)\n",
    "\n",
    "df, timestamp, all_data_gen = FullTSGenerator(df, scaler, batch_size, SEQ_LEN, old = False)\n"
   ]
  },
  {
   "cell_type": "code",
   "execution_count": 8,
   "metadata": {},
   "outputs": [
    {
     "name": "stdout",
     "output_type": "stream",
     "text": [
      "Best Model: Done!\n"
     ]
    }
   ],
   "source": [
    "#pick best model\n",
    "models_folder = os.path.join(setup_path, \"models\")\n",
    "mdf = parse_model_folder(models_folder)\n",
    "fmdf, best_model_file = best_model_score(mdf)\n",
    "best_model_path = os.path.join(models_folder,best_model_file)\n",
    "model = keras.models.load_model(best_model_path, custom_objects=None, compile=False)\n",
    "print(\"Best Model: Done!\")\n"
   ]
  },
  {
   "cell_type": "code",
   "execution_count": null,
   "metadata": {},
   "outputs": [],
   "source": [
    "t0 = time.time()\n",
    "y = model.predict_generator(all_data_gen)\n",
    "t1 = time.time()\n",
    "print(\"Prediction: Done!\", t1-t0, \"seconds!\")\n",
    "\n",
    "signal_df = pd.DataFrame(dict(Date = timestamp, signal_raw = y.flatten())).set_index(\"Date\")\n",
    "signal_file = \"signal_\" + TARGET_TO_PREDICT + \"_\" + str(FLIP) + \".csv\"\n",
    "signal_df.to_csv(os.path.join(setup_path, signal_file))\n",
    "\n",
    "print(\"Signal Output: Done!\")"
   ]
  },
  {
   "cell_type": "code",
   "execution_count": 10,
   "metadata": {},
   "outputs": [
    {
     "name": "stdout",
     "output_type": "stream",
     "text": [
      "Copy best model: Done!\n"
     ]
    }
   ],
   "source": [
    "shutil.copy2(best_model_path, setup_path)\n",
    "print(\"Copy best model: Done!\")"
   ]
  },
  {
   "cell_type": "code",
   "execution_count": null,
   "metadata": {},
   "outputs": [],
   "source": []
  }
 ],
 "metadata": {
  "kernelspec": {
   "display_name": "Python 3",
   "language": "python",
   "name": "python3"
  },
  "language_info": {
   "codemirror_mode": {
    "name": "ipython",
    "version": 3
   },
   "file_extension": ".py",
   "mimetype": "text/x-python",
   "name": "python",
   "nbconvert_exporter": "python",
   "pygments_lexer": "ipython3",
   "version": "3.6.6"
  }
 },
 "nbformat": 4,
 "nbformat_minor": 2
}
