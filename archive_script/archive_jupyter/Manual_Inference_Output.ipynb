{
 "cells": [
  {
   "cell_type": "code",
   "execution_count": 1,
   "metadata": {},
   "outputs": [
    {
     "name": "stderr",
     "output_type": "stream",
     "text": [
      "Using TensorFlow backend.\n"
     ]
    }
   ],
   "source": [
    "#V2: Remove earlystopping, remove parameters: monitor_loss, loss_mode, patience\n",
    "from cnn_method import *\n",
    "from cnn_preproc_function import *\n",
    "from inference_function import *\n",
    "\n",
    "import optparse\n",
    "import numpy as np\n",
    "import pandas as pd\n",
    "\n",
    "import sklearn\n",
    "from sklearn import preprocessing\n",
    "\n",
    "import keras\n",
    "import tensorflow as tf\n",
    "\n",
    "from keras_model_configuration import *\n",
    "from keras_metric import *\n",
    "\n",
    "import datetime\n",
    "import time\n",
    "import os\n",
    "import shutil\n",
    "\n"
   ]
  },
  {
   "cell_type": "code",
   "execution_count": 2,
   "metadata": {},
   "outputs": [],
   "source": [
    "# path = \"/media/workstation/Storage/DL_Output/C001_D0H0M30_S_4bug/ASSETS_MODELS/EWZ_1541096508\"\n",
    "# path = \"/media/workstation/Storage/DL_Output/C001_D0H0M30_S_4bug/ASSETS_MODELS/IAU_1541096508\"\n",
    "# path = \"/media/workstation/Storage/DL_Output/C001_D0H0M30_S_4bug/ASSETS_MODELS/VWO_1541096508\"\n",
    "path = \"/media/workstation/Storage/DL_Output/C001_D0H0M30_S_4bug/ASSETS_MODELS/XLI_1541096508\"\n",
    "\n",
    "\n",
    "\n",
    "\n",
    "# path = \"/media/workstation/Storage/DL_Output/C005_D0H0M15_S/ASSETS_MODELS/EURJPY_1541384216\""
   ]
  },
  {
   "cell_type": "code",
   "execution_count": 3,
   "metadata": {},
   "outputs": [],
   "source": [
    "DATA_PARAMS = joblib.load(os.path.join(path, \"DATA_PARAMS.pkl\"))\n",
    "MODEL_PARAMS = joblib.load(os.path.join(path, \"MODEL_PARAMS.pkl\"))"
   ]
  },
  {
   "cell_type": "code",
   "execution_count": 4,
   "metadata": {},
   "outputs": [
    {
     "data": {
      "text/plain": [
       "array(['EURUSD', 'EEM', 'EFA', 'EWZ', 'FXI', 'HYG', 'IAU', 'IWM', 'SPY',\n",
       "       'VWO', 'XLE', 'XLF', 'XLI', 'XLK', 'XLP', 'XLU', 'XOP', 'JNK',\n",
       "       'IYR', 'VEA', 'SLV', 'XLV', 'RSX', 'TLT', 'EWJ', 'OIH', 'GLD',\n",
       "       'EZU', 'KRE', 'SMH', 'XLB', 'XRT', 'LQD', 'EWT', 'XLY', 'VNQ',\n",
       "       'EWH', 'EWW', 'XBI', 'DIA', 'EWG', 'VGK', 'IEF', 'EMB', 'FEZ',\n",
       "       'AGG', 'EWC', 'USDJPY', 'AUDUSD', 'USDCAD', 'EURJPY', 'NZDUSD'],\n",
       "      dtype=object)"
      ]
     },
     "execution_count": 4,
     "metadata": {},
     "output_type": "execute_result"
    }
   ],
   "source": [
    "DATA_PARAMS"
   ]
  },
  {
   "cell_type": "code",
   "execution_count": 5,
   "metadata": {},
   "outputs": [
    {
     "data": {
      "text/plain": [
       "{'device': '0',\n",
       " 'keras_model_function': 'rnn_model_conf_1_best',\n",
       " 'BATCH_SIZE': 256,\n",
       " 'EPOCHS': 900,\n",
       " 'LEARNING_RATE': 5e-05,\n",
       " 'training_number': 'C001',\n",
       " 'training_code': 'C001_D0H0M30_S',\n",
       " 'root_output_folder': '/media/workstation/9EB4ABE9B4ABC1DF/DL_Output',\n",
       " 'INIT_TIME': '1541096508',\n",
       " 'ASSET_FOLDER_NAME': 'XLI_1541096508',\n",
       " 'outputmain_folder': '/media/workstation/9EB4ABE9B4ABC1DF/DL_Output/C001_D0H0M30_S/ASSETS_MODELS',\n",
       " 'collect_signal_folder': '/media/workstation/9EB4ABE9B4ABC1DF/DL_Output/C001_D0H0M30_S/SIGNAL',\n",
       " 'collect_bestmodel_folder': '/media/workstation/9EB4ABE9B4ABC1DF/DL_Output/C001_D0H0M30_S/BESTMODEL',\n",
       " 'project_folder': '/media/workstation/9EB4ABE9B4ABC1DF/DL_Output/C001_D0H0M30_S/ASSETS_MODELS/XLI_1541096508',\n",
       " 'models_folder': '/media/workstation/9EB4ABE9B4ABC1DF/DL_Output/C001_D0H0M30_S/ASSETS_MODELS/XLI_1541096508/models',\n",
       " 'logs_folder': '/media/workstation/9EB4ABE9B4ABC1DF/DL_Output/C001_D0H0M30_S/ASSETS_MODELS/XLI_1541096508/logs'}"
      ]
     },
     "execution_count": 5,
     "metadata": {},
     "output_type": "execute_result"
    }
   ],
   "source": [
    "MODEL_PARAMS"
   ]
  },
  {
   "cell_type": "code",
   "execution_count": 6,
   "metadata": {},
   "outputs": [],
   "source": [
    "gpudevice = str(MODEL_PARAMS[\"device\"])\n",
    "os.environ[\"TF_MIN_GPU_MULTIPROCESSOR_COUNT\"] = \"4\"\n",
    "os.environ[\"CUDA_VISIBLE_DEVICES\"]=gpudevice\n",
    "config = tf.ConfigProto()\n",
    "config.gpu_options.allow_growth = True\n",
    "session = tf.Session(config=config)"
   ]
  },
  {
   "cell_type": "code",
   "execution_count": 7,
   "metadata": {},
   "outputs": [],
   "source": [
    "raw_data_file = \"./DATA/PRICE_LIQUIDASSET_30_MIN.csv\"\n",
    "TARGET_TO_PREDICT = \"XLI\"\n",
    "BREAKOUT_WINDOW = 100\n",
    "FUTURE_PERIOD_PREDICT = 5\n",
    "TARGET_FUNCTION = \"cumulative_returns\"\n",
    "TARGET_THRESHOLD = -0.001\n",
    "FLIP = True\n",
    "end_split = [datetime.datetime(2011,1,1), datetime.datetime(2013,1,1), datetime.datetime(2017,1,1)]\n",
    "SEQ_LEN = 20\n",
    "BATCH_SIZE = 128\n",
    "collect_signal_folder = \"./output\"\n",
    "models_folder = os.path.join(path, \"models\")"
   ]
  },
  {
   "cell_type": "code",
   "execution_count": 8,
   "metadata": {},
   "outputs": [
    {
     "name": "stdout",
     "output_type": "stream",
     "text": [
      "====== PREPROCESSING =======\n",
      "Load Data: Done!\n"
     ]
    }
   ],
   "source": [
    "print(\"====== PREPROCESSING =======\")\n",
    "t0 = time.time()\n",
    "df = load_data(raw_data_file)\n",
    "df = clean_data_breakout_x(df, target_col = TARGET_TO_PREDICT, breakout_window = BREAKOUT_WINDOW)"
   ]
  },
  {
   "cell_type": "code",
   "execution_count": 9,
   "metadata": {},
   "outputs": [
    {
     "name": "stdout",
     "output_type": "stream",
     "text": [
      "(128, 20, 52)\n",
      "Number of batches per epoch: 69\n",
      "TSGenerator: Done!\n",
      "[0.84402528 1.22669079]\n",
      "====== INFERENCE =======\n"
     ]
    }
   ],
   "source": [
    "df = create_target_2(df, \"target\", FUTURE_PERIOD_PREDICT, TARGET_FUNCTION)\n",
    "df = classify_target(df, \"target\", TARGET_THRESHOLD, FLIP)\n",
    "df, X, Y, start_index, end_index, scaler = split_df(df, end_split, scale = True)\n",
    "train_data_gen, val_data_gen, val_2_data_gen, test_data_gen, shape_x = TSGenerator(X, Y, SEQ_LEN, BATCH_SIZE, start_index, end_index)\n",
    "class_weights = get_class_weights(df, start_index, end_index)\n",
    "    \n",
    "    \n",
    "print(\"====== INFERENCE =======\")\n",
    "# init_dir(collect_signal_folder)\n",
    "# init_dir(collect_bestmodel_folder)\n",
    "#INFERENCE, PRED SIGNAL\n",
    "df, timestamp, all_data_gen = FullTSGeneratorDirect(df, X, Y, SEQ_LEN, batch_size = 64)"
   ]
  },
  {
   "cell_type": "code",
   "execution_count": 10,
   "metadata": {},
   "outputs": [
    {
     "name": "stdout",
     "output_type": "stream",
     "text": [
      "Best Model: Done! -- DL-0123-1.4324-0.5121-0.3736-0.3872.model\n"
     ]
    }
   ],
   "source": [
    "\n",
    "#Pick best model\n",
    "mdf = parse_model_folder(models_folder)\n",
    "fmdf, best_model_file = best_model_score(mdf)\n",
    "best_model_path = os.path.join(models_folder, best_model_file)\n",
    "model = keras.models.load_model(best_model_path, custom_objects=None, compile=False)\n",
    "print(\"Best Model: Done! --\", best_model_file)"
   ]
  },
  {
   "cell_type": "code",
   "execution_count": 11,
   "metadata": {},
   "outputs": [
    {
     "name": "stdout",
     "output_type": "stream",
     "text": [
      "Prediction: Done! 2.5967493057250977 seconds!\n",
      "Prop: 0.42977878615995463\n",
      "Signal Output: Done!\n"
     ]
    }
   ],
   "source": [
    "INIT_TIME = 0\n",
    "#Prediction\n",
    "t0 = time.time()\n",
    "y = model.predict_generator(all_data_gen)\n",
    "t1 = time.time()\n",
    "print(\"Prediction: Done!\", t1-t0, \"seconds!\")\n",
    "\n",
    "#Signal Output\n",
    "signal_df = pd.DataFrame(dict(Date = timestamp, signal_raw = y.flatten())).set_index(\"Date\")\n",
    "signal_file = \"signal_\" + TARGET_TO_PREDICT + \"_\" + str(FLIP) + \"_\" + str(INIT_TIME) + \".csv\"\n",
    "signal_df.to_csv(os.path.join(collect_signal_folder, signal_file))\n",
    "print(\"Prop:\", np.mean(signal_df[\"signal_raw\"] > 0.5))\n",
    "print(\"Signal Output: Done!\")"
   ]
  },
  {
   "cell_type": "code",
   "execution_count": 12,
   "metadata": {},
   "outputs": [],
   "source": [
    "\n",
    "\n",
    "\n",
    "\n",
    "\n",
    "\n",
    "\n",
    "\n",
    "\n",
    "\n",
    "# shutil.copy2(best_model_path, project_folder)\n",
    "# print(\"Copy best model: Done!\")\n",
    "\n",
    "# shutil.copy2(best_model_path, os.path.join(collect_bestmodel_folder, TARGET_TO_PREDICT + \"_\" + best_model_file))\n",
    "# print(\"Collect best model: Done!\")\n",
    "\n",
    "# signal_df.to_csv(os.path.join(collect_signal_folder, signal_file))\n",
    "# print(\"Collect signal.csv: Done!\")"
   ]
  }
 ],
 "metadata": {
  "kernelspec": {
   "display_name": "Python 3",
   "language": "python",
   "name": "python3"
  },
  "language_info": {
   "codemirror_mode": {
    "name": "ipython",
    "version": 3
   },
   "file_extension": ".py",
   "mimetype": "text/x-python",
   "name": "python",
   "nbconvert_exporter": "python",
   "pygments_lexer": "ipython3",
   "version": "3.6.6"
  }
 },
 "nbformat": 4,
 "nbformat_minor": 2
}
