{
 "cells": [
  {
   "cell_type": "code",
   "execution_count": 4,
   "metadata": {},
   "outputs": [],
   "source": [
    "import joblib\n",
    "import pandas as pd"
   ]
  },
  {
   "cell_type": "code",
   "execution_count": 8,
   "metadata": {},
   "outputs": [],
   "source": [
    "class Data():\n",
    "    def __init__(self, DATA_PARAMS):\n",
    "        raw_data_file = DATA_PARAMS[\"raw_data_file\"]\n",
    "        self.df = self.load_data(raw_data_file)\n",
    "    \n",
    "    def load_data(self, raw_data_file):\n",
    "        df = pd.read_csv(raw_data_file)\n",
    "        df[\"Date\"] = pd.to_datetime(df[\"Date\"])\n",
    "        df = df.set_index(\"Date\").sort_index()\n",
    "        return df\n",
    "    \n",
    "    def clean_data(self):\n",
    "        price_df = df.fillna(method = \"ffill\").dropna()\n",
    "        return_df = df.pct_change()\n",
    "\n",
    "        return_df = filter_off_trading_day(return_df, target_col)\n",
    "        filtered_index = return_df.index\n",
    "        price_df = price_df.reindex(filtered_index)\n",
    "        x_df = price_df.rolling(window = breakout_window).apply(lambda x: breakout(x)*1,raw = False)\n",
    "        return_df[\"target\"] = return_df[target_col]\n",
    "        fdf = pd.merge(x_df, return_df[[\"target\"]], left_index = True, right_index = True)\n",
    "        fdf.dropna()\n",
    "    \n",
    "        return\n",
    "    \n",
    "    def transform_X(self):\n",
    "        return\n",
    "    \n",
    "    def transform_Y(self):\n",
    "        return\n",
    "    \n",
    "    def create_target(self):\n",
    "        return\n",
    "    \n",
    "    def classify_target(self):\n",
    "        return\n",
    "    \n",
    "    def get_X(self):\n",
    "        return\n",
    "    \n",
    "    def get_Y(self):\n",
    "        return\n",
    "        \n",
    "    \n",
    "    \n",
    "        \n",
    "        \n",
    "        \n",
    "    "
   ]
  },
  {
   "cell_type": "code",
   "execution_count": null,
   "metadata": {},
   "outputs": [],
   "source": [
    "\n"
   ]
  },
  {
   "cell_type": "code",
   "execution_count": 6,
   "metadata": {},
   "outputs": [],
   "source": [
    "\n",
    "g2 = joblib.load(\"testclass.pkl\")"
   ]
  },
  {
   "cell_type": "code",
   "execution_count": 7,
   "metadata": {},
   "outputs": [
    {
     "data": {
      "text/html": [
       "<div>\n",
       "<style scoped>\n",
       "    .dataframe tbody tr th:only-of-type {\n",
       "        vertical-align: middle;\n",
       "    }\n",
       "\n",
       "    .dataframe tbody tr th {\n",
       "        vertical-align: top;\n",
       "    }\n",
       "\n",
       "    .dataframe thead th {\n",
       "        text-align: right;\n",
       "    }\n",
       "</style>\n",
       "<table border=\"1\" class=\"dataframe\">\n",
       "  <thead>\n",
       "    <tr style=\"text-align: right;\">\n",
       "      <th></th>\n",
       "      <th>a</th>\n",
       "    </tr>\n",
       "  </thead>\n",
       "  <tbody>\n",
       "    <tr>\n",
       "      <th>0</th>\n",
       "      <td>2</td>\n",
       "    </tr>\n",
       "    <tr>\n",
       "      <th>1</th>\n",
       "      <td>3</td>\n",
       "    </tr>\n",
       "    <tr>\n",
       "      <th>2</th>\n",
       "      <td>4</td>\n",
       "    </tr>\n",
       "    <tr>\n",
       "      <th>3</th>\n",
       "      <td>5</td>\n",
       "    </tr>\n",
       "    <tr>\n",
       "      <th>4</th>\n",
       "      <td>6</td>\n",
       "    </tr>\n",
       "    <tr>\n",
       "      <th>5</th>\n",
       "      <td>7</td>\n",
       "    </tr>\n",
       "    <tr>\n",
       "      <th>6</th>\n",
       "      <td>8</td>\n",
       "    </tr>\n",
       "    <tr>\n",
       "      <th>7</th>\n",
       "      <td>9</td>\n",
       "    </tr>\n",
       "    <tr>\n",
       "      <th>8</th>\n",
       "      <td>10</td>\n",
       "    </tr>\n",
       "    <tr>\n",
       "      <th>9</th>\n",
       "      <td>11</td>\n",
       "    </tr>\n",
       "  </tbody>\n",
       "</table>\n",
       "</div>"
      ],
      "text/plain": [
       "    a\n",
       "0   2\n",
       "1   3\n",
       "2   4\n",
       "3   5\n",
       "4   6\n",
       "5   7\n",
       "6   8\n",
       "7   9\n",
       "8  10\n",
       "9  11"
      ]
     },
     "execution_count": 7,
     "metadata": {},
     "output_type": "execute_result"
    }
   ],
   "source": [
    "df = load_data(raw_data_file)\n",
    "df = clean_data_breakout_x(df, target_col = TARGET_TO_PREDICT, breakout_window = BREAKOUT_WINDOW)\n",
    "df = create_target_2(df, \"target\", FUTURE_PERIOD_PREDICT, TARGET_FUNCTION)\n",
    "df = classify_target(df, \"target\", TARGET_THRESHOLD, FLIP)\n",
    "\n",
    "df, X, Y, start_index, end_index, scaler = split_df(df, end_split, scale = True)\n",
    "train_data_gen, val_data_gen, val_2_data_gen, test_data_gen, shape_x = TSGenerator(X, Y, SEQ_LEN, BATCH_SIZE, start_index, end_index)\n",
    "class_weights = get_class_weights(df, start_index, end_index)"
   ]
  },
  {
   "cell_type": "code",
   "execution_count": null,
   "metadata": {},
   "outputs": [],
   "source": []
  }
 ],
 "metadata": {
  "kernelspec": {
   "display_name": "Python 3",
   "language": "python",
   "name": "python3"
  },
  "language_info": {
   "codemirror_mode": {
    "name": "ipython",
    "version": 3
   },
   "file_extension": ".py",
   "mimetype": "text/x-python",
   "name": "python",
   "nbconvert_exporter": "python",
   "pygments_lexer": "ipython3",
   "version": "3.6.6"
  }
 },
 "nbformat": 4,
 "nbformat_minor": 2
}
