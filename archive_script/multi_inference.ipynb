{
 "cells": [
  {
   "cell_type": "code",
   "execution_count": 1,
   "metadata": {},
   "outputs": [
    {
     "name": "stderr",
     "output_type": "stream",
     "text": [
      "Using TensorFlow backend.\n"
     ]
    },
    {
     "name": "stdout",
     "output_type": "stream",
     "text": [
      "['Multi_1540459285']\n",
      "Running: Multi_1540459285\n",
      "Load Data: Done!\n",
      "Clean Data: Done!\n",
      "(64, 60, 36) (64, 7) (4410, 36) (4410, 7) 4410\n",
      "Number of batches per epoch: 68\n",
      "TSGenerator: Done!\n"
     ]
    }
   ],
   "source": [
    "from cnn_method import *\n",
    "from cnn_preproc_function import *\n",
    "from multi_cnn_preproc_function import *\n",
    "from inference_function import *\n",
    "from performance_function import *\n",
    "\n",
    "import optparse\n",
    "import numpy as np\n",
    "import pandas as pd\n",
    "\n",
    "import sklearn\n",
    "from sklearn import preprocessing\n",
    "\n",
    "import keras\n",
    "import tensorflow as tf\n",
    "\n",
    "from keras_model_configuration import *\n",
    "from keras_metric import *\n",
    "\n",
    "import datetime\n",
    "import time\n",
    "import os\n",
    "import shutil\n",
    "\n",
    "from sklearn.externals import joblib\n",
    "\n",
    "#OPTS PARSER\n",
    "# optparser = optparse.OptionParser()\n",
    "# optparser.add_option(\"-a\", \"--assetindex\", default=0, help=\"assetindex\")\n",
    "# optparser.add_option(\"-d\", \"--gpudevice\", default=\"1\", help=\"gpudevice\")\n",
    "# opts = optparser.parse_args()[0]\n",
    "\n",
    "# assetindex = int(opts.assetindex)\n",
    "# gpudevice = opts.gpudevice\n",
    "assetindex = 0\n",
    "gpudevice = \"1\"\n",
    "\n",
    "#GPU CONFIG\n",
    "os.environ[\"TF_MIN_GPU_MULTIPROCESSOR_COUNT\"] = \"4\"\n",
    "os.environ[\"CUDA_VISIBLE_DEVICES\"]=gpudevice\n",
    "config = tf.ConfigProto()\n",
    "config.gpu_options.allow_growth = True\n",
    "session = tf.Session(config=config)\n",
    "\n",
    "####################\n",
    "#SETUP INIT\n",
    "####################\n",
    "main_folder = \"/home/workstation/Desktop/CNN/output/RNN_Multi_1_long_60_5_day\"\n",
    "collect_signal_folder = \"/home/workstation/Desktop/CNN/output/signal_RNN_Multi_1_long_60_5_day\"\n",
    "daily = True\n",
    "\n",
    "batch_size = 64\n",
    "\n",
    "####################\n",
    "#END OF SETUP INIT\n",
    "####################\n",
    "init_dir(collect_signal_folder)\n",
    "\n",
    "try:\n",
    "    setups_folder = [j for j in os.listdir(main_folder) if os.path.isdir(os.path.join(main_folder,j))]\n",
    "    print(setups_folder)\n",
    "    setup_folder_name = setups_folder[assetindex]\n",
    "    print(\"Running:\", setup_folder_name)\n",
    "\n",
    "except Exception as err:\n",
    "    print(\"Index:\", assetindex, \"--SETUP ERROR!\")\n",
    "    raise Exception(err)\n",
    "\n",
    "setup_path = os.path.join(main_folder, setup_folder_name)\n",
    "DATA_PARAMS = joblib.load(os.path.join(setup_path, \"DATA_PARAMS.pkl\"))\n",
    "MODEL_PARAMS = joblib.load(os.path.join(setup_path, \"MODEL_PARAMS.pkl\"))\n",
    "scaler = joblib.load(os.path.join(setup_path, \"scaler.pkl\"))\n",
    "locals().update(DATA_PARAMS)\n",
    "locals().update(MODEL_PARAMS)\n",
    "\n",
    "if daily:\n",
    "    df = load_data_daily_close_missing(raw_data_file)\n",
    "    #Create target\n",
    "    df, X, Y, x_columns, y_columns = multi_create_target(df, FUTURE_PERIOD_PREDICT, TARGET_FUNCTION, TARGET_THRESHOLD, FLIP, selected_cols = SELECTED_COLS)\n",
    "    X = scaler.transform(X)\n",
    "    \n",
    "    \n",
    "    all_data_gen = TimeseriesGenerator(X, Y,\n",
    "                       length=SEQ_LEN, sampling_rate=1,\n",
    "                       batch_size=BATCH_SIZE,\n",
    "                       shuffle=False)\n",
    "    timestamp = df.index.values\n",
    "    shape_x = all_data_gen[0][0].shape\n",
    "    shape_y = all_data_gen[0][1].shape\n",
    "    print(shape_x, shape_y, X.shape, Y.shape, len(timestamp))\n",
    "    print(\"Number of batches per epoch:\", len(all_data_gen))\n",
    "    print(\"TSGenerator: Done!\")\n",
    "\n"
   ]
  },
  {
   "cell_type": "code",
   "execution_count": 2,
   "metadata": {},
   "outputs": [
    {
     "name": "stdout",
     "output_type": "stream",
     "text": [
      "Best Model: Done!\n"
     ]
    }
   ],
   "source": [
    "#Pick best model\n",
    "models_folder = os.path.join(setup_path, \"models\")\n",
    "mdf = parse_model_folder(models_folder)\n",
    "fmdf, best_model_file = best_model_score_multi(mdf)\n",
    "best_model_path = os.path.join(models_folder,best_model_file)\n",
    "model = keras.models.load_model(best_model_path, custom_objects=None, compile=False)\n",
    "print(\"Best Model: Done!\")"
   ]
  },
  {
   "cell_type": "code",
   "execution_count": 3,
   "metadata": {},
   "outputs": [
    {
     "name": "stdout",
     "output_type": "stream",
     "text": [
      "Prediction: Done! 1.1645996570587158 seconds!\n"
     ]
    }
   ],
   "source": [
    "#Prediction\n",
    "t0 = time.time()\n",
    "y = model.predict_generator(all_data_gen)\n",
    "t1 = time.time()\n",
    "print(\"Prediction: Done!\", t1-t0, \"seconds!\")"
   ]
  },
  {
   "cell_type": "code",
   "execution_count": 4,
   "metadata": {},
   "outputs": [
    {
     "name": "stdout",
     "output_type": "stream",
     "text": [
      "Error deleting signal.csv: Multi_1540459285\n"
     ]
    }
   ],
   "source": [
    "#Remove existing signal file\n",
    "try:\n",
    "    os.remove(glob.glob(os.path.join(main_folder, setup_folder_name, \"*.csv\"))[0])\n",
    "except:\n",
    "    print(\"Error deleting signal.csv:\", setup_folder_name)"
   ]
  },
  {
   "cell_type": "code",
   "execution_count": 5,
   "metadata": {},
   "outputs": [
    {
     "name": "stdout",
     "output_type": "stream",
     "text": [
      "Signal Output: Done!\n"
     ]
    }
   ],
   "source": [
    "#Signal Output\n",
    "lower = len(timestamp)-y.shape[0]\n",
    "Date = timestamp[lower:]\n",
    "signal_df = pd.DataFrame(y, index = Date, columns = y_columns)\n",
    "signal_file = \"signal_\" + setup_folder_name + \"_\" + str(FLIP) + \".csv\"\n",
    "signal_df.to_csv(os.path.join(setup_path, signal_file))\n",
    "print(\"Signal Output: Done!\")"
   ]
  },
  {
   "cell_type": "code",
   "execution_count": 6,
   "metadata": {},
   "outputs": [
    {
     "name": "stdout",
     "output_type": "stream",
     "text": [
      "Copy best model: Done!\n"
     ]
    }
   ],
   "source": [
    "shutil.copy2(best_model_path, setup_path)\n",
    "print(\"Copy best model: Done!\")"
   ]
  },
  {
   "cell_type": "code",
   "execution_count": 7,
   "metadata": {},
   "outputs": [
    {
     "name": "stdout",
     "output_type": "stream",
     "text": [
      "Collect signal.csv: Done!\n"
     ]
    }
   ],
   "source": [
    "signal_df.to_csv(os.path.join(collect_signal_folder, signal_file))\n",
    "print(\"Collect signal.csv: Done!\")\n"
   ]
  },
  {
   "cell_type": "code",
   "execution_count": 8,
   "metadata": {
    "scrolled": true
   },
   "outputs": [
    {
     "name": "stdout",
     "output_type": "stream",
     "text": [
      "n: 1984\n",
      "true: prop: 0.5720766129032258 n1: 1135\n",
      "pred: prop: 0.5846774193548387 n1: 1160\n",
      "cm:\n",
      " [[364 485]\n",
      " [460 675]]\n",
      "prec: 0.5818965517241379\n",
      "auc: 0.5054383752847351\n",
      "=============== 0\n",
      "=============== 0\n",
      "n: 1984\n",
      "true: prop: 0.4753024193548387 n1: 943\n",
      "pred: prop: 0.8684475806451613 n1: 1723\n",
      "cm:\n",
      " [[128 913]\n",
      " [133 810]]\n",
      "prec: 0.4701102727800348\n",
      "auc: 0.5252907566038447\n",
      "=============== 1\n",
      "=============== 1\n",
      "n: 1984\n",
      "true: prop: 0.577116935483871 n1: 1145\n",
      "pred: prop: 0.5529233870967742 n1: 1097\n",
      "cm:\n",
      " [[387 452]\n",
      " [500 645]]\n",
      "prec: 0.5879671832269827\n",
      "auc: 0.5017243443275682\n",
      "=============== 2\n",
      "=============== 2\n",
      "n: 1984\n",
      "true: prop: 0.5514112903225806 n1: 1094\n",
      "pred: prop: 0.48588709677419356 n1: 964\n",
      "cm:\n",
      " [[468 422]\n",
      " [552 542]]\n",
      "prec: 0.5622406639004149\n",
      "auc: 0.5143910605344781\n",
      "=============== 3\n",
      "=============== 3\n",
      "n: 1984\n",
      "true: prop: 0.4470766129032258 n1: 887\n",
      "pred: prop: 0.17338709677419356 n1: 344\n",
      "cm:\n",
      " [[919 178]\n",
      " [721 166]]\n",
      "prec: 0.48255813953488375\n",
      "auc: 0.534562335117092\n",
      "=============== 4\n",
      "=============== 4\n",
      "n: 1984\n",
      "true: prop: 0.4526209677419355 n1: 898\n",
      "pred: prop: 0.41481854838709675 n1: 823\n",
      "cm:\n",
      " [[644 442]\n",
      " [517 381]]\n",
      "prec: 0.4629404617253949\n",
      "auc: 0.5157440106313601\n",
      "=============== 5\n",
      "=============== 5\n",
      "n: 1984\n",
      "true: prop: 0.453125 n1: 899\n",
      "pred: prop: 0.28326612903225806 n1: 562\n",
      "cm:\n",
      " [[810 275]\n",
      " [612 287]]\n",
      "prec: 0.5106761565836299\n",
      "auc: 0.5508844953173777\n",
      "=============== 6\n",
      "=============== 6\n"
     ]
    }
   ],
   "source": [
    "#Scoring\n",
    "actual_df = pd.DataFrame(Y[lower:], index = Date, columns = y_columns)\n",
    "L = np.sum(signal_df.index <= DATA_PARAMS[\"end_split\"][0])\n",
    "for i in range(y.shape[1]):\n",
    "    yscore = signal_df.values[L:,i]\n",
    "    ytrue = actual_df.values[L:,i]\n",
    "    perf(ytrue,yscore, t = 0.5)\n",
    "    print(\"===============\", i)\n",
    "    print(\"===============\", i)"
   ]
  },
  {
   "cell_type": "code",
   "execution_count": null,
   "metadata": {},
   "outputs": [],
   "source": []
  },
  {
   "cell_type": "code",
   "execution_count": null,
   "metadata": {},
   "outputs": [],
   "source": []
  },
  {
   "cell_type": "code",
   "execution_count": null,
   "metadata": {},
   "outputs": [],
   "source": []
  },
  {
   "cell_type": "code",
   "execution_count": null,
   "metadata": {},
   "outputs": [],
   "source": []
  }
 ],
 "metadata": {
  "kernelspec": {
   "display_name": "Python 3",
   "language": "python",
   "name": "python3"
  },
  "language_info": {
   "codemirror_mode": {
    "name": "ipython",
    "version": 3
   },
   "file_extension": ".py",
   "mimetype": "text/x-python",
   "name": "python",
   "nbconvert_exporter": "python",
   "pygments_lexer": "ipython3",
   "version": "3.6.6"
  }
 },
 "nbformat": 4,
 "nbformat_minor": 2
}
