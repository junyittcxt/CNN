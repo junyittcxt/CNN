{
 "cells": [
  {
   "cell_type": "code",
   "execution_count": 127,
   "metadata": {},
   "outputs": [],
   "source": [
    "import time\n",
    "import numpy as np\n",
    "import requests\n",
    "from multiprocessing import Pool\n",
    "import multiprocessing as mp    \n",
    "payload = {'date': '2018-11-26 12:00:00'}\n",
    "r = requests.get('http://0.0.0.0:5128/predict', params=payload)\n"
   ]
  },
  {
   "cell_type": "code",
   "execution_count": 128,
   "metadata": {},
   "outputs": [],
   "source": [
    "payload = dict(date = '2018-11-26 12:00:00', strat = 1202)\n",
    "r = requests.get('http://0.0.0.0:5005/multi', params=payload)"
   ]
  },
  {
   "cell_type": "code",
   "execution_count": 84,
   "metadata": {},
   "outputs": [],
   "source": [
    "# payload = dict(date = '2018-11-26 13:00:00', portstart = 5128, portend = 5145)\n",
    "# r = requests.get('http://0.0.0.0:5005/multi', params=payload)"
   ]
  },
  {
   "cell_type": "code",
   "execution_count": 126,
   "metadata": {},
   "outputs": [
    {
     "ename": "JSONDecodeError",
     "evalue": "Expecting value: line 1 column 1 (char 0)",
     "output_type": "error",
     "traceback": [
      "\u001b[0;31m---------------------------------------------------------------------------\u001b[0m",
      "\u001b[0;31mJSONDecodeError\u001b[0m                           Traceback (most recent call last)",
      "\u001b[0;32m<ipython-input-126-39d7bc57f475>\u001b[0m in \u001b[0;36m<module>\u001b[0;34m\u001b[0m\n\u001b[1;32m      1\u001b[0m \u001b[0;34m\u001b[0m\u001b[0m\n\u001b[1;32m      2\u001b[0m \u001b[0;32mimport\u001b[0m \u001b[0mjson\u001b[0m\u001b[0;34m\u001b[0m\u001b[0m\n\u001b[0;32m----> 3\u001b[0;31m \u001b[0mjson\u001b[0m\u001b[0;34m.\u001b[0m\u001b[0mloads\u001b[0m\u001b[0;34m(\u001b[0m\u001b[0mr\u001b[0m\u001b[0;34m.\u001b[0m\u001b[0mtext\u001b[0m\u001b[0;34m)\u001b[0m\u001b[0;34m\u001b[0m\u001b[0m\n\u001b[0m",
      "\u001b[0;32m/usr/lib/python3.6/json/__init__.py\u001b[0m in \u001b[0;36mloads\u001b[0;34m(s, encoding, cls, object_hook, parse_float, parse_int, parse_constant, object_pairs_hook, **kw)\u001b[0m\n\u001b[1;32m    352\u001b[0m             \u001b[0mparse_int\u001b[0m \u001b[0;32mis\u001b[0m \u001b[0;32mNone\u001b[0m \u001b[0;32mand\u001b[0m \u001b[0mparse_float\u001b[0m \u001b[0;32mis\u001b[0m \u001b[0;32mNone\u001b[0m \u001b[0;32mand\u001b[0m\u001b[0;34m\u001b[0m\u001b[0m\n\u001b[1;32m    353\u001b[0m             parse_constant is None and object_pairs_hook is None and not kw):\n\u001b[0;32m--> 354\u001b[0;31m         \u001b[0;32mreturn\u001b[0m \u001b[0m_default_decoder\u001b[0m\u001b[0;34m.\u001b[0m\u001b[0mdecode\u001b[0m\u001b[0;34m(\u001b[0m\u001b[0ms\u001b[0m\u001b[0;34m)\u001b[0m\u001b[0;34m\u001b[0m\u001b[0m\n\u001b[0m\u001b[1;32m    355\u001b[0m     \u001b[0;32mif\u001b[0m \u001b[0mcls\u001b[0m \u001b[0;32mis\u001b[0m \u001b[0;32mNone\u001b[0m\u001b[0;34m:\u001b[0m\u001b[0;34m\u001b[0m\u001b[0m\n\u001b[1;32m    356\u001b[0m         \u001b[0mcls\u001b[0m \u001b[0;34m=\u001b[0m \u001b[0mJSONDecoder\u001b[0m\u001b[0;34m\u001b[0m\u001b[0m\n",
      "\u001b[0;32m/usr/lib/python3.6/json/decoder.py\u001b[0m in \u001b[0;36mdecode\u001b[0;34m(self, s, _w)\u001b[0m\n\u001b[1;32m    337\u001b[0m \u001b[0;34m\u001b[0m\u001b[0m\n\u001b[1;32m    338\u001b[0m         \"\"\"\n\u001b[0;32m--> 339\u001b[0;31m         \u001b[0mobj\u001b[0m\u001b[0;34m,\u001b[0m \u001b[0mend\u001b[0m \u001b[0;34m=\u001b[0m \u001b[0mself\u001b[0m\u001b[0;34m.\u001b[0m\u001b[0mraw_decode\u001b[0m\u001b[0;34m(\u001b[0m\u001b[0ms\u001b[0m\u001b[0;34m,\u001b[0m \u001b[0midx\u001b[0m\u001b[0;34m=\u001b[0m\u001b[0m_w\u001b[0m\u001b[0;34m(\u001b[0m\u001b[0ms\u001b[0m\u001b[0;34m,\u001b[0m \u001b[0;36m0\u001b[0m\u001b[0;34m)\u001b[0m\u001b[0;34m.\u001b[0m\u001b[0mend\u001b[0m\u001b[0;34m(\u001b[0m\u001b[0;34m)\u001b[0m\u001b[0;34m)\u001b[0m\u001b[0;34m\u001b[0m\u001b[0m\n\u001b[0m\u001b[1;32m    340\u001b[0m         \u001b[0mend\u001b[0m \u001b[0;34m=\u001b[0m \u001b[0m_w\u001b[0m\u001b[0;34m(\u001b[0m\u001b[0ms\u001b[0m\u001b[0;34m,\u001b[0m \u001b[0mend\u001b[0m\u001b[0;34m)\u001b[0m\u001b[0;34m.\u001b[0m\u001b[0mend\u001b[0m\u001b[0;34m(\u001b[0m\u001b[0;34m)\u001b[0m\u001b[0;34m\u001b[0m\u001b[0m\n\u001b[1;32m    341\u001b[0m         \u001b[0;32mif\u001b[0m \u001b[0mend\u001b[0m \u001b[0;34m!=\u001b[0m \u001b[0mlen\u001b[0m\u001b[0;34m(\u001b[0m\u001b[0ms\u001b[0m\u001b[0;34m)\u001b[0m\u001b[0;34m:\u001b[0m\u001b[0;34m\u001b[0m\u001b[0m\n",
      "\u001b[0;32m/usr/lib/python3.6/json/decoder.py\u001b[0m in \u001b[0;36mraw_decode\u001b[0;34m(self, s, idx)\u001b[0m\n\u001b[1;32m    355\u001b[0m             \u001b[0mobj\u001b[0m\u001b[0;34m,\u001b[0m \u001b[0mend\u001b[0m \u001b[0;34m=\u001b[0m \u001b[0mself\u001b[0m\u001b[0;34m.\u001b[0m\u001b[0mscan_once\u001b[0m\u001b[0;34m(\u001b[0m\u001b[0ms\u001b[0m\u001b[0;34m,\u001b[0m \u001b[0midx\u001b[0m\u001b[0;34m)\u001b[0m\u001b[0;34m\u001b[0m\u001b[0m\n\u001b[1;32m    356\u001b[0m         \u001b[0;32mexcept\u001b[0m \u001b[0mStopIteration\u001b[0m \u001b[0;32mas\u001b[0m \u001b[0merr\u001b[0m\u001b[0;34m:\u001b[0m\u001b[0;34m\u001b[0m\u001b[0m\n\u001b[0;32m--> 357\u001b[0;31m             \u001b[0;32mraise\u001b[0m \u001b[0mJSONDecodeError\u001b[0m\u001b[0;34m(\u001b[0m\u001b[0;34m\"Expecting value\"\u001b[0m\u001b[0;34m,\u001b[0m \u001b[0ms\u001b[0m\u001b[0;34m,\u001b[0m \u001b[0merr\u001b[0m\u001b[0;34m.\u001b[0m\u001b[0mvalue\u001b[0m\u001b[0;34m)\u001b[0m \u001b[0;32mfrom\u001b[0m \u001b[0;32mNone\u001b[0m\u001b[0;34m\u001b[0m\u001b[0m\n\u001b[0m\u001b[1;32m    358\u001b[0m         \u001b[0;32mreturn\u001b[0m \u001b[0mobj\u001b[0m\u001b[0;34m,\u001b[0m \u001b[0mend\u001b[0m\u001b[0;34m\u001b[0m\u001b[0m\n",
      "\u001b[0;31mJSONDecodeError\u001b[0m: Expecting value: line 1 column 1 (char 0)"
     ]
    }
   ],
   "source": [
    "\n",
    "import json\n",
    "json.loads(r.text)"
   ]
  },
  {
   "cell_type": "code",
   "execution_count": null,
   "metadata": {},
   "outputs": [],
   "source": []
  },
  {
   "cell_type": "code",
   "execution_count": 53,
   "metadata": {},
   "outputs": [
    {
     "name": "stdout",
     "output_type": "stream",
     "text": [
      "port: 5129 status: failed HTTPConnectionPool(host='0.0.0.0', port=5129): Max retries exceeded with url: /predict?date=2018-11-26+12%3A00%3A00 (Caused by NewConnectionError('<urllib3.connection.HTTPConnection object at 0x7f32e4070630>: Failed to establish a new connection: [Errno 111] Connection refused',))\n",
      "port: 5130 status: failed HTTPConnectionPool(host='0.0.0.0', port=5130): Max retries exceeded with url: /predict?date=2018-11-26+12%3A00%3A00 (Caused by NewConnectionError('<urllib3.connection.HTTPConnection object at 0x7f32e40706d8>: Failed to establish a new connection: [Errno 111] Connection refused',))\n",
      "port: 5131 status: failed HTTPConnectionPool(host='0.0.0.0', port=5131): Max retries exceeded with url: /predict?date=2018-11-26+12%3A00%3A00 (Caused by NewConnectionError('<urllib3.connection.HTTPConnection object at 0x7f32e40702b0>: Failed to establish a new connection: [Errno 111] Connection refused',))\n",
      "port: 5132 status: failed HTTPConnectionPool(host='0.0.0.0', port=5132): Max retries exceeded with url: /predict?date=2018-11-26+12%3A00%3A00 (Caused by NewConnectionError('<urllib3.connection.HTTPConnection object at 0x7f32dbe13898>: Failed to establish a new connection: [Errno 111] Connection refused',))\n",
      "port: 5134 status: failed HTTPConnectionPool(host='0.0.0.0', port=5134): Max retries exceeded with url: /predict?date=2018-11-26+12%3A00%3A00 (Caused by NewConnectionError('<urllib3.connection.HTTPConnection object at 0x7f32dbe13940>: Failed to establish a new connection: [Errno 111] Connection refused',))\n",
      "port: 5135 status: failed HTTPConnectionPool(host='0.0.0.0', port=5135): Max retries exceeded with url: /predict?date=2018-11-26+12%3A00%3A00 (Caused by NewConnectionError('<urllib3.connection.HTTPConnection object at 0x7f32dbe13978>: Failed to establish a new connection: [Errno 111] Connection refused',))\n",
      "port: 5133 status: failed HTTPConnectionPool(host='0.0.0.0', port=5133): Max retries exceeded with url: /predict?date=2018-11-26+12%3A00%3A00 (Caused by NewConnectionError('<urllib3.connection.HTTPConnection object at 0x7f32dbe135c0>: Failed to establish a new connection: [Errno 111] Connection refused',))\n",
      "port: 5136 status: failed HTTPConnectionPool(host='0.0.0.0', port=5136): Max retries exceeded with url: /predict?date=2018-11-26+12%3A00%3A00 (Caused by NewConnectionError('<urllib3.connection.HTTPConnection object at 0x7f32dbe13a20>: Failed to establish a new connection: [Errno 111] Connection refused',))\n",
      "port: 5137 status: failed HTTPConnectionPool(host='0.0.0.0', port=5137): Max retries exceeded with url: /predict?date=2018-11-26+12%3A00%3A00 (Caused by NewConnectionError('<urllib3.connection.HTTPConnection object at 0x7f32dbe13ac8>: Failed to establish a new connection: [Errno 111] Connection refused',))\n",
      "port: 5138 status: failed HTTPConnectionPool(host='0.0.0.0', port=5138): Max retries exceeded with url: /predict?date=2018-11-26+12%3A00%3A00 (Caused by NewConnectionError('<urllib3.connection.HTTPConnection object at 0x7f32dbe13ba8>: Failed to establish a new connection: [Errno 111] Connection refused',))\n",
      "port: 5139 status: failed HTTPConnectionPool(host='0.0.0.0', port=5139): Max retries exceeded with url: /predict?date=2018-11-26+12%3A00%3A00 (Caused by NewConnectionError('<urllib3.connection.HTTPConnection object at 0x7f32dbe13c18>: Failed to establish a new connection: [Errno 111] Connection refused',))\n",
      "port: 5140 status: failed HTTPConnectionPool(host='0.0.0.0', port=5140): Max retries exceeded with url: /predict?date=2018-11-26+12%3A00%3A00 (Caused by NewConnectionError('<urllib3.connection.HTTPConnection object at 0x7f32dbe13cc0>: Failed to establish a new connection: [Errno 111] Connection refused',))\n",
      "port: 5141 status: failed HTTPConnectionPool(host='0.0.0.0', port=5141): Max retries exceeded with url: /predict?date=2018-11-26+12%3A00%3A00 (Caused by NewConnectionError('<urllib3.connection.HTTPConnection object at 0x7f32dbe13d68>: Failed to establish a new connection: [Errno 111] Connection refused',))\n",
      "port: 5142 status: failed HTTPConnectionPool(host='0.0.0.0', port=5142): Max retries exceeded with url: /predict?date=2018-11-26+12%3A00%3A00 (Caused by NewConnectionError('<urllib3.connection.HTTPConnection object at 0x7f32dbe13e10>: Failed to establish a new connection: [Errno 111] Connection refused',))\n",
      "port: 5143 status: failed HTTPConnectionPool(host='0.0.0.0', port=5143): Max retries exceeded with url: /predict?date=2018-11-26+12%3A00%3A00 (Caused by NewConnectionError('<urllib3.connection.HTTPConnection object at 0x7f32dbe13eb8>: Failed to establish a new connection: [Errno 111] Connection refused',))\n",
      "port: 5145 status: failed HTTPConnectionPool(host='0.0.0.0', port=5145): Max retries exceeded with url: /predict?date=2018-11-26+12%3A00%3A00 (Caused by NewConnectionError('<urllib3.connection.HTTPConnection object at 0x7f32dbe12048>: Failed to establish a new connection: [Errno 111] Connection refused',))\n",
      "port: 5144 status: failed HTTPConnectionPool(host='0.0.0.0', port=5144): Max retries exceeded with url: /predict?date=2018-11-26+12%3A00%3A00 (Caused by NewConnectionError('<urllib3.connection.HTTPConnection object at 0x7f32dbe13f60>: Failed to establish a new connection: [Errno 111] Connection refused',))\n",
      "port: 5128 status: <Response [200]>\n",
      "0\n",
      "['0', '0', '0', '0', '0', '0', '0', '0', '0', '0', '0', '0', '0', '0', '0', '0', '0', '0']\n",
      "1.268526554107666\n"
     ]
    }
   ],
   "source": [
    "port_start = 5128\n",
    "port_end = 5145\n",
    "N = port_end - port_start + 1\n",
    "def get(port, payload, return_dict):\n",
    "    try:\n",
    "        r = requests.get('http://0.0.0.0:{}/predict'.format(i), params=payload)\n",
    "        print(\"port:\", port, \"status:\", r)\n",
    "        print(r.text)\n",
    "        return_dict[port] = r.text\n",
    "    except Exception as err:\n",
    "        print(\"port:\", port, \"status:\", \"failed\", err)\n",
    "        return_dict[port] = \"0\"\n",
    "\n",
    "        \n",
    "t0 = time.time()        \n",
    "payload = {'date': '2018-11-26 12:00:00'}\n",
    "\n",
    "manager = mp.Manager()\n",
    "return_dict = manager.dict()\n",
    "\n",
    "jobs = []\n",
    "for i in np.arange(N) + port_start:\n",
    "    port = i\n",
    "    p = mp.Process(target=get, args=(port, payload, return_dict))\n",
    "    jobs.append(p)\n",
    "    p.start()\n",
    "    \n",
    "for proc in jobs:\n",
    "    proc.join()   \n",
    "    \n",
    "print(return_dict.values())\n",
    "t1 = time.time()\n",
    "print(t1-t0)"
   ]
  },
  {
   "cell_type": "code",
   "execution_count": 40,
   "metadata": {},
   "outputs": [
    {
     "name": "stdout",
     "output_type": "stream",
     "text": [
      "port: 5140 status: failed HTTPConnectionPool(host='0.0.0.0', port=5140): Max retries exceeded with url: /predict?date=2018-11-26+12%3A00%3A00 (Caused by NewConnectionError('<urllib3.connection.HTTPConnection object at 0x7f32f4046e10>: Failed to establish a new connection: [Errno 111] Connection refused',))\n",
      "port: 5139 status: failed HTTPConnectionPool(host='0.0.0.0', port=5139): Max retries exceeded with url: /predict?date=2018-11-26+12%3A00%3A00 (Caused by NewConnectionError('<urllib3.connection.HTTPConnection object at 0x7f32fc689a90>: Failed to establish a new connection: [Errno 111] Connection refused',))\n",
      "port: 5141 status: failed HTTPConnectionPool(host='0.0.0.0', port=5141): Max retries exceeded with url: /predict?date=2018-11-26+12%3A00%3A00 (Caused by NewConnectionError('<urllib3.connection.HTTPConnection object at 0x7f32dbeb7470>: Failed to establish a new connection: [Errno 111] Connection refused',))\n",
      "port: 5145 status: failed HTTPConnectionPool(host='0.0.0.0', port=5145): Max retries exceeded with url: /predict?date=2018-11-26+12%3A00%3A00 (Caused by NewConnectionError('<urllib3.connection.HTTPConnection object at 0x7f32f4046e10>: Failed to establish a new connection: [Errno 111] Connection refused',))\n",
      "port: 5144 status: failed HTTPConnectionPool(host='0.0.0.0', port=5144): Max retries exceeded with url: /predict?date=2018-11-26+12%3A00%3A00 (Caused by NewConnectionError('<urllib3.connection.HTTPConnection object at 0x7f32dbeb7d30>: Failed to establish a new connection: [Errno 111] Connection refused',))\n",
      "port: 5142 status: failed HTTPConnectionPool(host='0.0.0.0', port=5142): Max retries exceeded with url: /predict?date=2018-11-26+12%3A00%3A00 (Caused by NewConnectionError('<urllib3.connection.HTTPConnection object at 0x7f32dbeb7470>: Failed to establish a new connection: [Errno 111] Connection refused',))\n",
      "port: 5143 status: failed HTTPConnectionPool(host='0.0.0.0', port=5143): Max retries exceeded with url: /predict?date=2018-11-26+12%3A00%3A00 (Caused by NewConnectionError('<urllib3.connection.HTTPConnection object at 0x7f32dbeb7978>: Failed to establish a new connection: [Errno 111] Connection refused',))\n",
      "port: 5129 status: <Response [200]>\n",
      "port: 5128 status: <Response [200]>\n",
      "port: 5138 status: <Response [200]>\n",
      "port: 5130 status: <Response [200]>\n",
      "port: 5131 status: <Response [200]>\n",
      "port: 5132 status: <Response [200]>\n",
      "port: 5135 status: <Response [200]>\n",
      "port: 5134 status: <Response [200]>\n",
      "port: 5137 status: <Response [200]>\n",
      "port: 5133 status: <Response [200]>\n",
      "port: 5136 status: <Response [200]>\n",
      "['0', '0', '0', '0', '0', '0', '0', '0.48477978', '0.11588954', '0.48263636', '0.14896013', '0.050073836', '0.0038003414', '0.5406566', '0.5601557', '0.12443929', '0.49236935', '0.12909412']\n",
      "2.9206814765930176\n"
     ]
    }
   ],
   "source": [
    "port_start =  5128\n",
    "port_end = 5145\n",
    "N = port_end - port_start + 1\n",
    "def get(port, payload, return_dict):\n",
    "    try:\n",
    "        r = requests.get('http://0.0.0.0:{}/predict'.format(i), params=payload)\n",
    "        print(\"port:\", port, \"status:\", r)\n",
    "        return_dict[port] = r.text\n",
    "    except Exception as err:\n",
    "        print(\"port:\", port, \"status:\", \"failed\", err)\n",
    "        return_dict[port] = \"0\"\n",
    "\n",
    "        \n",
    "t0 = time.time()        \n",
    "payload = {'date': '2018-11-26 12:00:00'}\n",
    "\n",
    "manager = mp.Manager()\n",
    "return_dict = manager.dict()\n",
    "\n",
    "jobs = []\n",
    "for i in np.arange(N) + port_start:\n",
    "    port = i\n",
    "    p = mp.Process(target=get, args=(port, payload, return_dict))\n",
    "    jobs.append(p)\n",
    "    p.start()\n",
    "    \n",
    "for proc in jobs:\n",
    "    proc.join()   \n",
    "    \n",
    "print(return_dict.values())\n",
    "t1 = time.time()\n",
    "print(t1-t0)\n"
   ]
  },
  {
   "cell_type": "code",
   "execution_count": 34,
   "metadata": {},
   "outputs": [
    {
     "data": {
      "text/plain": [
       "{5190: '0',\n",
       " 5191: '0',\n",
       " 5192: '0',\n",
       " 5193: '0',\n",
       " 5195: '0',\n",
       " 5194: '0',\n",
       " 5196: '0',\n",
       " 5197: '0'}"
      ]
     },
     "execution_count": 34,
     "metadata": {},
     "output_type": "execute_result"
    }
   ],
   "source": [
    "return_dict = return_dict.copy()\n",
    "return_dict"
   ]
  },
  {
   "cell_type": "code",
   "execution_count": 109,
   "metadata": {},
   "outputs": [
    {
     "data": {
      "text/html": [
       "<div>\n",
       "<style scoped>\n",
       "    .dataframe tbody tr th:only-of-type {\n",
       "        vertical-align: middle;\n",
       "    }\n",
       "\n",
       "    .dataframe tbody tr th {\n",
       "        vertical-align: top;\n",
       "    }\n",
       "\n",
       "    .dataframe thead th {\n",
       "        text-align: right;\n",
       "    }\n",
       "</style>\n",
       "<table border=\"1\" class=\"dataframe\">\n",
       "  <thead>\n",
       "    <tr style=\"text-align: right;\">\n",
       "      <th></th>\n",
       "      <th>z</th>\n",
       "      <th>y</th>\n",
       "    </tr>\n",
       "  </thead>\n",
       "  <tbody>\n",
       "    <tr>\n",
       "      <th>a</th>\n",
       "      <td>1</td>\n",
       "      <td>2</td>\n",
       "    </tr>\n",
       "    <tr>\n",
       "      <th>b</th>\n",
       "      <td>11</td>\n",
       "      <td>22</td>\n",
       "    </tr>\n",
       "  </tbody>\n",
       "</table>\n",
       "</div>"
      ],
      "text/plain": [
       "    z   y\n",
       "a   1   2\n",
       "b  11  22"
      ]
     },
     "execution_count": 109,
     "metadata": {},
     "output_type": "execute_result"
    }
   ],
   "source": [
    "zz = dict(a = dict(z = 1, y = 2), b = dict(z = 11, y = 22))\n",
    "\n",
    "pd.DataFrame.from_dict(zz, orient=\"index\")"
   ]
  },
  {
   "cell_type": "code",
   "execution_count": 104,
   "metadata": {},
   "outputs": [
    {
     "name": "stdout",
     "output_type": "stream",
     "text": [
      "b_EWJ\n",
      "b_EWW\n",
      "b_TLT\n",
      "b_USDCAD\n",
      "b_USDJPY\n",
      "b_VWO\n",
      "b_XBI\n",
      "b_XLK\n",
      "b_XLY\n",
      "s_EWJ\n",
      "s_EWW\n",
      "s_TLT\n",
      "s_USDCAD\n",
      "s_USDJPY\n",
      "s_VWO\n",
      "s_XBI\n",
      "s_XLK\n",
      "s_XLY\n"
     ]
    }
   ],
   "source": [
    "strat = \"1202\"\n",
    "list_files = os.listdir(os.path.join(\"STRATEGY_KEYS_PORTS\"))\n",
    "selected_csv = [j for j in list_files if j.split(\"-\")[0] == strat][0]\n",
    "df = pd.read_csv(os.path.join(\"STRATEGY_KEYS_PORTS\", selected_csv))[[\"key\", \"port\"]]\n",
    "for j in df[\"key\"]:\n",
    "    print(j)"
   ]
  },
  {
   "cell_type": "code",
   "execution_count": 91,
   "metadata": {},
   "outputs": [
    {
     "data": {
      "text/plain": [
       "[]"
      ]
     },
     "execution_count": 91,
     "metadata": {},
     "output_type": "execute_result"
    }
   ],
   "source": [
    "list_files"
   ]
  },
  {
   "cell_type": "code",
   "execution_count": null,
   "metadata": {},
   "outputs": [],
   "source": []
  },
  {
   "cell_type": "code",
   "execution_count": 4,
   "metadata": {},
   "outputs": [
    {
     "name": "stdout",
     "output_type": "stream",
     "text": [
      "<Response [200]>\n",
      "0.48477978\n",
      "<Response [200]>\n",
      "0.48263636\n"
     ]
    }
   ],
   "source": [
    "import requests\n",
    "payload = {'date': '2018-11-26 12:00:00'}\n",
    "# payload = {'date': '2018-11-26 12:00:00', 'key': 's_EWW'}\n",
    "# payload = {'date': '1212', 'key': 'b_EWW'}\n",
    "r = requests.get('http://0.0.0.0:5050/predict', params=payload)\n",
    "print(r)\n",
    "print(r.text)\n",
    "\n",
    "payload = {'date': '2018-11-26 12:00:00', 'key': 's_EWW'}\n",
    "r = requests.get('http://0.0.0.0:5051/predict', params=payload)\n",
    "print(r)\n",
    "print(r.text)\n",
    "\n",
    "r = requests.get('http://0.0.0.0:5107/predict', params=payload)\n",
    "print(r)\n",
    "print(r.text)"
   ]
  },
  {
   "cell_type": "code",
   "execution_count": 10,
   "metadata": {},
   "outputs": [
    {
     "name": "stderr",
     "output_type": "stream",
     "text": [
      "Using TensorFlow backend.\n"
     ]
    }
   ],
   "source": [
    "from query_api import *\n",
    "import tensorflow as tf\n",
    "import time\n",
    "\n",
    "gpudevice = \"1\"\n",
    "os.environ[\"TF_MIN_GPU_MULTIPROCESSOR_COUNT\"] = \"4\"\n",
    "os.environ[\"CUDA_VISIBLE_DEVICES\"]=gpudevice\n",
    "config = tf.ConfigProto()\n",
    "config.gpu_options.allow_growth = True\n",
    "session = tf.Session(config=config)"
   ]
  },
  {
   "cell_type": "code",
   "execution_count": 6,
   "metadata": {},
   "outputs": [],
   "source": [
    "#given a dictionary of strategy meta-data, get the relevant models needed for api etc.\n",
    "strategy_meta = dict(Strategy = \"1202\", Code = \"W006\", \n",
    "                     Location = \"/media/workstation/Storage/DL_Output/_Done_Accepted/Done_Accepted_W006_10_BS\", \n",
    "                     B = \"W006B_D0H1M0_B\", S = \"W006S_D0H1M0_S\",\n",
    "                     Asset_B = \"EWJ, EWW, TLT, USDCAD, USDJPY, VWO, XBI, XLK, XLY\", Asset_S = \"EWJ, EWW, TLT, USDCAD, USDJPY, VWO, XBI, XLK, XLY\")"
   ]
  },
  {
   "cell_type": "code",
   "execution_count": 26,
   "metadata": {},
   "outputs": [
    {
     "ename": "KeyError",
     "evalue": "246",
     "output_type": "error",
     "traceback": [
      "\u001b[0;31m---------------------------------------------------------------------------\u001b[0m",
      "\u001b[0;31mKeyError\u001b[0m                                  Traceback (most recent call last)",
      "\u001b[0;32m<ipython-input-26-80272c01e70f>\u001b[0m in \u001b[0;36m<module>\u001b[0;34m\u001b[0m\n\u001b[1;32m      1\u001b[0m \u001b[0;32mimport\u001b[0m \u001b[0mjoblib\u001b[0m\u001b[0;34m\u001b[0m\u001b[0m\n\u001b[0;32m----> 2\u001b[0;31m \u001b[0mjoblib\u001b[0m\u001b[0;34m.\u001b[0m\u001b[0mload\u001b[0m\u001b[0;34m(\u001b[0m\u001b[0;34m\"/media/workstation/Storage/DL_Output/_Done_Accepted/Done_Accepted_X_C001_B_5/C001_D0H0M30_B/ASSETS_MODELS/USDJPY_1541131841/scaler.pkl\"\u001b[0m\u001b[0;34m)\u001b[0m\u001b[0;34m\u001b[0m\u001b[0m\n\u001b[0m",
      "\u001b[0;32m/usr/local/lib/python3.6/dist-packages/joblib/numpy_pickle.py\u001b[0m in \u001b[0;36mload\u001b[0;34m(filename, mmap_mode)\u001b[0m\n\u001b[1;32m    596\u001b[0m                     \u001b[0;32mreturn\u001b[0m \u001b[0mload_compatibility\u001b[0m\u001b[0;34m(\u001b[0m\u001b[0mfobj\u001b[0m\u001b[0;34m)\u001b[0m\u001b[0;34m\u001b[0m\u001b[0m\n\u001b[1;32m    597\u001b[0m \u001b[0;34m\u001b[0m\u001b[0m\n\u001b[0;32m--> 598\u001b[0;31m                 \u001b[0mobj\u001b[0m \u001b[0;34m=\u001b[0m \u001b[0m_unpickle\u001b[0m\u001b[0;34m(\u001b[0m\u001b[0mfobj\u001b[0m\u001b[0;34m,\u001b[0m \u001b[0mfilename\u001b[0m\u001b[0;34m,\u001b[0m \u001b[0mmmap_mode\u001b[0m\u001b[0;34m)\u001b[0m\u001b[0;34m\u001b[0m\u001b[0m\n\u001b[0m\u001b[1;32m    599\u001b[0m \u001b[0;34m\u001b[0m\u001b[0m\n\u001b[1;32m    600\u001b[0m     \u001b[0;32mreturn\u001b[0m \u001b[0mobj\u001b[0m\u001b[0;34m\u001b[0m\u001b[0m\n",
      "\u001b[0;32m/usr/local/lib/python3.6/dist-packages/joblib/numpy_pickle.py\u001b[0m in \u001b[0;36m_unpickle\u001b[0;34m(fobj, filename, mmap_mode)\u001b[0m\n\u001b[1;32m    524\u001b[0m     \u001b[0mobj\u001b[0m \u001b[0;34m=\u001b[0m \u001b[0;32mNone\u001b[0m\u001b[0;34m\u001b[0m\u001b[0m\n\u001b[1;32m    525\u001b[0m     \u001b[0;32mtry\u001b[0m\u001b[0;34m:\u001b[0m\u001b[0;34m\u001b[0m\u001b[0m\n\u001b[0;32m--> 526\u001b[0;31m         \u001b[0mobj\u001b[0m \u001b[0;34m=\u001b[0m \u001b[0munpickler\u001b[0m\u001b[0;34m.\u001b[0m\u001b[0mload\u001b[0m\u001b[0;34m(\u001b[0m\u001b[0;34m)\u001b[0m\u001b[0;34m\u001b[0m\u001b[0m\n\u001b[0m\u001b[1;32m    527\u001b[0m         \u001b[0;32mif\u001b[0m \u001b[0munpickler\u001b[0m\u001b[0;34m.\u001b[0m\u001b[0mcompat_mode\u001b[0m\u001b[0;34m:\u001b[0m\u001b[0;34m\u001b[0m\u001b[0m\n\u001b[1;32m    528\u001b[0m             warnings.warn(\"The file '%s' has been generated with a \"\n",
      "\u001b[0;32m/usr/lib/python3.6/pickle.py\u001b[0m in \u001b[0;36mload\u001b[0;34m(self)\u001b[0m\n\u001b[1;32m   1048\u001b[0m                     \u001b[0;32mraise\u001b[0m \u001b[0mEOFError\u001b[0m\u001b[0;34m\u001b[0m\u001b[0m\n\u001b[1;32m   1049\u001b[0m                 \u001b[0;32massert\u001b[0m \u001b[0misinstance\u001b[0m\u001b[0;34m(\u001b[0m\u001b[0mkey\u001b[0m\u001b[0;34m,\u001b[0m \u001b[0mbytes_types\u001b[0m\u001b[0;34m)\u001b[0m\u001b[0;34m\u001b[0m\u001b[0m\n\u001b[0;32m-> 1050\u001b[0;31m                 \u001b[0mdispatch\u001b[0m\u001b[0;34m[\u001b[0m\u001b[0mkey\u001b[0m\u001b[0;34m[\u001b[0m\u001b[0;36m0\u001b[0m\u001b[0;34m]\u001b[0m\u001b[0;34m]\u001b[0m\u001b[0;34m(\u001b[0m\u001b[0mself\u001b[0m\u001b[0;34m)\u001b[0m\u001b[0;34m\u001b[0m\u001b[0m\n\u001b[0m\u001b[1;32m   1051\u001b[0m         \u001b[0;32mexcept\u001b[0m \u001b[0m_Stop\u001b[0m \u001b[0;32mas\u001b[0m \u001b[0mstopinst\u001b[0m\u001b[0;34m:\u001b[0m\u001b[0;34m\u001b[0m\u001b[0m\n\u001b[1;32m   1052\u001b[0m             \u001b[0;32mreturn\u001b[0m \u001b[0mstopinst\u001b[0m\u001b[0;34m.\u001b[0m\u001b[0mvalue\u001b[0m\u001b[0;34m\u001b[0m\u001b[0m\n",
      "\u001b[0;31mKeyError\u001b[0m: 246"
     ]
    }
   ],
   "source": [
    "# import joblib\n",
    "# joblib.load(\"/media/workstation/Storage/DL_Output/_Done_Accepted/Done_Accepted_X_C001_B_5/C001_D0H0M30_B/ASSETS_MODELS/USDJPY_1541131841/scaler.pkl\")"
   ]
  },
  {
   "cell_type": "code",
   "execution_count": 14,
   "metadata": {},
   "outputs": [],
   "source": [
    "PATH_DICT = get_path_dict(strategy_meta)\n",
    "PATH_DICT\n",
    "\n"
   ]
  },
  {
   "cell_type": "code",
   "execution_count": 20,
   "metadata": {},
   "outputs": [
    {
     "data": {
      "text/plain": [
       "(5050, 5067)"
      ]
     },
     "execution_count": 20,
     "metadata": {},
     "output_type": "execute_result"
    }
   ],
   "source": [
    "ports = np.arange(len(all_keys)) + 5050\n",
    "ports[0], ports[-1]\n",
    "\n"
   ]
  },
  {
   "cell_type": "code",
   "execution_count": null,
   "metadata": {},
   "outputs": [],
   "source": [
    "ALL_SCALERS, ALL_DATA_PARAMS, ALL_MODEL_PARAMS, ALL_MODELS = load_items(PATH_DICT)"
   ]
  },
  {
   "cell_type": "code",
   "execution_count": null,
   "metadata": {},
   "outputs": [],
   "source": [
    "connection = pymysql.connect(host='192.168.1.110',\n",
    "                                 user='cxtanalytics',\n",
    "                                 password='3.1415cxt',\n",
    "                                 db='machinelearning',\n",
    "                                 charset='utf8mb4',\n",
    "                                 cursorclass=pymysql.cursors.DictCursor)\n"
   ]
  },
  {
   "cell_type": "code",
   "execution_count": null,
   "metadata": {},
   "outputs": [],
   "source": [
    "key = \"s_USDJPY\"\n",
    "scaler = ALL_SCALERS[key]\n",
    "DATA_PARAMS = ALL_DATA_PARAMS[key]\n",
    "MODEL_PARAMS = ALL_MODEL_PARAMS[key]\n",
    "model = ALL_MODELS[key]\n",
    "query_date = \"2018-11-26 12:00:00\""
   ]
  },
  {
   "cell_type": "code",
   "execution_count": null,
   "metadata": {},
   "outputs": [],
   "source": [
    "t0 = time.time()\n",
    "\n",
    "for key, val in ALL_SCALERS.items():\n",
    "    y_pred = predict_signal(query_date, ALL_SCALERS[key], ALL_DATA_PARAMS[key], ALL_MODEL_PARAMS[key], ALL_MODELS[key], connection)\n",
    "    print(\"key:\", key, \"y:\", y_pred)\n",
    "\n",
    "t1 = time.time()\n",
    "\n",
    "print(y_pred, t1-t0)"
   ]
  },
  {
   "cell_type": "code",
   "execution_count": null,
   "metadata": {},
   "outputs": [],
   "source": []
  }
 ],
 "metadata": {
  "kernelspec": {
   "display_name": "Python 3",
   "language": "python",
   "name": "python3"
  },
  "language_info": {
   "codemirror_mode": {
    "name": "ipython",
    "version": 3
   },
   "file_extension": ".py",
   "mimetype": "text/x-python",
   "name": "python",
   "nbconvert_exporter": "python",
   "pygments_lexer": "ipython3",
   "version": "3.6.6"
  }
 },
 "nbformat": 4,
 "nbformat_minor": 2
}
