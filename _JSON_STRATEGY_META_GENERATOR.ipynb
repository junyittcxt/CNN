{
 "cells": [
  {
   "cell_type": "code",
   "execution_count": 19,
   "metadata": {},
   "outputs": [
    {
     "name": "stdout",
     "output_type": "stream",
     "text": [
      "Output: Done! STRATEGY_META/1190.json\n",
      "Output: Done! STRATEGY_META/1195.json\n",
      "Output: Done! STRATEGY_META/1197.json\n",
      "Output: Done! STRATEGY_META/1198.json\n",
      "Output: Done! STRATEGY_META/1199.json\n",
      "FILE EXIST!\n",
      "Output: Done! STRATEGY_META/1202_2.json\n",
      "Output: Done! STRATEGY_META/1203.json\n",
      "Output: Done! STRATEGY_META/1203_2.json\n",
      "Output: Done! STRATEGY_META/1203_3.json\n",
      "Output: Done! STRATEGY_META/1220_1.json\n",
      "Output: Done! STRATEGY_META/1220_2.json\n"
     ]
    }
   ],
   "source": [
    "import pandas as pd\n",
    "import os\n",
    "import json\n",
    "\n",
    "df = pd.read_csv(\"STRATEGY_META/20181128_strategymeta.csv\")\n",
    "for j in df.values:\n",
    "    strategy_meta = dict()\n",
    "\n",
    "    strategy_meta[\"Strategy\"] = j[0]\n",
    "    strategy_meta[\"Code\"] = j[1]\n",
    "    strategy_meta[\"Location\"] = j[2]\n",
    "    strategy_meta[\"B\"] = j[3]\n",
    "    strategy_meta[\"S\"] = j[4]\n",
    "    strategy_meta[\"Asset_B\"] = j[5] if not j[5] == \"-\" else \"\"\n",
    "    strategy_meta[\"Asset_S\"] = j[6] if not j[6] == \"-\" else \"\"\n",
    "    out_path = os.path.join(\"STRATEGY_META\", '{}.json'.format(strategy_meta[\"Strategy\"]))\n",
    "    if os.path.isfile(out_path):\n",
    "        print(\"FILE EXIST!\")\n",
    "    else:\n",
    "        with open(out_path, 'w') as outfile:\n",
    "            json.dump(strategy_meta, outfile)\n",
    "        print(\"Output: Done!\", out_path)\n"
   ]
  },
  {
   "cell_type": "code",
   "execution_count": null,
   "metadata": {},
   "outputs": [],
   "source": [
    "strategy_meta = dict()\n",
    "\n",
    "strategy_meta[\"Strategy\"] = \"1202\"\n",
    "strategy_meta[\"Code\"] = \"W006\"\n",
    "strategy_meta[\"Location\"] = \"/media/workstation/Storage/DL_Output/_Done_Accepted/Done_Accepted_W006_10_BS\"\n",
    "strategy_meta[\"B\"] = \"W006B_D0H1M0_B\"\n",
    "strategy_meta[\"S\"] = \"W006S_D0H1M0_S\"\n",
    "strategy_meta[\"Asset_B\"] = \"EWJ, EWW, TLT, USDCAD, USDJPY, VWO, XBI, XLK, XLY\"\n",
    "strategy_meta[\"Asset_S\"] = \"EWJ, EWW, TLT, USDCAD, USDJPY, VWO, XBI, XLK, XLY\"\n"
   ]
  },
  {
   "cell_type": "code",
   "execution_count": 6,
   "metadata": {},
   "outputs": [
    {
     "name": "stdout",
     "output_type": "stream",
     "text": [
      "Output: Done! STRATEGY_META/1202.json\n"
     ]
    }
   ],
   "source": [
    "\n",
    "out_path = os.path.join(\"STRATEGY_META\", '{}.json'.format(strategy_meta[\"Strategy\"]))\n",
    "if os.path.isfile(out_path):\n",
    "    print(\"FILE EXIST!\")\n",
    "else:\n",
    "    with open(out_path, 'w') as outfile:\n",
    "        json.dump(strategy_meta, outfile)\n",
    "    print(\"Output: Done!\", out_path)"
   ]
  },
  {
   "cell_type": "code",
   "execution_count": 20,
   "metadata": {},
   "outputs": [
    {
     "data": {
      "text/plain": [
       "'1202'"
      ]
     },
     "execution_count": 20,
     "metadata": {},
     "output_type": "execute_result"
    }
   ],
   "source": [
    "# json_path = os.path.join(\"STRATEGY_META\", \"1202.json\")\n",
    "# output_file = open(json_path).read()\n",
    "# p = json.loads(output_file)\n",
    "# p[\"Strategy\"]"
   ]
  },
  {
   "cell_type": "code",
   "execution_count": null,
   "metadata": {},
   "outputs": [],
   "source": []
  }
 ],
 "metadata": {
  "kernelspec": {
   "display_name": "Python 3",
   "language": "python",
   "name": "python3"
  },
  "language_info": {
   "codemirror_mode": {
    "name": "ipython",
    "version": 3
   },
   "file_extension": ".py",
   "mimetype": "text/x-python",
   "name": "python",
   "nbconvert_exporter": "python",
   "pygments_lexer": "ipython3",
   "version": "3.6.6"
  }
 },
 "nbformat": 4,
 "nbformat_minor": 2
}
