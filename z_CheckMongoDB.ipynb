{
 "cells": [
  {
   "cell_type": "code",
   "execution_count": null,
   "metadata": {},
   "outputs": [],
   "source": [
    "import numpy as np\n",
    "import pandas as pd\n",
    "import os\n",
    "import time\n",
    "import schedule\n",
    "import joblib\n",
    "import datetime\n",
    "import multiprocessing as mp\n",
    "from get_strategy_meta import get_all_strategy_meta\n",
    "from query_api import get_path_dict, gen_connection, load_item_by_key, query_mysql\n",
    "from get_signal_mongo import write_signal_mongo, get_signal_mongo\n",
    "from get_signal_mysql import write_signal, get_signal\n",
    "from mongo_functions import get_portfolio_db"
   ]
  },
  {
   "cell_type": "code",
   "execution_count": null,
   "metadata": {},
   "outputs": [],
   "source": [
    "\n",
    "db_name = \"MLProduction\"\n",
    "coll_name = \"SignalOneBB2\"\n",
    "db = get_portfolio_db(db_name)\n",
    "coll = db[coll_name]\n",
    "# r = coll.find({\"code\":\"Z_C007\", \"key\":\"s_AUDUSD\"})\n",
    "r = coll.find()\n",
    "df = pd.DataFrame([j for j in r])\n",
    "# df.sort_values(\"time\")\n",
    "df.tail()"
   ]
  },
  {
   "cell_type": "code",
   "execution_count": null,
   "metadata": {},
   "outputs": [],
   "source": [
    "coll.find({\"code\": \"W006\"}).distinct(\"key\")"
   ]
  },
  {
   "cell_type": "code",
   "execution_count": 51,
   "metadata": {},
   "outputs": [
    {
     "data": {
      "text/html": [
       "<div>\n",
       "<style scoped>\n",
       "    .dataframe tbody tr th:only-of-type {\n",
       "        vertical-align: middle;\n",
       "    }\n",
       "\n",
       "    .dataframe tbody tr th {\n",
       "        vertical-align: top;\n",
       "    }\n",
       "\n",
       "    .dataframe thead th {\n",
       "        text-align: right;\n",
       "    }\n",
       "</style>\n",
       "<table border=\"1\" class=\"dataframe\">\n",
       "  <thead>\n",
       "    <tr style=\"text-align: right;\">\n",
       "      <th></th>\n",
       "      <th>Date</th>\n",
       "      <th>_id</th>\n",
       "      <th>idd</th>\n",
       "      <th>message</th>\n",
       "      <th>other</th>\n",
       "    </tr>\n",
       "  </thead>\n",
       "  <tbody>\n",
       "    <tr>\n",
       "      <th>4723</th>\n",
       "      <td>2019-07-09 21:47:46.034</td>\n",
       "      <td>5d2543c28b634c5bf502db37</td>\n",
       "      <td>{'code': 'Y001', 'key': 's_XLE'}</td>\n",
       "      <td>Scaling: Done!</td>\n",
       "      <td></td>\n",
       "    </tr>\n",
       "    <tr>\n",
       "      <th>4724</th>\n",
       "      <td>2019-07-09 21:47:46.035</td>\n",
       "      <td>5d2543c28b634c5bf502db38</td>\n",
       "      <td>{'code': 'Y001', 'key': 's_XLE'}</td>\n",
       "      <td>TimeseriesGenerator: Done!</td>\n",
       "      <td></td>\n",
       "    </tr>\n",
       "    <tr>\n",
       "      <th>4725</th>\n",
       "      <td>2019-07-09 21:47:50.375</td>\n",
       "      <td>5d2543c68b634c5bf502db39</td>\n",
       "      <td>{'code': 'Y001', 'key': 's_XLE'}</td>\n",
       "      <td>Model Loaded!</td>\n",
       "      <td></td>\n",
       "    </tr>\n",
       "    <tr>\n",
       "      <th>4726</th>\n",
       "      <td>2019-07-09 21:47:51.182</td>\n",
       "      <td>5d2543c78b634c5bf502db3a</td>\n",
       "      <td>{'code': 'Y001', 'key': 's_XLE'}</td>\n",
       "      <td>Predict: Done!</td>\n",
       "      <td></td>\n",
       "    </tr>\n",
       "    <tr>\n",
       "      <th>4727</th>\n",
       "      <td>2019-07-09 21:47:51.183</td>\n",
       "      <td>5d2543c78b634c5bf502db3b</td>\n",
       "      <td>{'code': 'Y001', 'key': 's_XLE'}</td>\n",
       "      <td>s_XLE</td>\n",
       "      <td>{'last_date': 2019-07-09 16:00:00, 'query_date...</td>\n",
       "    </tr>\n",
       "  </tbody>\n",
       "</table>\n",
       "</div>"
      ],
      "text/plain": [
       "                        Date                       _id  \\\n",
       "4723 2019-07-09 21:47:46.034  5d2543c28b634c5bf502db37   \n",
       "4724 2019-07-09 21:47:46.035  5d2543c28b634c5bf502db38   \n",
       "4725 2019-07-09 21:47:50.375  5d2543c68b634c5bf502db39   \n",
       "4726 2019-07-09 21:47:51.182  5d2543c78b634c5bf502db3a   \n",
       "4727 2019-07-09 21:47:51.183  5d2543c78b634c5bf502db3b   \n",
       "\n",
       "                                   idd                     message  \\\n",
       "4723  {'code': 'Y001', 'key': 's_XLE'}              Scaling: Done!   \n",
       "4724  {'code': 'Y001', 'key': 's_XLE'}  TimeseriesGenerator: Done!   \n",
       "4725  {'code': 'Y001', 'key': 's_XLE'}               Model Loaded!   \n",
       "4726  {'code': 'Y001', 'key': 's_XLE'}              Predict: Done!   \n",
       "4727  {'code': 'Y001', 'key': 's_XLE'}                       s_XLE   \n",
       "\n",
       "                                                  other  \n",
       "4723                                                     \n",
       "4724                                                     \n",
       "4725                                                     \n",
       "4726                                                     \n",
       "4727  {'last_date': 2019-07-09 16:00:00, 'query_date...  "
      ]
     },
     "execution_count": 51,
     "metadata": {},
     "output_type": "execute_result"
    }
   ],
   "source": [
    "# Check Log\n",
    "db_name = \"MLLog\"\n",
    "coll_name = \"log\"\n",
    "db = get_portfolio_db(db_name)\n",
    "coll = db[coll_name]\n",
    "# r = coll.find({\"code\":\"W006\", \"key\":\"s_AUDUSD\"})\n",
    "# r = coll.find({\"code\": \"X004\", \"key\": \"s_TLT\"})\n",
    "r = coll.find({\"idd.code\": \"Y001\"})\n",
    "df = pd.DataFrame([j for j in r])\n",
    "# df.sort_values(\"time\")000.6 \n",
    "df.tail()"
   ]
  },
  {
   "cell_type": "code",
   "execution_count": 52,
   "metadata": {},
   "outputs": [
    {
     "data": {
      "text/html": [
       "<div>\n",
       "<style scoped>\n",
       "    .dataframe tbody tr th:only-of-type {\n",
       "        vertical-align: middle;\n",
       "    }\n",
       "\n",
       "    .dataframe tbody tr th {\n",
       "        vertical-align: top;\n",
       "    }\n",
       "\n",
       "    .dataframe thead th {\n",
       "        text-align: right;\n",
       "    }\n",
       "</style>\n",
       "<table border=\"1\" class=\"dataframe\">\n",
       "  <thead>\n",
       "    <tr style=\"text-align: right;\">\n",
       "      <th></th>\n",
       "      <th>Date</th>\n",
       "      <th>_id</th>\n",
       "      <th>idd</th>\n",
       "      <th>message</th>\n",
       "      <th>other</th>\n",
       "    </tr>\n",
       "  </thead>\n",
       "  <tbody>\n",
       "    <tr>\n",
       "      <th>0</th>\n",
       "      <td>2019-07-08 04:32:11.723</td>\n",
       "      <td>5d22ff8b545037c58f3ae5b2</td>\n",
       "      <td>{'code': 'Y001', 'key': 'b_EMB'}</td>\n",
       "      <td>Loaded: scaler, DATA_PARAMS, MODEL_PARAMS, model.</td>\n",
       "      <td></td>\n",
       "    </tr>\n",
       "    <tr>\n",
       "      <th>1</th>\n",
       "      <td>2019-07-08 04:32:11.746</td>\n",
       "      <td>5d22ff8b545037c58f3ae5b3</td>\n",
       "      <td>{'code': 'Y001', 'key': 'b_EMB'}</td>\n",
       "      <td>Loaded: MINUTE_INDEX for EMB</td>\n",
       "      <td></td>\n",
       "    </tr>\n",
       "    <tr>\n",
       "      <th>2</th>\n",
       "      <td>2019-07-08 04:32:11.746</td>\n",
       "      <td>5d22ff8b545037c58f3ae5b4</td>\n",
       "      <td>{'code': 'Y001', 'key': 'b_EMB'}</td>\n",
       "      <td>Using Mongo: 2019-07-04 04:30:05.703771 - 2019...</td>\n",
       "      <td></td>\n",
       "    </tr>\n",
       "    <tr>\n",
       "      <th>3</th>\n",
       "      <td>2019-07-08 04:32:12.373</td>\n",
       "      <td>5d22ff8c545037c58f3ae5b6</td>\n",
       "      <td>{'code': 'Y001', 'key': 'b_EMB'}</td>\n",
       "      <td>Scaling: Done!</td>\n",
       "      <td></td>\n",
       "    </tr>\n",
       "    <tr>\n",
       "      <th>4</th>\n",
       "      <td>2019-07-08 04:32:12.375</td>\n",
       "      <td>5d22ff8c545037c58f3ae5b7</td>\n",
       "      <td>{'code': 'Y001', 'key': 'b_EMB'}</td>\n",
       "      <td>Error at get_signal: `start_index+length=30 &gt; ...</td>\n",
       "      <td></td>\n",
       "    </tr>\n",
       "  </tbody>\n",
       "</table>\n",
       "</div>"
      ],
      "text/plain": [
       "                     Date                       _id  \\\n",
       "0 2019-07-08 04:32:11.723  5d22ff8b545037c58f3ae5b2   \n",
       "1 2019-07-08 04:32:11.746  5d22ff8b545037c58f3ae5b3   \n",
       "2 2019-07-08 04:32:11.746  5d22ff8b545037c58f3ae5b4   \n",
       "3 2019-07-08 04:32:12.373  5d22ff8c545037c58f3ae5b6   \n",
       "4 2019-07-08 04:32:12.375  5d22ff8c545037c58f3ae5b7   \n",
       "\n",
       "                                idd  \\\n",
       "0  {'code': 'Y001', 'key': 'b_EMB'}   \n",
       "1  {'code': 'Y001', 'key': 'b_EMB'}   \n",
       "2  {'code': 'Y001', 'key': 'b_EMB'}   \n",
       "3  {'code': 'Y001', 'key': 'b_EMB'}   \n",
       "4  {'code': 'Y001', 'key': 'b_EMB'}   \n",
       "\n",
       "                                             message other  \n",
       "0  Loaded: scaler, DATA_PARAMS, MODEL_PARAMS, model.        \n",
       "1                       Loaded: MINUTE_INDEX for EMB        \n",
       "2  Using Mongo: 2019-07-04 04:30:05.703771 - 2019...        \n",
       "3                                     Scaling: Done!        \n",
       "4  Error at get_signal: `start_index+length=30 > ...        "
      ]
     },
     "execution_count": 52,
     "metadata": {},
     "output_type": "execute_result"
    }
   ],
   "source": [
    "df.head()"
   ]
  },
  {
   "cell_type": "code",
   "execution_count": 38,
   "metadata": {},
   "outputs": [
    {
     "data": {
      "text/html": [
       "<div>\n",
       "<style scoped>\n",
       "    .dataframe tbody tr th:only-of-type {\n",
       "        vertical-align: middle;\n",
       "    }\n",
       "\n",
       "    .dataframe tbody tr th {\n",
       "        vertical-align: top;\n",
       "    }\n",
       "\n",
       "    .dataframe thead th {\n",
       "        text-align: right;\n",
       "    }\n",
       "</style>\n",
       "<table border=\"1\" class=\"dataframe\">\n",
       "  <thead>\n",
       "    <tr style=\"text-align: right;\">\n",
       "      <th></th>\n",
       "      <th>_id</th>\n",
       "      <th>code</th>\n",
       "      <th>key</th>\n",
       "      <th>last_date</th>\n",
       "      <th>query_date</th>\n",
       "      <th>status</th>\n",
       "      <th>status_code</th>\n",
       "      <th>timeframe</th>\n",
       "      <th>write_time</th>\n",
       "      <th>y</th>\n",
       "    </tr>\n",
       "  </thead>\n",
       "  <tbody>\n",
       "    <tr>\n",
       "      <th>0</th>\n",
       "      <td>5d25403f17dee7fa00512cff</td>\n",
       "      <td>Y001</td>\n",
       "      <td>b_NZDUSD</td>\n",
       "      <td>2019-07-09 21:30:00</td>\n",
       "      <td>2019-07-09 21:29:56.156</td>\n",
       "      <td>Successful.</td>\n",
       "      <td>1</td>\n",
       "      <td>15</td>\n",
       "      <td>2019-07-09 21:32:47.374</td>\n",
       "      <td>0.819053</td>\n",
       "    </tr>\n",
       "    <tr>\n",
       "      <th>1</th>\n",
       "      <td>5d25404da7110a5691512cff</td>\n",
       "      <td>Y001</td>\n",
       "      <td>s_NZDUSD</td>\n",
       "      <td>2019-07-09 21:30:00</td>\n",
       "      <td>2019-07-09 21:29:56.156</td>\n",
       "      <td>Successful.</td>\n",
       "      <td>1</td>\n",
       "      <td>15</td>\n",
       "      <td>2019-07-09 21:33:01.327</td>\n",
       "      <td>0.790568</td>\n",
       "    </tr>\n",
       "  </tbody>\n",
       "</table>\n",
       "</div>"
      ],
      "text/plain": [
       "                        _id  code       key           last_date  \\\n",
       "0  5d25403f17dee7fa00512cff  Y001  b_NZDUSD 2019-07-09 21:30:00   \n",
       "1  5d25404da7110a5691512cff  Y001  s_NZDUSD 2019-07-09 21:30:00   \n",
       "\n",
       "               query_date       status  status_code  timeframe  \\\n",
       "0 2019-07-09 21:29:56.156  Successful.            1         15   \n",
       "1 2019-07-09 21:29:56.156  Successful.            1         15   \n",
       "\n",
       "               write_time         y  \n",
       "0 2019-07-09 21:32:47.374  0.819053  \n",
       "1 2019-07-09 21:33:01.327  0.790568  "
      ]
     },
     "execution_count": 38,
     "metadata": {},
     "output_type": "execute_result"
    }
   ],
   "source": [
    "db_name = \"MLProduction\"\n",
    "coll_name = \"SignalOneBB3\"\n",
    "db = get_portfolio_db(db_name)\n",
    "coll = db[coll_name]\n",
    "# r = coll.find({\"code\":\"W006\", \"key\":\"s_AUDUSD\"})\n",
    "# r = coll.find({\"code\": \"X004\", \"key\": \"s_TLT\"})\n",
    "r = coll.find({\"code\": \"Y001\"})\n",
    "df = pd.DataFrame([j for j in r])\n",
    "# df.sort_values(\"time\")000.6 \n",
    "df.tail()"
   ]
  },
  {
   "cell_type": "code",
   "execution_count": null,
   "metadata": {},
   "outputs": [],
   "source": [
    "coll.distinct(\"code\")"
   ]
  },
  {
   "cell_type": "code",
   "execution_count": null,
   "metadata": {},
   "outputs": [],
   "source": [
    "df.set_index(\"query_date\")[\"y\"].plot()"
   ]
  },
  {
   "cell_type": "code",
   "execution_count": null,
   "metadata": {},
   "outputs": [],
   "source": [
    "# %%time\n",
    "# Check prices\n",
    "db_name = \"Production\"\n",
    "coll_name = \"prices\"\n",
    "db = get_portfolio_db(db_name)\n",
    "coll = db[coll_name]\n",
    "name_list = coll.distinct(\"name\")\n",
    "r = coll.find({\"name\": \"EFA\"})\n",
    "df = pd.DataFrame([j for j in r])\n",
    "df = df.set_index(\"time\")\n",
    "df.index.is_monotonic_increasing\n",
    "df.head()\n",
    "df.tail()\n",
    "df[\"price\"].plot()\n",
    "dp_list = []\n",
    "for name in name_list:\n",
    "    r = coll.find({\"name\": name})\n",
    "    df = pd.DataFrame([j for j in r])\n",
    "    df = df.set_index(\"time\")\n",
    "    print(name, df.index.max()- df.index.min())\n",
    "    if df.index.duplicated().any():\n",
    "        dp_list.append(name)\n",
    "    \n",
    "print(len(name_list))\n",
    "\",\".join(dp_list)"
   ]
  },
  {
   "cell_type": "code",
   "execution_count": null,
   "metadata": {},
   "outputs": [],
   "source": []
  },
  {
   "cell_type": "code",
   "execution_count": null,
   "metadata": {},
   "outputs": [],
   "source": []
  },
  {
   "cell_type": "code",
   "execution_count": 37,
   "metadata": {},
   "outputs": [
    {
     "data": {
      "text/html": [
       "<div>\n",
       "<style scoped>\n",
       "    .dataframe tbody tr th:only-of-type {\n",
       "        vertical-align: middle;\n",
       "    }\n",
       "\n",
       "    .dataframe tbody tr th {\n",
       "        vertical-align: top;\n",
       "    }\n",
       "\n",
       "    .dataframe thead th {\n",
       "        text-align: right;\n",
       "    }\n",
       "</style>\n",
       "<table border=\"1\" class=\"dataframe\">\n",
       "  <thead>\n",
       "    <tr style=\"text-align: right;\">\n",
       "      <th></th>\n",
       "    </tr>\n",
       "  </thead>\n",
       "  <tbody>\n",
       "  </tbody>\n",
       "</table>\n",
       "</div>"
      ],
      "text/plain": [
       "Empty DataFrame\n",
       "Columns: []\n",
       "Index: []"
      ]
     },
     "execution_count": 37,
     "metadata": {},
     "output_type": "execute_result"
    }
   ],
   "source": [
    "db_name = \"Production\"\n",
    "coll_name = \"prices\"\n",
    "db = get_portfolio_db(db_name)\n",
    "coll = db[coll_name]\n",
    "r = coll.find({\"name\": \"IWM\"})\n",
    "pdf = pd.DataFrame([j for j in r])\n",
    "pdf\n",
    "# pdf = pdf.set_index(\"time\")\n",
    "# d = pdf.index[pdf.index.duplicated()]\n",
    "# pdf.loc[d]\n",
    "\n"
   ]
  },
  {
   "cell_type": "code",
   "execution_count": null,
   "metadata": {},
   "outputs": [],
   "source": [
    "pdf.index.duplicated()"
   ]
  },
  {
   "cell_type": "code",
   "execution_count": null,
   "metadata": {},
   "outputs": [],
   "source": [
    "df.set_index(\"query_date\")[\"status_code\"].plot()"
   ]
  },
  {
   "cell_type": "code",
   "execution_count": null,
   "metadata": {},
   "outputs": [],
   "source": []
  },
  {
   "cell_type": "code",
   "execution_count": null,
   "metadata": {},
   "outputs": [],
   "source": [
    "# Log Class\n",
    "\n",
    "        \n",
    "    \n",
    "    "
   ]
  },
  {
   "cell_type": "code",
   "execution_count": null,
   "metadata": {},
   "outputs": [],
   "source": []
  },
  {
   "cell_type": "code",
   "execution_count": null,
   "metadata": {},
   "outputs": [],
   "source": []
  },
  {
   "cell_type": "code",
   "execution_count": null,
   "metadata": {},
   "outputs": [],
   "source": []
  }
 ],
 "metadata": {
  "kernelspec": {
   "display_name": "Python 3",
   "language": "python",
   "name": "python3"
  },
  "language_info": {
   "codemirror_mode": {
    "name": "ipython",
    "version": 3
   },
   "file_extension": ".py",
   "mimetype": "text/x-python",
   "name": "python",
   "nbconvert_exporter": "python",
   "pygments_lexer": "ipython3",
   "version": "3.6.7"
  }
 },
 "nbformat": 4,
 "nbformat_minor": 2
}
