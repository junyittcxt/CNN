{
 "cells": [
  {
   "cell_type": "code",
   "execution_count": 1,
   "metadata": {},
   "outputs": [],
   "source": [
    "import os \n",
    "import glob\n",
    "import pandas as pd\n",
    "import numpy as np\n",
    "import datetime"
   ]
  },
  {
   "cell_type": "code",
   "execution_count": 2,
   "metadata": {},
   "outputs": [],
   "source": [
    "complete_csv = glob.glob(\"json_setup/CompletionSummary/*.csv\")"
   ]
  },
  {
   "cell_type": "code",
   "execution_count": 3,
   "metadata": {},
   "outputs": [],
   "source": [
    "complete_dict = dict()\n",
    "setup = []\n",
    "comp = []\n",
    "mod_time = []\n",
    "\n",
    "for j in complete_csv:\n",
    "    \n",
    "    df = pd.read_csv(j)\n",
    "    setup.append(j)\n",
    "    comp.append(np.sum(df[\"status\"]) == df.shape[0])\n",
    "    \n",
    "    t = os.stat(j).st_mtime\n",
    "    dt = datetime.datetime.fromtimestamp(t)\n",
    "    mod_time.append(dt)\n"
   ]
  },
  {
   "cell_type": "code",
   "execution_count": 4,
   "metadata": {},
   "outputs": [],
   "source": [
    "complete_dict = dict(setup = setup, ok = comp, mod_time = mod_time)\n",
    "cdf = pd.DataFrame(complete_dict)\n",
    "cdf[\"basename\"] = [str(os.path.basename(j)).split(\".\")[0] for j in cdf[\"setup\"]]\n",
    "#cdf"
   ]
  },
  {
   "cell_type": "code",
   "execution_count": 5,
   "metadata": {},
   "outputs": [],
   "source": [
    "cdf[\"setup2\"] = [j[0:4] for j in cdf[\"basename\"]]\n",
    "cdf[\"bs\"] = [j[4:] for j in cdf[\"basename\"]]\n",
    "\n"
   ]
  },
  {
   "cell_type": "code",
   "execution_count": 6,
   "metadata": {},
   "outputs": [],
   "source": [
    "def latest_f(v):\n",
    "    return v[-1]"
   ]
  },
  {
   "cell_type": "code",
   "execution_count": 7,
   "metadata": {},
   "outputs": [
    {
     "name": "stderr",
     "output_type": "stream",
     "text": [
      "/usr/local/lib/python3.6/dist-packages/ipykernel_launcher.py:1: FutureWarning: using a dict on a Series for aggregation\n",
      "is deprecated and will be removed in a future version\n",
      "  \"\"\"Entry point for launching an IPython kernel.\n"
     ]
    }
   ],
   "source": [
    "g = cdf.groupby(\"setup2\")[\"ok\"].agg(dict(ok = np.sum))\n",
    "\n",
    "g[\"time\"] = cdf.groupby(\"setup2\")[\"mod_time\"].apply(np.max)"
   ]
  },
  {
   "cell_type": "code",
   "execution_count": 8,
   "metadata": {},
   "outputs": [
    {
     "data": {
      "text/html": [
       "<div>\n",
       "<style scoped>\n",
       "    .dataframe tbody tr th:only-of-type {\n",
       "        vertical-align: middle;\n",
       "    }\n",
       "\n",
       "    .dataframe tbody tr th {\n",
       "        vertical-align: top;\n",
       "    }\n",
       "\n",
       "    .dataframe thead th {\n",
       "        text-align: right;\n",
       "    }\n",
       "</style>\n",
       "<table border=\"1\" class=\"dataframe\">\n",
       "  <thead>\n",
       "    <tr style=\"text-align: right;\">\n",
       "      <th></th>\n",
       "      <th>ok</th>\n",
       "      <th>time</th>\n",
       "    </tr>\n",
       "    <tr>\n",
       "      <th>setup2</th>\n",
       "      <th></th>\n",
       "      <th></th>\n",
       "    </tr>\n",
       "  </thead>\n",
       "  <tbody>\n",
       "    <tr>\n",
       "      <th>W007</th>\n",
       "      <td>0.0</td>\n",
       "      <td>2018-11-19 23:19:56.413807</td>\n",
       "    </tr>\n",
       "    <tr>\n",
       "      <th>W010</th>\n",
       "      <td>0.0</td>\n",
       "      <td>2018-11-19 16:38:33.655035</td>\n",
       "    </tr>\n",
       "    <tr>\n",
       "      <th>W008</th>\n",
       "      <td>0.0</td>\n",
       "      <td>2018-11-19 07:47:46.858577</td>\n",
       "    </tr>\n",
       "    <tr>\n",
       "      <th>W004</th>\n",
       "      <td>1.0</td>\n",
       "      <td>2018-11-19 01:25:54.044360</td>\n",
       "    </tr>\n",
       "    <tr>\n",
       "      <th>W011</th>\n",
       "      <td>0.0</td>\n",
       "      <td>2018-11-18 17:52:51.456043</td>\n",
       "    </tr>\n",
       "    <tr>\n",
       "      <th>W006</th>\n",
       "      <td>2.0</td>\n",
       "      <td>2018-11-18 08:20:22.213101</td>\n",
       "    </tr>\n",
       "    <tr>\n",
       "      <th>W005</th>\n",
       "      <td>1.0</td>\n",
       "      <td>2018-11-16 16:04:15.407125</td>\n",
       "    </tr>\n",
       "    <tr>\n",
       "      <th>W009</th>\n",
       "      <td>0.0</td>\n",
       "      <td>2018-11-16 06:04:18.542819</td>\n",
       "    </tr>\n",
       "    <tr>\n",
       "      <th>B003</th>\n",
       "      <td>2.0</td>\n",
       "      <td>2018-11-15 00:08:10.513347</td>\n",
       "    </tr>\n",
       "    <tr>\n",
       "      <th>C010</th>\n",
       "      <td>2.0</td>\n",
       "      <td>2018-11-15 00:08:10.509347</td>\n",
       "    </tr>\n",
       "    <tr>\n",
       "      <th>B002</th>\n",
       "      <td>2.0</td>\n",
       "      <td>2018-11-15 00:08:10.509347</td>\n",
       "    </tr>\n",
       "    <tr>\n",
       "      <th>B001</th>\n",
       "      <td>2.0</td>\n",
       "      <td>2018-11-09 12:11:02.723158</td>\n",
       "    </tr>\n",
       "    <tr>\n",
       "      <th>C009</th>\n",
       "      <td>2.0</td>\n",
       "      <td>2018-11-08 18:25:48.760143</td>\n",
       "    </tr>\n",
       "    <tr>\n",
       "      <th>C008</th>\n",
       "      <td>2.0</td>\n",
       "      <td>2018-11-08 13:26:15.610592</td>\n",
       "    </tr>\n",
       "    <tr>\n",
       "      <th>C006</th>\n",
       "      <td>2.0</td>\n",
       "      <td>2018-11-07 10:57:08.544500</td>\n",
       "    </tr>\n",
       "    <tr>\n",
       "      <th>C005</th>\n",
       "      <td>2.0</td>\n",
       "      <td>2018-11-06 21:02:21.925841</td>\n",
       "    </tr>\n",
       "    <tr>\n",
       "      <th>C003</th>\n",
       "      <td>2.0</td>\n",
       "      <td>2018-11-06 07:22:44.816532</td>\n",
       "    </tr>\n",
       "    <tr>\n",
       "      <th>C004</th>\n",
       "      <td>2.0</td>\n",
       "      <td>2018-11-05 14:47:31.028878</td>\n",
       "    </tr>\n",
       "    <tr>\n",
       "      <th>C002</th>\n",
       "      <td>2.0</td>\n",
       "      <td>2018-11-03 00:35:23.371144</td>\n",
       "    </tr>\n",
       "    <tr>\n",
       "      <th>C001</th>\n",
       "      <td>2.0</td>\n",
       "      <td>2018-11-02 01:54:17.798984</td>\n",
       "    </tr>\n",
       "  </tbody>\n",
       "</table>\n",
       "</div>"
      ],
      "text/plain": [
       "         ok                       time\n",
       "setup2                                \n",
       "W007    0.0 2018-11-19 23:19:56.413807\n",
       "W010    0.0 2018-11-19 16:38:33.655035\n",
       "W008    0.0 2018-11-19 07:47:46.858577\n",
       "W004    1.0 2018-11-19 01:25:54.044360\n",
       "W011    0.0 2018-11-18 17:52:51.456043\n",
       "W006    2.0 2018-11-18 08:20:22.213101\n",
       "W005    1.0 2018-11-16 16:04:15.407125\n",
       "W009    0.0 2018-11-16 06:04:18.542819\n",
       "B003    2.0 2018-11-15 00:08:10.513347\n",
       "C010    2.0 2018-11-15 00:08:10.509347\n",
       "B002    2.0 2018-11-15 00:08:10.509347\n",
       "B001    2.0 2018-11-09 12:11:02.723158\n",
       "C009    2.0 2018-11-08 18:25:48.760143\n",
       "C008    2.0 2018-11-08 13:26:15.610592\n",
       "C006    2.0 2018-11-07 10:57:08.544500\n",
       "C005    2.0 2018-11-06 21:02:21.925841\n",
       "C003    2.0 2018-11-06 07:22:44.816532\n",
       "C004    2.0 2018-11-05 14:47:31.028878\n",
       "C002    2.0 2018-11-03 00:35:23.371144\n",
       "C001    2.0 2018-11-02 01:54:17.798984"
      ]
     },
     "execution_count": 8,
     "metadata": {},
     "output_type": "execute_result"
    }
   ],
   "source": [
    "g.sort_values([\"time\"], ascending = False)"
   ]
  },
  {
   "cell_type": "code",
   "execution_count": null,
   "metadata": {},
   "outputs": [],
   "source": []
  }
 ],
 "metadata": {
  "kernelspec": {
   "display_name": "Python 3",
   "language": "python",
   "name": "python3"
  },
  "language_info": {
   "codemirror_mode": {
    "name": "ipython",
    "version": 3
   },
   "file_extension": ".py",
   "mimetype": "text/x-python",
   "name": "python",
   "nbconvert_exporter": "python",
   "pygments_lexer": "ipython3",
   "version": "3.6.6"
  }
 },
 "nbformat": 4,
 "nbformat_minor": 2
}
