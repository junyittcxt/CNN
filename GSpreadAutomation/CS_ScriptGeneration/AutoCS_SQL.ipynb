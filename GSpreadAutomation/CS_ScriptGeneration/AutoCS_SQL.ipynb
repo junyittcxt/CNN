{
 "cells": [
  {
   "cell_type": "code",
   "execution_count": 1,
   "metadata": {},
   "outputs": [],
   "source": [
    "import gspread\n",
    "from oauth2client.service_account import ServiceAccountCredentials\n",
    "import pandas as pd\n",
    "import os\n",
    "\n",
    "scope = ['https://spreadsheets.google.com/feeds',\n",
    "         'https://www.googleapis.com/auth/drive']\n",
    "\n",
    "credentials = ServiceAccountCredentials.from_json_keyfile_name('/media/workstation/Storage/GoogleProject/DeepLearningAlphaC.txt', scope)\n",
    "gc = gspread.authorize(credentials)\n",
    "spreadsheet = gc.open(\"TASK\")\n",
    "worksheet_list = spreadsheet.worksheets()\n",
    "Accepted = spreadsheet.worksheet(\"Accepted\").get_all_records()"
   ]
  },
  {
   "cell_type": "code",
   "execution_count": 2,
   "metadata": {},
   "outputs": [],
   "source": [
    "# StratName = \"_0001_DLSTRAT\"\n",
    "# TimeFrame = \"M_60\"\n",
    "# RefInstrument = \"DIA, SPY\"\n",
    "# dbTableLong = \"w002b\"\n",
    "# dbTableShort = \"w002s\"\n",
    "# ConsecutiveSignalBars = str(10)\n",
    "# OrderType = str(0)\n",
    "\n",
    "def generate_cs(StratName, TimeFrame, RefInstrument, dbTableLong, dbTableShort, ConsecutiveSignalBars, OrderType, output_folder):\n",
    "    if TimeFrame == \"M_60\":\n",
    "        fo = open(\"Template_DeepLearning_Rotation_M60_R_SQL.cs\", \"r+\")\n",
    "        line = fo.readlines()\n",
    "        print(\"Using M60 Template!\")\n",
    "    elif TimeFrame in [\"M_5\", \"M_15\", \"M_30\"]:\n",
    "        fo = open(\"Template_DeepLearning_Rotation_M30ETC_R_SQL.cs\", \"r+\")\n",
    "        line = fo.readlines()\n",
    "        print(\"Using M30 Template!\")\n",
    "\n",
    "\n",
    "    for i, z in enumerate(line):\n",
    "        if z.find(\"Template_DeepLearning_Rotation_M30ETC_R_SQL\") != -1:\n",
    "            line[i] = z.replace(\"Template_DeepLearning_Rotation_M30ETC_R_SQL\", StratName)\n",
    "\n",
    "        if z.find(\"Template_DeepLearning_Rotation_M60_R_SQL\") != -1:\n",
    "            line[i] = z.replace(\"Template_DeepLearning_Rotation_M60_R_SQL\", StratName)\n",
    "\n",
    "        if z.find(\"change_OrderType\") != -1:\n",
    "            line[i] = z.replace(\"change_OrderType\", OrderType)\n",
    "\n",
    "        if z.find(\"change_RefInstrument\") != -1:\n",
    "            line[i] = z.replace(\"change_RefInstrument\", RefInstrument)\n",
    "\n",
    "        if z.find(\"change_dbTableLong\") != -1:\n",
    "            line[i] = z.replace(\"change_dbTableLong\", dbTableLong)\n",
    "\n",
    "        if z.find(\"change_dbTableShort\") != -1:\n",
    "            line[i] = z.replace(\"change_dbTableShort\", dbTableShort)\n",
    "\n",
    "        if z.find(\"change_ConsecutiveSignalBars\") != -1:\n",
    "            line[i] = z.replace(\"change_ConsecutiveSignalBars\", ConsecutiveSignalBars)\n",
    "\n",
    "        if z.find(\"change_OrderType\") != -1:\n",
    "            line[i] = z.replace(\"change_OrderType\", OrderType)\n",
    "    \n",
    "    dir_folder = output_folder + \"/{}.cs\".format(StratName)\n",
    "    f = open(dir_folder, 'w')\n",
    "    f.writelines(line)\n",
    "    f.close()\n",
    "    \n",
    "def get_code(code):\n",
    "    if code.find(\"_\") != -1:\n",
    "        return code.split(\"_\")[1].lower()\n",
    "    else:\n",
    "        return code.lower()"
   ]
  },
  {
   "cell_type": "code",
   "execution_count": 3,
   "metadata": {},
   "outputs": [],
   "source": [
    "output_folder = \"20190220_Output_SQL_ALL_Lag_1\"\n",
    "os.mkdir(output_folder)"
   ]
  },
  {
   "cell_type": "code",
   "execution_count": 4,
   "metadata": {},
   "outputs": [
    {
     "name": "stdout",
     "output_type": "stream",
     "text": [
      "_1286_RNNBreakoutW006_R_SQL M_60 w006b w006s 8 0\n",
      "VWO,XBI,XLK\n",
      "=============\n",
      "Using M60 Template!\n",
      "_1287_RNNBreakoutW012_R_SQL M_60 w012b w012s 8 2\n",
      "GBPUSD,USDJPY\n",
      "=============\n",
      "Using M60 Template!\n",
      "_1288_RNNBreakoutX004_R_SQL M_30 x004b x004s 8 0\n",
      "TLT,USDCAD,XOP\n",
      "=============\n",
      "Using M30 Template!\n",
      "_1289_RNNBreakoutY002_R_SQL M_15 y002b y002s 9 0\n",
      "TBT,XAGUSD\n",
      "=============\n",
      "Using M30 Template!\n",
      "_1290_RNNBreakoutY007_R_SQL M_15 y007b y007s 8 0\n",
      "LQD,USDJPY\n",
      "=============\n",
      "Using M30 Template!\n",
      "_1300_RNNBreakoutZ001_R_SQL M_5 z001b z001s 7 0\n",
      "XAGUSD\n",
      "=============\n",
      "Using M30 Template!\n",
      "_1301_RNNBreakoutZ007_R_SQL M_5 z007b z007s 9 0\n",
      "EURJPY,NZDUSD,XAGUSD\n",
      "=============\n",
      "Using M30 Template!\n"
     ]
    }
   ],
   "source": [
    "for d in Accepted:\n",
    "    if d[\"Status_SQL\"] != \"d\":\n",
    "        StratName = d[\"StratName\"]\n",
    "        TimeFrame = d[\"TimeFrame\"]\n",
    "        RefInstrument = d[\"Asset_B\"] if d[\"Asset_B\"] != \"-\" else d[\"Asset_S\"]\n",
    "        dbTableLong = get_code(d[\"Code\"]) + \"b\"\n",
    "        dbTableShort = get_code(d[\"Code\"]) + \"s\"\n",
    "        ConsecutiveSignalBars = str(d[\"HoldingPeriod\"])\n",
    "        OrderType = str(d[\"OrderType\"])\n",
    "        print(StratName, TimeFrame, dbTableLong, dbTableShort, ConsecutiveSignalBars, OrderType)\n",
    "        print(RefInstrument)\n",
    "        print(\"=============\")\n",
    "        generate_cs(StratName, TimeFrame, RefInstrument, dbTableLong, dbTableShort, ConsecutiveSignalBars, OrderType, output_folder)\n"
   ]
  },
  {
   "cell_type": "code",
   "execution_count": null,
   "metadata": {},
   "outputs": [],
   "source": []
  },
  {
   "cell_type": "code",
   "execution_count": null,
   "metadata": {},
   "outputs": [],
   "source": []
  }
 ],
 "metadata": {
  "kernelspec": {
   "display_name": "Python 3",
   "language": "python",
   "name": "python3"
  },
  "language_info": {
   "codemirror_mode": {
    "name": "ipython",
    "version": 3
   },
   "file_extension": ".py",
   "mimetype": "text/x-python",
   "name": "python",
   "nbconvert_exporter": "python",
   "pygments_lexer": "ipython3",
   "version": "3.6.7"
  }
 },
 "nbformat": 4,
 "nbformat_minor": 2
}
