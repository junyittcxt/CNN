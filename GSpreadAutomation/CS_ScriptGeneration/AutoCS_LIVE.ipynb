{
 "cells": [
  {
   "cell_type": "code",
   "execution_count": 1,
   "metadata": {},
   "outputs": [],
   "source": [
    "import gspread\n",
    "from oauth2client.service_account import ServiceAccountCredentials\n",
    "import pandas as pd\n",
    "import os\n",
    "\n",
    "scope = ['https://spreadsheets.google.com/feeds',\n",
    "         'https://www.googleapis.com/auth/drive']\n",
    "\n",
    "credentials = ServiceAccountCredentials.from_json_keyfile_name('/media/workstation/Storage/GoogleProject/DeepLearningAlphaC.txt', scope)\n",
    "gc = gspread.authorize(credentials)\n",
    "spreadsheet = gc.open(\"TASK\")\n",
    "worksheet_list = spreadsheet.worksheets()\n",
    "Accepted = spreadsheet.worksheet(\"Accepted\").get_all_records()"
   ]
  },
  {
   "cell_type": "code",
   "execution_count": 2,
   "metadata": {},
   "outputs": [],
   "source": [
    "# df = pd.DataFrame(Accepted).astype(str)"
   ]
  },
  {
   "cell_type": "code",
   "execution_count": 3,
   "metadata": {},
   "outputs": [],
   "source": [
    "# StratCode = str(1190)\n",
    "# u1 = df[\"Strategy\"] == StratCode\n",
    "\n",
    "# StratName = df.loc[u1].loc[0,\"StratName\"].replace(\"SQL\", \"LIVE\")\n",
    "# TimeFrame = df.loc[u1].loc[0,\"TimeFrame\"]\n",
    "# asset_b = df.loc[u1].loc[0, \"Asset_B\"]\n",
    "# asset_s = df.loc[u1].loc[0, \"Asset_S\"]\n",
    "# if len(asset_b) >= len(asset_s):\n",
    "#     RefInstrument = asset_b\n",
    "# else:\n",
    "#     RefInstrument = asset_s\n",
    "# ConsecutiveSignalBars = df.loc[u1].loc[0, \"HoldingPeriod\"]\n",
    "# OrderType = df.loc[u1].loc[0, \"OrderType\"]\n",
    "# NumInstrument = len(RefInstrument.split(\",\"))\n"
   ]
  },
  {
   "cell_type": "code",
   "execution_count": 4,
   "metadata": {},
   "outputs": [],
   "source": [
    "def generate_cs(StratName, TimeFrame, StratCode, RefInstrument, ConsecutiveSignalBars, OrderType, NumInstrument, output_folder):\n",
    "    if TimeFrame == \"M_60\":\n",
    "        fo = open(\"LIVETemplate_DeepLearning_Rotation_M60_R_LIVE.cs\", \"r+\")\n",
    "        line = fo.readlines()\n",
    "        print(\"Using M60 Template!\")\n",
    "    elif TimeFrame in [\"M_5\", \"M_15\", \"M_30\"]:\n",
    "        fo = open(\"LIVETemplate_DeepLearning_Rotation_M30ETC_R_LIVE.cs\", \"r+\")\n",
    "        line = fo.readlines()\n",
    "        print(\"Using M30 Template!\")\n",
    "\n",
    "    for i, z in enumerate(line):\n",
    "        if z.find(\"LIVETemplate_DeepLearning_Rotation_M30ETC_R_LIVE\") != -1:\n",
    "            line[i] = z.replace(\"LIVETemplate_DeepLearning_Rotation_M30ETC_R_LIVE\", StratName)\n",
    "\n",
    "        if z.find(\"LIVETemplate_DeepLearning_Rotation_M60_R_LIVE\") != -1:\n",
    "            line[i] = z.replace(\"LIVETemplate_DeepLearning_Rotation_M60_R_LIVE\", StratName)\n",
    "\n",
    "            \n",
    "        if z.find(\"chg_strategycode\") != -1:\n",
    "            line[i] = z.replace(\"chg_strategycode\", StratCode)\n",
    "\n",
    "        if z.find(\"chg_refinstrument\") != -1:\n",
    "            line[i] = z.replace(\"chg_refinstrument\", RefInstrument)\n",
    "        \n",
    "        if z.find(\"chg_consecutive\") != -1:\n",
    "            line[i] = z.replace(\"chg_consecutive\", ConsecutiveSignalBars)\n",
    "            \n",
    "        if z.find(\"chg_order\") != -1:\n",
    "            line[i] = z.replace(\"chg_order\", OrderType)\n",
    "\n",
    "        if z.find(\"chg_numinstrument\") != -1:\n",
    "            line[i] = z.replace(\"chg_numinstrument\", NumInstrument)\n",
    "    \n",
    "    dir_folder = output_folder + \"/{}.cs\".format(StratName)\n",
    "    f = open(dir_folder, 'w')\n",
    "    \n",
    "    #f = open(r'Output_Live/{}.cs'.format(StratName), 'w')\n",
    "    f.writelines(line)\n",
    "    f.close()\n",
    "    \n",
    "def get_code(code):\n",
    "    if code.find(\"_\") != -1:\n",
    "        return code.split(\"_\")[1].lower()\n",
    "    else:\n",
    "        return code.lower()"
   ]
  },
  {
   "cell_type": "code",
   "execution_count": 5,
   "metadata": {},
   "outputs": [],
   "source": [
    "\n",
    "output_folder = \"20190218_Output_LIVE_ALL\"\n",
    "os.mkdir(output_folder)"
   ]
  },
  {
   "cell_type": "code",
   "execution_count": 6,
   "metadata": {},
   "outputs": [
    {
     "name": "stdout",
     "output_type": "stream",
     "text": [
      "=============\n",
      "_1286_RNNBreakoutW006_R_LIVE M_60 8 0\n",
      "VWO,XBI,XLK\n",
      "Using M60 Template!\n",
      "Done\n",
      "=============\n",
      "=============\n",
      "_1287_RNNBreakoutW012_R_LIVE M_60 8 2\n",
      "GBPUSD,USDJPY\n",
      "Using M60 Template!\n",
      "Done\n",
      "=============\n",
      "=============\n",
      "_1288_RNNBreakoutX004_R_LIVE M_30 8 0\n",
      "TLT,USDCAD,XOP\n",
      "Using M30 Template!\n",
      "Done\n",
      "=============\n",
      "=============\n",
      "_1289_RNNBreakoutY002_R_LIVE M_15 9 0\n",
      "TBT,XAGUSD\n",
      "Using M30 Template!\n",
      "Done\n",
      "=============\n",
      "=============\n",
      "_1290_RNNBreakoutY007_R_LIVE M_15 8 0\n",
      "LQD,USDJPY\n",
      "Using M30 Template!\n",
      "Done\n",
      "=============\n",
      "=============\n",
      "_1300_RNNBreakoutZ001_R_LIVE M_5 7 0\n",
      "XAGUSD\n",
      "Using M30 Template!\n",
      "Done\n",
      "=============\n",
      "=============\n",
      "_1301_RNNBreakoutZ007_R_LIVE M_5 9 0\n",
      "EURJPY,NZDUSD,XAGUSD\n",
      "Using M30 Template!\n",
      "Done\n",
      "=============\n"
     ]
    }
   ],
   "source": [
    "for d in Accepted:\n",
    "    if d[\"Status_LIVE\"] != \"d\":\n",
    "        StratCode = str(d[\"Strategy\"])\n",
    "        StratName = str(d[\"StratName\"]).replace(\"SQL\", \"LIVE\")\n",
    "        TimeFrame = str(d[\"TimeFrame\"])\n",
    "        asset_b = d[\"Asset_B\"]\n",
    "        asset_s = d[\"Asset_S\"]\n",
    "        if len(asset_b) >= len(asset_s):\n",
    "            RefInstrument = asset_b\n",
    "        else:\n",
    "            RefInstrument = asset_s\n",
    "        RefInstrument = RefInstrument.replace(\" \", \"\")\n",
    "        ConsecutiveSignalBars = str(d[\"HoldingPeriod\"])\n",
    "        OrderType = str(d[\"OrderType\"])\n",
    "        NumInstrument = str(len(RefInstrument.split(\",\")))\n",
    "\n",
    "        print(\"=============\")\n",
    "        print(StratName, TimeFrame,ConsecutiveSignalBars, OrderType)\n",
    "        print(RefInstrument)\n",
    "        generate_cs(StratName, TimeFrame, StratCode, RefInstrument, ConsecutiveSignalBars, OrderType, NumInstrument, output_folder)\n",
    "        print(\"Done\")\n",
    "        print(\"=============\")"
   ]
  },
  {
   "cell_type": "code",
   "execution_count": null,
   "metadata": {},
   "outputs": [],
   "source": [
    "# for d in Accepted:\n",
    "#     StratName = d[\"StratName\"]\n",
    "#     TimeFrame = d[\"TimeFrame\"]\n",
    "#     RefInstrument = d[\"Asset_B\"] if d[\"Asset_B\"] != \"-\" else d[\"Asset_S\"]\n",
    "#     dbTableLong = get_code(d[\"Code\"]) + \"b\"\n",
    "#     dbTableShort = get_code(d[\"Code\"]) + \"s\"\n",
    "#     ConsecutiveSignalBars = str(d[\"HoldingPeriod\"])\n",
    "#     OrderType = str(d[\"OrderType\"])\n",
    "#     print(StratName, TimeFrame, dbTableLong, dbTableShort, ConsecutiveSignalBars, OrderType)\n",
    "#     print(RefInstrument)\n",
    "#     print(\"=============\")\n",
    "#     generate_cs(StratName, TimeFrame, RefInstrument, dbTableLong, dbTableShort, ConsecutiveSignalBars, OrderType)\n"
   ]
  },
  {
   "cell_type": "code",
   "execution_count": null,
   "metadata": {},
   "outputs": [],
   "source": []
  },
  {
   "cell_type": "code",
   "execution_count": null,
   "metadata": {},
   "outputs": [],
   "source": []
  }
 ],
 "metadata": {
  "kernelspec": {
   "display_name": "Python 3",
   "language": "python",
   "name": "python3"
  },
  "language_info": {
   "codemirror_mode": {
    "name": "ipython",
    "version": 3
   },
   "file_extension": ".py",
   "mimetype": "text/x-python",
   "name": "python",
   "nbconvert_exporter": "python",
   "pygments_lexer": "ipython3",
   "version": "3.6.7"
  }
 },
 "nbformat": 4,
 "nbformat_minor": 2
}
