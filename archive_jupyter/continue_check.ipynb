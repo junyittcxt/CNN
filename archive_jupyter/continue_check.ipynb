{
 "cells": [
  {
   "cell_type": "code",
   "execution_count": 43,
   "metadata": {},
   "outputs": [],
   "source": [
    "import pandas as pd\n",
    "import numpy as np\n",
    "\n",
    "import os\n",
    "pathmodel = \"//OFC-THR-LWS/DLOutput/C010B_D0H0M5_B_redo - Copy\"\n",
    "\n",
    "\n",
    "#def "
   ]
  },
  {
   "cell_type": "code",
   "execution_count": null,
   "metadata": {},
   "outputs": [],
   "source": []
  },
  {
   "cell_type": "code",
   "execution_count": 53,
   "metadata": {},
   "outputs": [],
   "source": [
    "asset_model_path = os.path.join(pathmodel, \"ASSETS_MODELS\")\n",
    "best_model_path = os.path.join(pathmodel, \"BESTMODEL\")\n",
    "best_signal_path = os.path.join(pathmodel, \"SIGNAL\")\n"
   ]
  },
  {
   "cell_type": "code",
   "execution_count": 63,
   "metadata": {
    "collapsed": true
   },
   "outputs": [],
   "source": [
    "def delete_f(path, target_col, remove_folder = False, show_err = False):\n",
    "    try:\n",
    "        files_to_delete = [j for j in os.listdir(path) if target_col in j]\n",
    "        for f in files_to_delete:\n",
    "            if remove_folder:\n",
    "                shutil.rmtree(os.path.join(path, f))\n",
    "            else:\n",
    "                os.remove(os.path.join(path, f))\n",
    "            print(\"Removed:\", os.path.join(path, f))\n",
    "    except Exception as err:\n",
    "            if show_err:\n",
    "                print(err)"
   ]
  },
  {
   "cell_type": "code",
   "execution_count": 65,
   "metadata": {},
   "outputs": [
    {
     "name": "stdout",
     "output_type": "stream",
     "text": [
      "Removed: //OFC-THR-LWS/DLOutput/C010B_D0H0M5_B_redo - Copy\\SIGNAL\\signal_XLE_False_1541984208.csv\n",
      "Removed: //OFC-THR-LWS/DLOutput/C010B_D0H0M5_B_redo - Copy\\ASSETS_MODELS\\XLE_1541984208\n"
     ]
    }
   ],
   "source": [
    "target_col = \"XLE\"\n",
    "delete_f(path = best_model_path, target_col = target_col, remove_folder = False)\n",
    "delete_f(path = best_signal_path, target_col = target_col, remove_folder = False)\n",
    "delete_f(path = asset_model_path, target_col = target_col, remove_folder = True)"
   ]
  },
  {
   "cell_type": "code",
   "execution_count": 62,
   "metadata": {},
   "outputs": [
    {
     "name": "stdout",
     "output_type": "stream",
     "text": [
      "Removed: //OFC-THR-LWS/DLOutput/C010B_D0H0M5_B_redo - Copy\\ASSETS_MODELS\\XLF_1541988494\n"
     ]
    }
   ],
   "source": [
    "import shutil\n",
    "\n",
    "model_to_delete = [j for j in os.listdir(best_model_path) if target_col in j]\n",
    "signal_to_delete = [j for j in os.listdir(best_signal_path) if target_col in j]\n",
    "folder_to_delete = [j for j in os.listdir(asset_model_path) if target_col in j]\n",
    "\n",
    "if os.path.exists(best_model_path) and os.path.exists(best_signal_path):\n",
    "    u1 = np.any([target_col in j for j in os.listdir(best_model_path)])\n",
    "    u2 = np.any([target_col in j for j in os.listdir(best_model_path)])\n",
    "    if (u1 and u2):\n",
    "        print(\"skip\")\n",
    "    else:\n",
    "        try:\n",
    "            for f in model_to_delete:\n",
    "                os.remove(os.path.join(best_model_path, f))\n",
    "                print(\"Removed:\", os.path.join(best_model_path, f))\n",
    "        except Exception as err:\n",
    "            \"\"\n",
    "            \n",
    "        try:\n",
    "            for f in signal_to_delete:\n",
    "                os.remove(os.path.join(best_signal_path, f))\n",
    "                print(\"Removed:\", os.path.join(best_signal_path, f))\n",
    "        except Exception as err:\n",
    "            \"\"\n",
    "            \n",
    "        try:\n",
    "            for f in folder_to_delete:\n",
    "                shutil.rmtree(os.path.join(asset_model_path, f))\n",
    "                print(\"Removed:\", os.path.join(asset_model_path, f))\n",
    "        except Exception as err:\n",
    "            \"\"\n",
    "            \n",
    "           \n",
    "            \n",
    "\n",
    "        \n",
    "\n",
    "        \"run\"\n",
    "else:\n",
    "    \"run\"\n"
   ]
  },
  {
   "cell_type": "code",
   "execution_count": 41,
   "metadata": {},
   "outputs": [
    {
     "data": {
      "text/plain": [
       "['AGG_1541821559']"
      ]
     },
     "execution_count": 41,
     "metadata": {},
     "output_type": "execute_result"
    }
   ],
   "source": []
  },
  {
   "cell_type": "code",
   "execution_count": 36,
   "metadata": {},
   "outputs": [
    {
     "data": {
      "text/plain": [
       "['signal_AGG_True_1541821559.csv']"
      ]
     },
     "execution_count": 36,
     "metadata": {},
     "output_type": "execute_result"
    }
   ],
   "source": [
    "signal_to_delete"
   ]
  },
  {
   "cell_type": "code",
   "execution_count": 52,
   "metadata": {},
   "outputs": [
    {
     "name": "stdout",
     "output_type": "stream",
     "text": [
      "asd\n"
     ]
    }
   ],
   "source": [
    "os.rmdir()"
   ]
  },
  {
   "cell_type": "code",
   "execution_count": null,
   "metadata": {
    "collapsed": true
   },
   "outputs": [],
   "source": []
  }
 ],
 "metadata": {
  "kernelspec": {
   "display_name": "Python 3",
   "language": "python",
   "name": "python3"
  },
  "language_info": {
   "codemirror_mode": {
    "name": "ipython",
    "version": 3
   },
   "file_extension": ".py",
   "mimetype": "text/x-python",
   "name": "python",
   "nbconvert_exporter": "python",
   "pygments_lexer": "ipython3",
   "version": "3.6.3"
  }
 },
 "nbformat": 4,
 "nbformat_minor": 2
}
