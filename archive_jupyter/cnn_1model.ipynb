{
 "cells": [
  {
   "cell_type": "code",
   "execution_count": 2,
   "metadata": {},
   "outputs": [
    {
     "name": "stderr",
     "output_type": "stream",
     "text": [
      "Using TensorFlow backend.\n"
     ]
    }
   ],
   "source": [
    "import optparse\n",
    "import pandas as pd\n",
    "import numpy as np\n",
    "from sklearn import preprocessing\n",
    "import tensorflow as tf\n",
    "import os, time, sys, sklearn\n",
    "from sklearn.externals import joblib\n",
    "from rnn_functions import *\n",
    "import time\n",
    "from keras.models import Sequential\n",
    "from keras.layers import Dense, Conv2D, Flatten, Dropout, MaxPooling2D\n",
    "import keras\n",
    "import os\n",
    "from sklearn.utils import class_weight\n",
    "os.environ[\"TF_MIN_GPU_MULTIPROCESSOR_COUNT\"] = \"4\"\n",
    "os.environ[\"CUDA_VISIBLE_DEVICES\"]=\"0\""
   ]
  },
  {
   "cell_type": "code",
   "execution_count": 3,
   "metadata": {},
   "outputs": [],
   "source": [
    "DATA_PARAMS = dict()        \n",
    "DATA_PARAMS[\"TARGET_TO_PREDICT\"] = \"AUDUSD\"\n",
    "DATA_PARAMS[\"FUTURE_PERIOD_PREDICT\"] = 5\n",
    "DATA_PARAMS[\"SEQ_LEN\"] = 60\n",
    "DATA_PARAMS[\"TARGET_THRESHOLD\"] = 0.001\n",
    "\n",
    "dirdata = os.path.join('cnn',DATA_PARAMS[\"TARGET_TO_PREDICT\"])\n",
    "init_dir(dirdata)"
   ]
  },
  {
   "cell_type": "code",
   "execution_count": 4,
   "metadata": {},
   "outputs": [],
   "source": [
    "assetdir = os.path.join(\"cnn\", DATA_PARAMS[\"TARGET_TO_PREDICT\"], \"data\")\n",
    "files = os.listdir(assetdir)\n",
    "vars_name = [j.split(\".\")[0] for j in files]\n",
    "\n",
    "j = 0\n",
    "for j in range(len(vars_name)):\n",
    "    exec(vars_name[j] + ' = joblib.load(os.path.join(assetdir, \"' + vars_name[j] + '.pkl\"))' )"
   ]
  },
  {
   "cell_type": "code",
   "execution_count": null,
   "metadata": {},
   "outputs": [],
   "source": [
    "EPOCHS = 200\n",
    "logs_folder = assetdir = os.path.join(\"cnn\", DATA_PARAMS[\"TARGET_TO_PREDICT\"], \"logs\")\n",
    "models_folder = assetdir = os.path.join(\"cnn\", DATA_PARAMS[\"TARGET_TO_PREDICT\"], \"models\")\n",
    "init_dir(logs_folder)\n",
    "init_dir(models_folder)\n",
    "class_weights = class_weight.compute_class_weight('balanced',\n",
    "                                                 np.unique(train_y),\n",
    "                                                 train_y)\n"
   ]
  },
  {
   "cell_type": "code",
   "execution_count": null,
   "metadata": {},
   "outputs": [],
   "source": [
    "t0 = time.time()\n",
    "\n",
    "model = Sequential()\n",
    "model.add(Conv2D(128, kernel_size=(15,1), activation='relu', input_shape=(train_x_shape[1],train_x_shape[2],1)))\n",
    "model.add(Conv2D(16, kernel_size=(2,1), activation='relu'))\n",
    "model.add(Flatten())\n",
    "model.add(Dense(1, activation='sigmoid'))\n",
    "\n",
    "adm = keras.optimizers.Adam(lr=0.0005, beta_1=0.9, beta_2=0.999, epsilon=None, amsgrad=False, decay = 1e-6)\n",
    "model.compile(optimizer=adm, loss='binary_crossentropy', metrics=['accuracy', precision])\n",
    "                                                                  \n",
    "tensorboard = TensorBoard(log_dir=logs_folder)\n",
    "filepath = \"CNN-{epoch:03d}-{val_loss:.4f}-{val_acc:.4f}\"\n",
    "checkpoint = tf.keras.callbacks.ModelCheckpoint(\"{}/{}.model\".format(models_folder, filepath),\n",
    "                                                   monitor='val_loss',\n",
    "                                                   verbose=1,\n",
    "                                                   save_best_only=True,\n",
    "                                                   save_weights_only=False,\n",
    "                                                   mode='min')\n",
    "earlystopping = tf.keras.callbacks.EarlyStopping(monitor='val_loss', min_delta=0, patience=int(EPOCHS/3), verbose=0, mode='min')\n",
    "        \n",
    "history = model.fit(train_x, train_y, batch_size=256, validation_data=(val_x, val_y), epochs=EPOCHS, class_weight=class_weights, callbacks=[tensorboard, checkpoint, earlystopping])\n",
    "\n",
    "t1 = time.time()\n"
   ]
  },
  {
   "cell_type": "code",
   "execution_count": null,
   "metadata": {},
   "outputs": [],
   "source": [
    "print(t1-t0)"
   ]
  },
  {
   "cell_type": "code",
   "execution_count": null,
   "metadata": {},
   "outputs": [],
   "source": []
  },
  {
   "cell_type": "code",
   "execution_count": null,
   "metadata": {},
   "outputs": [],
   "source": [
    "# x,y = train_x, train_y\n",
    "# x,y = val_x, val_y\n",
    "# x,y = test_x, test_y\n",
    "\n",
    "# y_true = []\n",
    "# y_score = []\n",
    "# for j in range(1000):\n",
    "#     t2,_ = reshape2(x[j:(j+1)])\n",
    "#     ypred = model.predict(t2)\n",
    "#     ypred = np.array(ypred).flatten()[0]\n",
    "#     ytrue = y[j]\n",
    "#     y_true.append(ytrue)\n",
    "#     y_score.append(ypred)\n",
    "\n",
    "def perf(x,y, t = 0.5):\n",
    "    xx, _ = reshape2(x)\n",
    "    ypred = model.predict(xx)\n",
    "    ypred = np.array(ypred).flatten()\n",
    "    ypred_bin = 1*(np.array(ypred) > t)\n",
    "    ytrue = y\n",
    "\n",
    "\n",
    "    # print(y_true)\n",
    "    # print(y_score)\n",
    "    print(\"n:\", len(y))\n",
    "    print(\"true: prop:\", np.mean(ytrue), \"n1:\", np.sum(ytrue))\n",
    "    print(\"pred: prop:\", np.mean(ypred_bin), \"n1:\", np.sum(ypred_bin))\n",
    "    cm = sklearn.metrics.confusion_matrix(ytrue, ypred_bin)\n",
    "    prec = sklearn.metrics.precision_score(ytrue, ypred_bin)\n",
    "    auc = sklearn.metrics.roc_auc_score(ytrue, np.array(ypred))\n",
    "    print(\"cm:\\n\",cm)\n",
    "    print(\"prec:\",prec)\n",
    "    print(\"auc:\", auc)"
   ]
  },
  {
   "cell_type": "code",
   "execution_count": null,
   "metadata": {},
   "outputs": [],
   "source": [
    "perf(train_x, train_y)"
   ]
  },
  {
   "cell_type": "code",
   "execution_count": null,
   "metadata": {},
   "outputs": [],
   "source": [
    "perf(val_x, val_y)\n"
   ]
  },
  {
   "cell_type": "code",
   "execution_count": null,
   "metadata": {},
   "outputs": [],
   "source": [
    "perf(test_x, test_y, t = 0.50)"
   ]
  },
  {
   "cell_type": "code",
   "execution_count": null,
   "metadata": {},
   "outputs": [],
   "source": []
  },
  {
   "cell_type": "code",
   "execution_count": null,
   "metadata": {},
   "outputs": [],
   "source": []
  }
 ],
 "metadata": {
  "kernelspec": {
   "display_name": "Python 3",
   "language": "python",
   "name": "python3"
  },
  "language_info": {
   "codemirror_mode": {
    "name": "ipython",
    "version": 3
   },
   "file_extension": ".py",
   "mimetype": "text/x-python",
   "name": "python",
   "nbconvert_exporter": "python",
   "pygments_lexer": "ipython3",
   "version": "3.6.6"
  }
 },
 "nbformat": 4,
 "nbformat_minor": 2
}
