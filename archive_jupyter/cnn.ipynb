{
 "cells": [
  {
   "cell_type": "code",
   "execution_count": 2,
   "metadata": {},
   "outputs": [
    {
     "name": "stderr",
     "output_type": "stream",
     "text": [
      "Using TensorFlow backend.\n"
     ]
    }
   ],
   "source": [
    "\n",
    "# sys.path.append(\"~/Desktop/RNN\")\n",
    "import optparse\n",
    "import pandas as pd\n",
    "import numpy as np\n",
    "from sklearn import preprocessing\n",
    "import tensorflow as tf\n",
    "import os, time, sys, sklearn\n",
    "from sklearn.externals import joblib\n",
    "from rnn_functions import *\n",
    "import time\n",
    "\n",
    "from keras.models import Sequential\n",
    "from keras.layers import Dense, Conv2D, Flatten, Dropout, MaxPooling2D\n",
    "import keras\n",
    "\n",
    "import os\n",
    "os.environ[\"TF_MIN_GPU_MULTIPROCESSOR_COUNT\"] = \"4\"\n",
    "os.environ[\"CUDA_VISIBLE_DEVICES\"]=\"0\"\n",
    "\n",
    "\n",
    "\n",
    "def pre_proc_and_dump_data(DATA_PARAMS):\n",
    "        NROWS = DATA_PARAMS[\"NROWS\"]\n",
    "        TARGET_TO_PREDICT = DATA_PARAMS[\"TARGET_TO_PREDICT\"]\n",
    "        FUTURE_PERIOD_PREDICT = DATA_PARAMS[\"FUTURE_PERIOD_PREDICT\"]\n",
    "        SEQ_LEN = DATA_PARAMS[\"SEQ_LEN\"]\n",
    "        SKIP = DATA_PARAMS[\"SKIP\"]\n",
    "        \n",
    "        \n",
    "\n",
    "        #Load\n",
    "        if NROWS <= 0:\n",
    "            df = pd.read_csv(\"./DATA/x_82_ETF_FOREX_5MIN_RETONLY.csv\")\n",
    "        else:\n",
    "            df = pd.read_csv(\"./DATA/x_82_ETF_FOREX_5MIN_RETONLY.csv\", nrows = NROWS)\n",
    "\n",
    "        df[\"Date\"] = pd.to_datetime(df[\"Date\"])\n",
    "        df = df.set_index(\"Date\")\n",
    "        print(\"Load: Done!\")\n",
    "\n",
    "        #Pre-process (target)\n",
    "        df = filter_off_trading_day(df, target = TARGET_TO_PREDICT, threshold = 0.1)\n",
    "        df = create_target(df, TARGET_TO_PREDICT, FUTURE_PERIOD_PREDICT, cumulative_returns)\n",
    "        df = classify_target(df, \"target\", 0.001, False)\n",
    "#         df = classify_target(df, \"target\", -0.001, True)\n",
    "        print(\"Pre-Process: Done!\")\n",
    "\n",
    "        #Split\n",
    "        prop = [0.6, 0.8, 0.9]\n",
    "        df_list_2 = split_df_by_prop(df, prop = prop)\n",
    "        startdates = [j.index[0] for j in df_list_2]\n",
    "        enddates = [j.index[-1] for j in df_list_2]\n",
    "\n",
    "        print([j.shape for j in df_list_2])\n",
    "        print(\"startdates:\", startdates)\n",
    "        print(\"enddates:\", enddates)\n",
    "        DATA_PARAMS[\"startdates\"] = startdates\n",
    "        DATA_PARAMS[\"enddates\"] = enddates\n",
    "        print(\"Split: Done!\")\n",
    "\n",
    "        #Scaling\n",
    "#         scaler = sklearn.preprocessing.StandardScaler()\n",
    "        scaler = sklearn.preprocessing.MinMaxScaler(feature_range = (0,1))\n",
    "        \n",
    "        train_x, train_y, scaler, x_columns, num_example_train, num_features_train = preprocess_returns_df(df=df_list_2[0], target_col = \"target\", scaler = scaler, SEQ_LEN = SEQ_LEN, fit = True, same_prop = False, shuffle = True)\n",
    "        val_x, val_y, _, _, num_example_val, num_features_val = preprocess_returns_df(df=df_list_2[1], target_col = \"target\", scaler = scaler, SEQ_LEN = SEQ_LEN, fit = False, same_prop = False, shuffle = False)\n",
    "        test_x, test_y, _, _, num_example_t, num_features_t = preprocess_returns_df(df=df_list_2[2], target_col = \"target\", scaler = scaler, SEQ_LEN = SEQ_LEN, fit = False, same_prop = False, shuffle = False)\n",
    "        \n",
    "        return train_x, train_y, val_x, val_y, test_x, test_y\n",
    "    \n",
    "def reshape2(x):\n",
    "    s = [j for j in x.shape]\n",
    "    x2 = x.reshape(s[0],s[1],s[2],1)\n",
    "    return x2, s\n",
    "    \n",
    "    \n"
   ]
  },
  {
   "cell_type": "code",
   "execution_count": 3,
   "metadata": {},
   "outputs": [],
   "source": [
    "# df = pd.read_csv(\"./DATA/x_82_ETF_FOREX_5MIN_RETONLY.csv\", nrows=10000, header=0,skiprows=[1])\n",
    "# df = pd.read_csv(\"./DATA/x_82_ETF_FOREX_5MIN_RETONLY.csv\", nrows=300000, header=0,skiprows=range(1,1))\n",
    "# df = pd.read_csv(\"./DATA/x_82_ETF_FOREX_5MIN_RETONLY.csv\", nrows=10000, header=0)"
   ]
  },
  {
   "cell_type": "code",
   "execution_count": 4,
   "metadata": {},
   "outputs": [
    {
     "name": "stdout",
     "output_type": "stream",
     "text": [
      "(770119, 51)\n"
     ]
    }
   ],
   "source": [
    "df = pd.read_csv(\"./DATA/x_82_ETF_FOREX_5MIN_RETONLY.csv\")\n",
    "print(df.shape)"
   ]
  },
  {
   "cell_type": "code",
   "execution_count": null,
   "metadata": {},
   "outputs": [],
   "source": [
    "DATA_PARAMS = dict()        \n",
    "DATA_PARAMS[\"NROWS\"] = 200000\n",
    "DATA_PARAMS[\"TARGET_TO_PREDICT\"] = \"AUDUSD\"\n",
    "DATA_PARAMS[\"FUTURE_PERIOD_PREDICT\"] = 12\n",
    "DATA_PARAMS[\"SEQ_LEN\"] = 60\n",
    "train_x, train_y, val_x, val_y, test_x, test_y = pre_proc_and_dump_data(DATA_PARAMS)"
   ]
  },
  {
   "cell_type": "code",
   "execution_count": null,
   "metadata": {},
   "outputs": [],
   "source": [
    "train_x, s_train = reshape2(train_x)\n",
    "val_x, s_train = reshape2(val_x)\n",
    "print(s_train)"
   ]
  },
  {
   "cell_type": "code",
   "execution_count": null,
   "metadata": {},
   "outputs": [],
   "source": [
    "import keras.backend as K\n",
    "def precision(y_true, y_pred):\n",
    "    \"\"\"Precision metric.\n",
    "\n",
    "    Only computes a batch-wise average of precision.\n",
    "\n",
    "    Computes the precision, a metric for multi-label classification of\n",
    "    how many selected items are relevant.\n",
    "    \"\"\"\n",
    "    true_positives = K.sum(K.round(K.clip(y_true * y_pred, 0, 1)))\n",
    "    predicted_positives = K.sum(K.round(K.clip(y_pred, 0, 1)))\n",
    "    precision = true_positives / (predicted_positives + K.epsilon())\n",
    "    return precision"
   ]
  },
  {
   "cell_type": "code",
   "execution_count": null,
   "metadata": {},
   "outputs": [],
   "source": [
    "from sklearn.utils import class_weight\n",
    "class_weights = class_weight.compute_class_weight('balanced',\n",
    "                                                 np.unique(train_y),\n",
    "                                                 train_y)\n",
    "class_weights"
   ]
  },
  {
   "cell_type": "code",
   "execution_count": null,
   "metadata": {},
   "outputs": [],
   "source": [
    "t0 = time.time()\n",
    "#create model\n",
    "model = Sequential()\n",
    "\n",
    "#add model layers\n",
    "model.add(Conv2D(128, kernel_size=(15,1), activation='relu', input_shape=(s_train[1],s_train[2],1)))\n",
    "# model.add(MaxPooling2D(pool_size = (2,2)))\n",
    "# model.add(Dropout(0.5))\n",
    "# model.add(Conv2D(64, kernel_size=(3,1), activation='relu'))\n",
    "# model.add(Conv2D(32, kernel_size=(2,1), activation='relu'))\n",
    "# model.add(Dropout(0.5))\n",
    "model.add(Conv2D(16, kernel_size=(2,1), activation='relu'))\n",
    "# model.add(Dropout(0.5))\n",
    "\n",
    "\n",
    "model.add(Flatten())\n",
    "model.add(Dense(1, activation='sigmoid'))\n",
    "\n",
    "adm = keras.optimizers.Adam(lr=0.0005, beta_1=0.9, beta_2=0.999, epsilon=None, decay=0.0, amsgrad=False)\n",
    "\n",
    "#compile model using accuracy to measure model performance\n",
    "model.compile(optimizer=adm, loss='binary_crossentropy', metrics=['accuracy', precision])\n",
    "#train the model\n",
    "model.fit(train_x, train_y, batch_size=256, validation_data=(val_x, val_y), epochs=15, class_weight=class_weights)\n",
    "\n",
    "t1 = time.time()\n"
   ]
  },
  {
   "cell_type": "code",
   "execution_count": null,
   "metadata": {},
   "outputs": [],
   "source": []
  },
  {
   "cell_type": "code",
   "execution_count": null,
   "metadata": {},
   "outputs": [],
   "source": [
    "print(t1-t0)"
   ]
  },
  {
   "cell_type": "code",
   "execution_count": null,
   "metadata": {},
   "outputs": [],
   "source": [
    "# x,y = train_x, train_y\n",
    "# x,y = val_x, val_y\n",
    "# x,y = test_x, test_y\n",
    "\n",
    "# y_true = []\n",
    "# y_score = []\n",
    "# for j in range(1000):\n",
    "#     t2,_ = reshape2(x[j:(j+1)])\n",
    "#     ypred = model.predict(t2)\n",
    "#     ypred = np.array(ypred).flatten()[0]\n",
    "#     ytrue = y[j]\n",
    "#     y_true.append(ytrue)\n",
    "#     y_score.append(ypred)\n",
    "\n",
    "def perf(x,y, t = 0.5):\n",
    "    xx, _ = reshape2(x)\n",
    "    ypred = model.predict(xx)\n",
    "    ypred = np.array(ypred).flatten()\n",
    "    ypred_bin = 1*(np.array(ypred) > t)\n",
    "    ytrue = y\n",
    "\n",
    "\n",
    "    # print(y_true)\n",
    "    # print(y_score)\n",
    "    print(\"n:\", len(y))\n",
    "    print(\"true: prop:\", np.mean(ytrue), \"n1:\", np.sum(ytrue))\n",
    "    print(\"pred: prop:\", np.mean(ypred_bin), \"n1:\", np.sum(ypred_bin))\n",
    "    cm = sklearn.metrics.confusion_matrix(ytrue, ypred_bin)\n",
    "    prec = sklearn.metrics.precision_score(ytrue, ypred_bin)\n",
    "    auc = sklearn.metrics.roc_auc_score(ytrue, np.array(ypred))\n",
    "    print(\"cm:\\n\",cm)\n",
    "    print(\"prec:\",prec)\n",
    "    print(\"auc:\", auc)"
   ]
  },
  {
   "cell_type": "code",
   "execution_count": null,
   "metadata": {},
   "outputs": [],
   "source": [
    "perf(train_x, train_y)"
   ]
  },
  {
   "cell_type": "code",
   "execution_count": null,
   "metadata": {},
   "outputs": [],
   "source": [
    "perf(val_x, val_y)\n"
   ]
  },
  {
   "cell_type": "code",
   "execution_count": null,
   "metadata": {},
   "outputs": [],
   "source": [
    "perf(test_x, test_y, t = 0.50)"
   ]
  },
  {
   "cell_type": "code",
   "execution_count": null,
   "metadata": {},
   "outputs": [],
   "source": []
  },
  {
   "cell_type": "code",
   "execution_count": null,
   "metadata": {},
   "outputs": [],
   "source": []
  },
  {
   "cell_type": "code",
   "execution_count": null,
   "metadata": {},
   "outputs": [],
   "source": []
  }
 ],
 "metadata": {
  "kernelspec": {
   "display_name": "Python 3",
   "language": "python",
   "name": "python3"
  },
  "language_info": {
   "codemirror_mode": {
    "name": "ipython",
    "version": 3
   },
   "file_extension": ".py",
   "mimetype": "text/x-python",
   "name": "python",
   "nbconvert_exporter": "python",
   "pygments_lexer": "ipython3",
   "version": "3.6.6"
  }
 },
 "nbformat": 4,
 "nbformat_minor": 2
}
