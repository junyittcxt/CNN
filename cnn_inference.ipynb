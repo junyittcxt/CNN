{
 "cells": [
  {
   "cell_type": "code",
   "execution_count": 1,
   "metadata": {},
   "outputs": [
    {
     "name": "stderr",
     "output_type": "stream",
     "text": [
      "Using TensorFlow backend.\n"
     ]
    }
   ],
   "source": [
    "import optparse\n",
    "import pandas as pd\n",
    "import numpy as np\n",
    "from sklearn import preprocessing\n",
    "import tensorflow as tf\n",
    "import os, time, sys, sklearn\n",
    "from sklearn.externals import joblib\n",
    "from rnn_functions import *\n",
    "import time\n",
    "from keras.models import Sequential\n",
    "from keras.layers import Dense, Conv2D, Flatten, Dropout, MaxPooling2D\n",
    "import keras\n",
    "import os\n",
    "from sklearn.utils import class_weight\n",
    "from performance_function import *\n",
    "\n",
    "os.environ[\"TF_MIN_GPU_MULTIPROCESSOR_COUNT\"] = \"4\"\n",
    "os.environ[\"CUDA_VISIBLE_DEVICES\"]=\"0\"\n",
    "config = tf.ConfigProto()\n",
    "config.gpu_options.allow_growth = True\n",
    "session = tf.Session(config=config)\n",
    "\n",
    "assetindex=1\n",
    "loss_method=0\n",
    "test_index=int(1)\n",
    "# optparser = optparse.OptionParser()\n",
    "# optparser.add_option(\"-a\", \"--assetindex\", default=0, help=\"assetindex\")\n",
    "# optparser.add_option(\"-l\", \"--lossmethod\", default=0, help=\"lossmethod\")\n",
    "# opts = optparser.parse_args()[0]\n",
    "# assetindex = int(opts.assetindex)\n",
    "# loss_method = opts.lossmethod\n",
    "possible_asset = ['AUDUSD', 'EURUSD', 'EURGBP', 'EURJPY', 'EWH', 'EWZ', 'FXI', 'IAU', 'EZU', 'KRE', 'LQD', 'NZDUSD', 'EEM', 'EFA',\n",
    " 'GDX', 'HYG', 'SPY', 'XLU', 'IYR', 'GLD', 'EWT', 'IEF', 'AGG', 'UNG', 'USDJPY', 'GBPUSD', 'USDCAD', 'SLV', 'RSX', 'EWJ', 'OIH',\n",
    " 'SMH', 'XLB', 'TLT', 'USDCHF', 'USO', 'XLF', 'XLK', 'XLP', 'XOP', 'VEA', 'VWO', 'XLE', 'XLI', 'XLV', 'XRT', 'XLY', 'VNQ', 'EWW', 'XBI']\n",
    "\n",
    "DATA_PARAMS = dict()\n",
    "DATA_PARAMS[\"TARGET_TO_PREDICT\"] = possible_asset[assetindex] #CHANGE THIS ONLY\n",
    "\n",
    "DATA_PARAMS[\"FUTURE_PERIOD_PREDICT\"] = 5\n",
    "DATA_PARAMS[\"SEQ_LEN\"] = 60\n",
    "DATA_PARAMS[\"TARGET_THRESHOLD\"] = 0.001\n"
   ]
  },
  {
   "cell_type": "code",
   "execution_count": null,
   "metadata": {},
   "outputs": [],
   "source": [
    "data_dir = os.path.join(\"cnn\", DATA_PARAMS[\"TARGET_TO_PREDICT\"], \"data\")\n",
    "test_data_dir = os.path.join(\"cnn\", DATA_PARAMS[\"TARGET_TO_PREDICT\"], \"data\", \"test\")\n",
    "if loss_method == \"0\":\n",
    "    models_folder = assetdir = os.path.join(\"cnn\", DATA_PARAMS[\"TARGET_TO_PREDICT\"], \"models_loss\")\n",
    "else:\n",
    "    models_folder = assetdir = os.path.join(\"cnn\", DATA_PARAMS[\"TARGET_TO_PREDICT\"], \"models_precision\")"
   ]
  },
  {
   "cell_type": "code",
   "execution_count": null,
   "metadata": {},
   "outputs": [],
   "source": [
    "files = [f for f in os.listdir(models_folder) if os.path.isfile(os.path.join(models_folder,f))]"
   ]
  },
  {
   "cell_type": "code",
   "execution_count": null,
   "metadata": {},
   "outputs": [],
   "source": [
    "max_index = np.argmax([int(f.split(\"-\")[1]) for f in files])\n",
    "best_model_file = files[max_index]"
   ]
  },
  {
   "cell_type": "code",
   "execution_count": null,
   "metadata": {},
   "outputs": [],
   "source": [
    "best_model_path = os.path.join(models_folder,best_model_file)"
   ]
  },
  {
   "cell_type": "code",
   "execution_count": null,
   "metadata": {},
   "outputs": [],
   "source": [
    "model = tf.keras.models.load_model(best_model_path,\n",
    "            custom_objects=None,\n",
    "            compile=False\n",
    "        )"
   ]
  },
  {
   "cell_type": "code",
   "execution_count": null,
   "metadata": {},
   "outputs": [],
   "source": [
    "if test_index == 0:\n",
    "    test_t = joblib.load(os.path.join(test_data_dir,\"test_t.pkl\"))\n",
    "    test_y = joblib.load(os.path.join(test_data_dir,\"test_y.pkl\"))\n",
    "    test_x = joblib.load(os.path.join(test_data_dir,\"test_x.pkl\"))\n",
    "    \n",
    "else:\n",
    "    test_t = joblib.load(os.path.join(test_data_dir,\"test2_t.pkl\"))\n",
    "    test_y = joblib.load(os.path.join(test_data_dir,\"test2_y.pkl\"))\n",
    "    test_x = joblib.load(os.path.join(test_data_dir,\"test2_x.pkl\"))\n",
    "    \n",
    "test_x, _ = reshape2(test_x)"
   ]
  },
  {
   "cell_type": "code",
   "execution_count": null,
   "metadata": {},
   "outputs": [],
   "source": [
    "raw_pred_y = model.predict(test_x)\n",
    "y_pred = np.array(raw_pred_y).flatten() \n",
    "perf(test_y, y_pred, t = 0.5)"
   ]
  },
  {
   "cell_type": "code",
   "execution_count": null,
   "metadata": {},
   "outputs": [],
   "source": [
    "signal_df = pd.DataFrame(dict(Date = test_t, raw_signal = y_pred))\n",
    "\n",
    "output_signal_dir = os.path.join(\"cnn\", DATA_PARAMS[\"TARGET_TO_PREDICT\"], \"signal\")\n",
    "init_dir(output_signal_dir)\n",
    "signal_filename = \"m{loss_method}_{test_index}_test_signal.csv\".format(loss_method=loss_method, test_index=test_index)\n",
    "signal_df.set_index(\"Date\").to_csv(os.path.join(output_signal_dir, signal_filename))\n",
    "\n"
   ]
  },
  {
   "cell_type": "code",
   "execution_count": 14,
   "metadata": {},
   "outputs": [],
   "source": [
    "if test_index == 1:\n",
    "    output_signal_dir = os.path.join(\"cnn\", DATA_PARAMS[\"TARGET_TO_PREDICT\"], \"signal\")\n",
    "    signal0_filename = \"m{loss_method}_{test_index}_test_signal.csv\".format(loss_method=loss_method, test_index=0)\n",
    "    signal1_filename = \"m{loss_method}_{test_index}_test_signal.csv\".format(loss_method=loss_method, test_index=1)\n",
    "    df_list = [pd.read_csv(os.path.join(output_signal_dir, j)) for j in [signal0_filename, signal1_filename]]\n",
    "    full_signal_df=pd.concat(df_list).set_index(\"Date\")\n",
    "    full_signal_df.to_csv(os.path.join(output_signal_dir, \"m{loss_method}_full_test_signal.csv\".format(loss_method=loss_method)))"
   ]
  },
  {
   "cell_type": "code",
   "execution_count": null,
   "metadata": {},
   "outputs": [],
   "source": []
  }
 ],
 "metadata": {
  "kernelspec": {
   "display_name": "Python 3",
   "language": "python",
   "name": "python3"
  },
  "language_info": {
   "codemirror_mode": {
    "name": "ipython",
    "version": 3
   },
   "file_extension": ".py",
   "mimetype": "text/x-python",
   "name": "python",
   "nbconvert_exporter": "python",
   "pygments_lexer": "ipython3",
   "version": "3.6.6"
  }
 },
 "nbformat": 4,
 "nbformat_minor": 2
}
