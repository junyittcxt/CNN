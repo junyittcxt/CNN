{
 "cells": [
  {
   "cell_type": "code",
   "execution_count": 1,
   "metadata": {},
   "outputs": [
    {
     "name": "stderr",
     "output_type": "stream",
     "text": [
      "Using TensorFlow backend.\n"
     ]
    }
   ],
   "source": [
    "import pandas as pd\n",
    "from cnn_method import *\n",
    "from cnn_preproc_function import *\n",
    "from inference_function import *\n",
    "import joblib\n"
   ]
  },
  {
   "cell_type": "code",
   "execution_count": 2,
   "metadata": {},
   "outputs": [
    {
     "name": "stdout",
     "output_type": "stream",
     "text": [
      "Load Data: Done!\n",
      "Load Data: Done!\n",
      "Load Data: Done!\n",
      "Load Data: Done!\n"
     ]
    }
   ],
   "source": [
    "for timeframe in [5, 15, 30, 60]:\n",
    "    raw_data_file = \"./DATA/PRICE_LIQUIDASSET_{t}_MIN.csv\".format(t = timeframe)\n",
    "    df = load_data(raw_data_file)\n",
    "    df = df.pct_change()\n",
    "    for target in df.columns:\n",
    "        df = add_time_column(df)\n",
    "        accepted_index = target_accepted_index(df, target)\n",
    "        file_name = \"{t}_{target}.pkl\".format(t = timeframe, target = target)\n",
    "        joblib.dump(accepted_index, os.path.join(\"MINUTE_INDEX\", file_name))"
   ]
  },
  {
   "cell_type": "code",
   "execution_count": 3,
   "metadata": {},
   "outputs": [],
   "source": [
    "# accepted_index = joblib.load(\"temp.pkl\")"
   ]
  },
  {
   "cell_type": "code",
   "execution_count": 4,
   "metadata": {},
   "outputs": [],
   "source": [
    "# filter_df_by_accepted_index(df, accepted_index)\n"
   ]
  }
 ],
 "metadata": {
  "kernelspec": {
   "display_name": "Python 3",
   "language": "python",
   "name": "python3"
  },
  "language_info": {
   "codemirror_mode": {
    "name": "ipython",
    "version": 3
   },
   "file_extension": ".py",
   "mimetype": "text/x-python",
   "name": "python",
   "nbconvert_exporter": "python",
   "pygments_lexer": "ipython3",
   "version": "3.6.6"
  }
 },
 "nbformat": 4,
 "nbformat_minor": 2
}
