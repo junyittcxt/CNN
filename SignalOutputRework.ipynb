{
 "cells": [
  {
   "cell_type": "code",
   "execution_count": null,
   "metadata": {},
   "outputs": [],
   "source": [
    "import numpy as np\n",
    "import pandas as pd\n",
    "import os\n",
    "import time\n",
    "import schedule\n",
    "import joblib\n",
    "import datetime\n",
    "import functools\n",
    "import multiprocessing as mp\n",
    "from get_strategy_meta import get_all_strategy_meta\n",
    "from query_api import get_path_dict, gen_connection, load_item_by_key, query_mysql\n",
    "from get_signal_mongo import write_signal_mongo, get_signal_mongo\n",
    "from mongo_functions import get_portfolio_db"
   ]
  },
  {
   "cell_type": "markdown",
   "metadata": {},
   "source": [
    "# Load Strategy Metadata from Google Sheet"
   ]
  },
  {
   "cell_type": "code",
   "execution_count": null,
   "metadata": {},
   "outputs": [],
   "source": [
    "running_on = \"Windows\"\n",
    "output_db = \"MLProduction\"\n",
    "output_coll = \"SignalOneLive\"\n",
    "input_db = \"Production\"\n",
    "input_coll = \"prices\"\n",
    "\n",
    "if running_on == \"Ubuntu\":\n",
    "    # # Running on Ubuntu Machine (OFC-THR-LWS)\n",
    "    strategy_meta_df = get_all_strategy_meta(wsheet = \"Accepted_Ubuntu\")\n",
    "else:\n",
    "    # Running on Windows Machine (OFC-FOU-WS)\n",
    "    # Make sure to Copy DLBatchOne_DeploymentKeyData folder to Desktop (from Z:/MLDeployment/DLBatchOne_DeploymentKeyData to C:/Users/Workstation/Desktop/DLBatchOne_DeploymentKeyData)\n",
    "    # Models/scaler etc. are in C:/Users/Workstation/Desktop/DLBatchOne_DeploymentKeyData/\n",
    "    strategy_meta_df = get_all_strategy_meta(wsheet = \"Accepted_Windows_Local\", credentials_path=\"C:/Users/Workstation/Desktop/DLBatchOne_DeploymentKeyData/GoogleProject/DeepLearningAlphaC.txt\")\n",
    "    \n",
    "sdf = strategy_meta_df.loc[~strategy_meta_df[\"Backtest Status\"].isin([\"Abandon\"])]\n",
    "sdf[\"TF\"] = sdf[\"TimeFrame\"].apply(lambda x: int(x.split(\"_\")[1]))\n",
    "sdf = sdf.sort_values(\"TF\")\n",
    "\n",
    "# To verify if Google API (to query metadata from Google Sheet) is working\n",
    "sdf.head(2)\n"
   ]
  },
  {
   "cell_type": "code",
   "execution_count": null,
   "metadata": {},
   "outputs": [],
   "source": [
    "def do_mongo_1(filter_tf, output_db, output_coll, input_db, input_coll):\n",
    "    # Wait 5 seconds for data to arrive.\n",
    "    time.sleep(5) \n",
    "    \n",
    "    # Signal inference based on latest date\n",
    "    query_date = datetime.datetime.now()\n",
    "\n",
    "    # Filter strategies\n",
    "    sdf2 = sdf.loc[sdf[\"TF\"].isin(filter_tf)]\n",
    "    ordered_strat_list = sdf2[\"Strategy\"].values\n",
    "    \n",
    "    for strat in ordered_strat_list:\n",
    "        print(\"Running Strategy: \", strat)\n",
    "        strategy_meta = sdf2.loc[sdf2[\"Strategy\"] == strat].to_dict(orient = \"records\")[0]\n",
    "        PATH_DICT = get_path_dict(strategy_meta)\n",
    "        keys = []\n",
    "        for k1, v1 in PATH_DICT.items():\n",
    "            for k2,v2 in v1.items():\n",
    "                keys.append(\"{}_{}\".format(k1, k2))\n",
    "        for key in keys:\n",
    "            p = mp.Process(target=write_signal_mongo, args=(query_date, PATH_DICT, key, strategy_meta, output_db, output_coll, input_db, input_coll))\n",
    "            p.start()\n",
    "            p.join()\n",
    "        print(\"Completed Strategy: \", strat)\n",
    "        \n",
    "def do_60_30_15_5(db_variant = \"4\", filter_tf = [5,15,30,60]):\n",
    "    do_mongo(filter_tf)\n",
    "\n",
    "def do_30_15_5(db_variant = \"4\", filter_tf = [5,15,30]):\n",
    "    do_mongo(filter_tf)\n",
    "        \n",
    "def do_15_5(db_variant = \"4\", filter_tf = [5,15]):\n",
    "    do_mongo(filter_tf)\n",
    "        \n",
    "def do_5(db_variant = \"4\", filter_tf = [5]):\n",
    "    do_mongo(filter_tf)\n",
    "    \n",
    "do_mongo = functools.partial(do_mongo_1, output_db = output_db, output_coll = output_coll, input_db = input_db, input_coll = input_coll)"
   ]
  },
  {
   "cell_type": "markdown",
   "metadata": {},
   "source": [
    "# Infer and Output ML Signal to MongoDB every 5 minutes"
   ]
  },
  {
   "cell_type": "code",
   "execution_count": null,
   "metadata": {},
   "outputs": [],
   "source": [
    "schedule.every(1).hour.at(':00').do(do_60_30_15_5)\n",
    "schedule.every(1).hour.at(':05').do(do_5)\n",
    "schedule.every(1).hour.at(':10').do(do_5)\n",
    "schedule.every(1).hour.at(':15').do(do_15_5)\n",
    "schedule.every(1).hour.at(':20').do(do_5)\n",
    "schedule.every(1).hour.at(':25').do(do_5)\n",
    "schedule.every(1).hour.at(':30').do(do_30_15_5)\n",
    "schedule.every(1).hour.at(':35').do(do_5)\n",
    "schedule.every(1).hour.at(':40').do(do_5)\n",
    "schedule.every(1).hour.at(':45').do(do_15_5)\n",
    "schedule.every(1).hour.at(':50').do(do_5)\n",
    "schedule.every(1).hour.at(':55').do(do_5)\n",
    "\n",
    "while 1:\n",
    "    schedule.run_pending()\n",
    "    time.sleep(1)"
   ]
  },
  {
   "cell_type": "markdown",
   "metadata": {},
   "source": [
    "# For Debugging"
   ]
  },
  {
   "cell_type": "code",
   "execution_count": null,
   "metadata": {},
   "outputs": [],
   "source": [
    "# For Debugging\n",
    "# PATH_DICT = get_path_dict(strategy_meta)\n",
    "# scaler, DATA_PARAMS, MODEL_PARAMS, model = load_item_by_key(PATH_DICT, \"s_VWO\", exclude_model = True)\n",
    "# MODEL_PARAMS"
   ]
  },
  {
   "cell_type": "code",
   "execution_count": null,
   "metadata": {},
   "outputs": [],
   "source": [
    "%%time\n",
    "# # For Debugging\n",
    "# do_mongo(filter_tf = [5,15,30,60])"
   ]
  },
  {
   "cell_type": "code",
   "execution_count": null,
   "metadata": {},
   "outputs": [],
   "source": [
    "# # For Debugging\n",
    "# filter_tf = [5]\n",
    "# sdf2 = sdf.loc[sdf[\"TF\"].isin(filter_tf)]\n",
    "# ordered_strat_list = sdf2[\"Strategy\"].values\n",
    "# query_date = datetime.datetime.now()\n",
    "# strat = ordered_strat_list[0]\n",
    "# print(\"Running Strategy: \", strat)\n",
    "# strategy_meta = sdf2.loc[sdf2[\"Strategy\"] == strat].to_dict(orient = \"records\")[0]\n",
    "# PATH_DICT = get_path_dict(strategy_meta)\n",
    "# key = \"s_AUDUSD\"\n",
    "# db = get_portfolio_db(\"MLProduction\")\n",
    "# output_coll = \"SignalOneBB41\"\n",
    "    \n",
    "# input_db = \"Production\"\n",
    "# input_coll = \"prices\"\n",
    "# write_signal_mongo(query_date, PATH_DICT, key, strategy_meta, db, output_coll, input_db, input_coll)"
   ]
  },
  {
   "cell_type": "code",
   "execution_count": null,
   "metadata": {},
   "outputs": [],
   "source": []
  },
  {
   "cell_type": "code",
   "execution_count": null,
   "metadata": {},
   "outputs": [],
   "source": []
  },
  {
   "cell_type": "code",
   "execution_count": null,
   "metadata": {},
   "outputs": [],
   "source": []
  }
 ],
 "metadata": {
  "kernelspec": {
   "display_name": "Python 3",
   "language": "python",
   "name": "python3"
  },
  "language_info": {
   "codemirror_mode": {
    "name": "ipython",
    "version": 3
   },
   "file_extension": ".py",
   "mimetype": "text/x-python",
   "name": "python",
   "nbconvert_exporter": "python",
   "pygments_lexer": "ipython3",
   "version": "3.6.7"
  }
 },
 "nbformat": 4,
 "nbformat_minor": 2
}
