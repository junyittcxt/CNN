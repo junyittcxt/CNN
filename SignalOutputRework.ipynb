{
 "cells": [
  {
   "cell_type": "code",
   "execution_count": 1,
   "metadata": {},
   "outputs": [
    {
     "name": "stderr",
     "output_type": "stream",
     "text": [
      "Using TensorFlow backend.\n"
     ]
    }
   ],
   "source": [
    "###### import numpy as np\n",
    "import pandas as pd\n",
    "import os\n",
    "import time\n",
    "import schedule\n",
    "import joblib\n",
    "import datetime\n",
    "import multiprocessing as mp\n",
    "from get_strategy_meta import get_all_strategy_meta\n",
    "from query_api import get_path_dict, gen_connection, load_item_by_key, query_mysql\n",
    "from get_signal_mongo import write_signal_mongo, get_signal_mongo\n",
    "from get_signal_mysql import write_signal, get_signal\n",
    "from mongo_functions import get_portfolio_db"
   ]
  },
  {
   "cell_type": "code",
   "execution_count": 2,
   "metadata": {},
   "outputs": [],
   "source": [
    "strategy_meta_df = get_all_strategy_meta(wsheet = \"Accepted_Ubuntu\")"
   ]
  },
  {
   "cell_type": "code",
   "execution_count": 3,
   "metadata": {},
   "outputs": [],
   "source": [
    "sdf = strategy_meta_df.loc[~strategy_meta_df[\"Backtest Status\"].isin([\"Abandon\"])]\n",
    "sdf[\"TF\"] = sdf[\"TimeFrame\"].apply(lambda x: int(x.split(\"_\")[1]))\n",
    "sdf = sdf.sort_values(\"TF\")\n",
    "# sdf\n"
   ]
  },
  {
   "cell_type": "code",
   "execution_count": 4,
   "metadata": {},
   "outputs": [],
   "source": [
    "strategy_meta = sdf.loc[sdf[\"Strategy\"] == \"1286\"].to_dict(orient = \"records\")[0]"
   ]
  },
  {
   "cell_type": "code",
   "execution_count": null,
   "metadata": {},
   "outputs": [],
   "source": [
    "# PATH_DICT = get_path_dict(strategy_meta)\n",
    "# scaler, DATA_PARAMS, MODEL_PARAMS, model = load_item_by_key(PATH_DICT, \"s_VWO\", exclude_model = True)\n",
    "# MODEL_PARAMS"
   ]
  },
  {
   "cell_type": "code",
   "execution_count": null,
   "metadata": {},
   "outputs": [],
   "source": [
    "def do(db_variant, filter_tf):\n",
    "    collection_name = \"SignalOneE1\"\n",
    "    \n",
    "    # Wait 5 seconds for data to arrive.\n",
    "    time.sleep(5) \n",
    "    \n",
    "    # Signal inference based on latest date\n",
    "    query_date = datetime.datetime.now()\n",
    "\n",
    "    # Initialize MongoDB (for writing signal)\n",
    "    db = get_portfolio_db()\n",
    "    \n",
    "    # Filter strategies\n",
    "    sdf2 = sdf.loc[sdf[\"TF\"].isin(filter_tf)]\n",
    "    ordered_strat_list = sdf2[\"Strategy\"].values\n",
    "    \n",
    "    for strat in ordered_strat_list:\n",
    "        print(\"Running Strategy: \", strat)\n",
    "        strategy_meta = sdf2.loc[sdf2[\"Strategy\"] == strat].to_dict(orient = \"records\")[0]\n",
    "        PATH_DICT = get_path_dict(strategy_meta)\n",
    "        keys = []\n",
    "        for k1, v1 in PATH_DICT.items():\n",
    "            for k2,v2 in v1.items():\n",
    "                keys.append(\"{}_{}\".format(k1, k2))\n",
    "        for key in keys:\n",
    "            p = mp.Process(target=write_signal, args=(query_date, db_variant, PATH_DICT, key, strategy_meta, db, collection_name))\n",
    "            p.start()\n",
    "            p.join()\n",
    "        print(\"Completed Strategy: \", strat)\n",
    "        \n",
    "def do_mongo(filter_tf):\n",
    "    output_db = \"MLProduction\"\n",
    "    output_coll = \"SignalOneBB3\"\n",
    "    \n",
    "    input_db = \"Production\"\n",
    "    input_coll = \"prices\"\n",
    "    \n",
    "    # Wait 5 seconds for data to arrive.\n",
    "    time.sleep(5) \n",
    "    \n",
    "    # Signal inference based on latest date\n",
    "    query_date = datetime.datetime.now()\n",
    "\n",
    "    # Initialize MongoDB (for writing signal)\n",
    "    db = get_portfolio_db(output_db)\n",
    "    \n",
    "    # Filter strategies\n",
    "    sdf2 = sdf.loc[sdf[\"TF\"].isin(filter_tf)]\n",
    "    ordered_strat_list = sdf2[\"Strategy\"].values\n",
    "    \n",
    "    for strat in ordered_strat_list:\n",
    "        print(\"Running Strategy: \", strat)\n",
    "        strategy_meta = sdf2.loc[sdf2[\"Strategy\"] == strat].to_dict(orient = \"records\")[0]\n",
    "        PATH_DICT = get_path_dict(strategy_meta)\n",
    "        keys = []\n",
    "        for k1, v1 in PATH_DICT.items():\n",
    "            for k2,v2 in v1.items():\n",
    "                keys.append(\"{}_{}\".format(k1, k2))\n",
    "        for key in keys:\n",
    "            p = mp.Process(target=write_signal_mongo, args=(query_date, PATH_DICT, key, strategy_meta, db, output_coll, input_db, input_coll))\n",
    "            p.start()\n",
    "            p.join()\n",
    "        print(\"Completed Strategy: \", strat)\n",
    "        \n",
    "def do_60_30_15_5(db_variant = \"4\", filter_tf = [5,15,30,60]):\n",
    "#     do(db_variant, filter_tf)\n",
    "    do_mongo(filter_tf)\n",
    "\n",
    "def do_30_15_5(db_variant = \"4\", filter_tf = [5,15,30]):\n",
    "    #     do(db_variant, filter_tf)\n",
    "    do_mongo(filter_tf)\n",
    "        \n",
    "def do_15_5(db_variant = \"4\", filter_tf = [5,15]):\n",
    "    #     do(db_variant, filter_tf)\n",
    "    do_mongo(filter_tf)\n",
    "        \n",
    "def do_5(db_variant = \"4\", filter_tf = [5]):\n",
    "    #     do(db_variant, filter_tf)\n",
    "    do_mongo(filter_tf)"
   ]
  },
  {
   "cell_type": "code",
   "execution_count": null,
   "metadata": {},
   "outputs": [],
   "source": [
    "# do(db_variant = \"7\", filter_tf = [15])\n",
    "\n"
   ]
  },
  {
   "cell_type": "code",
   "execution_count": null,
   "metadata": {},
   "outputs": [
    {
     "name": "stdout",
     "output_type": "stream",
     "text": [
      "CPU times: user 2 µs, sys: 1 µs, total: 3 µs\n",
      "Wall time: 6.68 µs\n"
     ]
    }
   ],
   "source": [
    "%%time\n",
    "# do_mongo(filter_tf = [5,15,30,60])"
   ]
  },
  {
   "cell_type": "code",
   "execution_count": null,
   "metadata": {},
   "outputs": [
    {
     "name": "stdout",
     "output_type": "stream",
     "text": [
      "Running Strategy:  1198\n",
      "Time elapsed: 0 hours 0 minutes 15 seconds\n",
      "Time elapsed: 0 hours 0 minutes 14 seconds\n",
      "Time elapsed: 0 hours 0 minutes 15 seconds\n",
      "Completed Strategy:  1198\n",
      "Running Strategy:  1300\n",
      "Time elapsed: 0 hours 0 minutes 16 seconds\n",
      "Time elapsed: 0 hours 0 minutes 15 seconds\n",
      "Completed Strategy:  1300\n",
      "Running Strategy:  1301\n",
      "Time elapsed: 0 hours 0 minutes 15 seconds\n",
      "Time elapsed: 0 hours 0 minutes 15 seconds\n",
      "Time elapsed: 0 hours 0 minutes 14 seconds\n",
      "Time elapsed: 0 hours 0 minutes 14 seconds\n",
      "Time elapsed: 0 hours 0 minutes 14 seconds\n",
      "Time elapsed: 0 hours 0 minutes 14 seconds\n",
      "Completed Strategy:  1301\n",
      "Running Strategy:  1198\n",
      "Time elapsed: 0 hours 0 minutes 14 seconds\n",
      "Time elapsed: 0 hours 0 minutes 14 seconds\n",
      "Time elapsed: 0 hours 0 minutes 14 seconds\n",
      "Completed Strategy:  1198\n",
      "Running Strategy:  1300\n",
      "Time elapsed: 0 hours 0 minutes 14 seconds\n",
      "Time elapsed: 0 hours 0 minutes 14 seconds\n",
      "Completed Strategy:  1300\n",
      "Running Strategy:  1301\n"
     ]
    }
   ],
   "source": [
    "\n",
    "schedule.every(1).hour.at(':00').do(do_60_30_15_5)\n",
    "schedule.every(1).hour.at(':05').do(do_5)\n",
    "schedule.every(1).hour.at(':10').do(do_5)\n",
    "schedule.every(1).hour.at(':15').do(do_15_5)\n",
    "schedule.every(1).hour.at(':20').do(do_5)\n",
    "schedule.every(1).hour.at(':25').do(do_5)\n",
    "schedule.every(1).hour.at(':30').do(do_30_15_5)\n",
    "schedule.every(1).hour.at(':35').do(do_5)\n",
    "schedule.every(1).hour.at(':40').do(do_5)\n",
    "schedule.every(1).hour.at(':45').do(do_15_5)\n",
    "schedule.every(1).hour.at(':50').do(do_5)\n",
    "schedule.every(1).hour.at(':55').do(do_5)\n",
    "\n",
    "while 1:\n",
    "    schedule.run_pending()\n",
    "    time.sleep(1)"
   ]
  },
  {
   "cell_type": "code",
   "execution_count": null,
   "metadata": {},
   "outputs": [],
   "source": []
  },
  {
   "cell_type": "code",
   "execution_count": null,
   "metadata": {},
   "outputs": [],
   "source": []
  },
  {
   "cell_type": "code",
   "execution_count": null,
   "metadata": {},
   "outputs": [],
   "source": []
  },
  {
   "cell_type": "code",
   "execution_count": null,
   "metadata": {},
   "outputs": [],
   "source": []
  },
  {
   "cell_type": "code",
   "execution_count": null,
   "metadata": {},
   "outputs": [],
   "source": []
  },
  {
   "cell_type": "code",
   "execution_count": null,
   "metadata": {},
   "outputs": [],
   "source": []
  }
 ],
 "metadata": {
  "kernelspec": {
   "display_name": "Python 3",
   "language": "python",
   "name": "python3"
  },
  "language_info": {
   "codemirror_mode": {
    "name": "ipython",
    "version": 3
   },
   "file_extension": ".py",
   "mimetype": "text/x-python",
   "name": "python",
   "nbconvert_exporter": "python",
   "pygments_lexer": "ipython3",
   "version": "3.6.7"
  }
 },
 "nbformat": 4,
 "nbformat_minor": 2
}
